{
  "nbformat": 4,
  "nbformat_minor": 0,
  "metadata": {
    "colab": {
      "provenance": []
    },
    "kernelspec": {
      "name": "python3",
      "display_name": "Python 3"
    },
    "language_info": {
      "name": "python"
    }
  },
  "cells": [
    {
      "cell_type": "code",
      "execution_count": null,
      "metadata": {
        "id": "0kjeNY3OLs5F"
      },
      "outputs": [],
      "source": [
        "import sklearn\n",
        "from sklearn.model_selection import cross_val_score\n",
        "from sklearn import metrics\n",
        "from sklearn.naive_bayes import GaussianNB\n",
        "from sklearn.metrics import cohen_kappa_score\n",
        "import numpy as np"
      ]
    },
    {
      "cell_type": "code",
      "source": [
        "import pickle"
      ],
      "metadata": {
        "id": "aLOHj41lLuXK"
      },
      "execution_count": null,
      "outputs": []
    },
    {
      "cell_type": "code",
      "source": [
        "with open('org_glv_w2v.pkl', 'rb') as file:\n",
        "  glv_vec = pickle.load(file)\n",
        "  w2v_vec = pickle.load(file)\n",
        "  y = pickle.load(file)\n",
        "  random_state = pickle.load(file)\n",
        "  test_size = pickle.load(file)\n",
        "file.close()"
      ],
      "metadata": {
        "id": "WFAmRiLdLz-r"
      },
      "execution_count": null,
      "outputs": []
    },
    {
      "cell_type": "code",
      "source": [
        "with open('org_gen_aug_glv.pkl', 'rb') as file:\n",
        "  new_x_train_glv = pickle.load(file)\n",
        "  new_y_train_glv = pickle.load(file)\n",
        "  aug_vec_glv = pickle.load(file)\n",
        "  aug_y_glv = pickle.load(file)\n",
        "file.close()"
      ],
      "metadata": {
        "id": "76Nl2Vo0L1vF"
      },
      "execution_count": null,
      "outputs": []
    },
    {
      "cell_type": "code",
      "source": [
        "from sklearn.model_selection import GridSearchCV, RandomizedSearchCV\n"
      ],
      "metadata": {
        "id": "XZJ7kEh9L3mA"
      },
      "execution_count": null,
      "outputs": []
    },
    {
      "cell_type": "code",
      "source": [
        "from sklearn.model_selection import StratifiedKFold\n",
        "from sklearn.model_selection import train_test_split"
      ],
      "metadata": {
        "id": "fSVfrtxmL5Wz"
      },
      "execution_count": null,
      "outputs": []
    },
    {
      "cell_type": "code",
      "source": [
        "X_train_glv, X_test_glv, y_train_glv, y_test_glv = train_test_split(glv_vec, y, test_size=0.25, random_state=41)\n"
      ],
      "metadata": {
        "id": "CiWNqhxQL60V"
      },
      "execution_count": null,
      "outputs": []
    },
    {
      "cell_type": "code",
      "source": [
        "from sklearn.model_selection import StratifiedKFold"
      ],
      "metadata": {
        "id": "LD6BWA9MH_XG"
      },
      "execution_count": null,
      "outputs": []
    },
    {
      "cell_type": "code",
      "source": [
        "from sklearn.naive_bayes import GaussianNB\n",
        "\n",
        "gnb = GaussianNB()\n",
        "xx = X_train_glv.squeeze(1)\n",
        "gnb.fit(xx, y_train_glv)\n",
        "p = gnb.predict(X_test_glv.squeeze(1))\n",
        "result_aug = cohen_kappa_score(y_test_glv, p,weights='quadratic')\n",
        "print(\"Kappa Score: {}\".format(result_aug))"
      ],
      "metadata": {
        "colab": {
          "base_uri": "https://localhost:8080/"
        },
        "id": "JxKbpEImMCAp",
        "outputId": "3a4c3dd8-37cf-4783-bf5f-c5523fe9fed1"
      },
      "execution_count": null,
      "outputs": [
        {
          "output_type": "stream",
          "name": "stdout",
          "text": [
            "Kappa Score: 0.6391998332010003\n"
          ]
        }
      ]
    },
    {
      "cell_type": "code",
      "source": [
        "_, new_x_test_glv, _, new_y_test_glv = train_test_split(new_x_train_glv, new_y_train_glv, test_size=0.25, random_state=41)\n",
        "xx = new_x_test_glv.squeeze(1)\n",
        "\n",
        "y_pred = gnb.predict(xx)\n",
        "\n",
        "result_aug = cohen_kappa_score(new_y_test_glv,y_pred,weights='quadratic')\n",
        "print(\"Kappa Score: {}\".format(result_aug))"
      ],
      "metadata": {
        "colab": {
          "base_uri": "https://localhost:8080/"
        },
        "id": "GWVxcdmsMU0y",
        "outputId": "2753e570-898d-4e63-f88d-7beb5b7e97ea"
      },
      "execution_count": null,
      "outputs": [
        {
          "output_type": "stream",
          "name": "stdout",
          "text": [
            "Kappa Score: 0.25932598323532086\n"
          ]
        }
      ]
    },
    {
      "cell_type": "code",
      "source": [
        "aug_x_tr, aug_x_ts, aug_y_tr, aug_y_ts = train_test_split(aug_vec_glv, aug_y_glv, test_size=0.2, random_state=41)\n",
        "xx = aug_x_tr.squeeze(1)\n",
        "gnb.fit(xx, aug_y_tr)\n",
        "p = gnb.predict(aug_x_ts.squeeze(1))\n",
        "result_aug = cohen_kappa_score(aug_y_ts, p,weights='quadratic')\n",
        "print(\"Kappa Score: {}\".format(result_aug))"
      ],
      "metadata": {
        "colab": {
          "base_uri": "https://localhost:8080/"
        },
        "id": "S3NE32TpMc_I",
        "outputId": "3d5a7bd5-3563-43c5-adbf-06e70e3ca900"
      },
      "execution_count": null,
      "outputs": [
        {
          "output_type": "stream",
          "name": "stdout",
          "text": [
            "Kappa Score: 0.6770552971184413\n"
          ]
        }
      ]
    },
    {
      "cell_type": "code",
      "source": [
        "xx = X_test_glv.squeeze(1)\n",
        "\n",
        "y_pred = gnb.predict(xx)\n",
        "\n",
        "result_aug = cohen_kappa_score(y_test_glv,y_pred,weights='quadratic')\n",
        "print(\"Kappa Score: {}\".format(result_aug))"
      ],
      "metadata": {
        "colab": {
          "base_uri": "https://localhost:8080/"
        },
        "id": "4Y3uKXKxMr1Z",
        "outputId": "f77a94ab-519d-47c4-9796-a6f2856608b2"
      },
      "execution_count": null,
      "outputs": [
        {
          "output_type": "stream",
          "name": "stdout",
          "text": [
            "Kappa Score: 0.6598071264957224\n"
          ]
        }
      ]
    },
    {
      "cell_type": "code",
      "source": [],
      "metadata": {
        "id": "wH6rpyZdJn9m"
      },
      "execution_count": null,
      "outputs": []
    }
  ]
}