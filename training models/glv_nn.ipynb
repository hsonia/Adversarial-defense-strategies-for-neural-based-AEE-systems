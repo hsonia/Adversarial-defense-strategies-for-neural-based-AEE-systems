{
  "nbformat": 4,
  "nbformat_minor": 0,
  "metadata": {
    "colab": {
      "provenance": []
    },
    "kernelspec": {
      "name": "python3",
      "display_name": "Python 3"
    },
    "language_info": {
      "name": "python"
    }
  },
  "cells": [
    {
      "cell_type": "code",
      "execution_count": null,
      "metadata": {
        "id": "Gy_t2PxIM2Ge"
      },
      "outputs": [],
      "source": [
        "import sklearn\n",
        "from keras.layers import LSTM, GRU, Dense, Dropout, Bidirectional\n",
        "from keras.models import Sequential\n",
        "from sklearn.model_selection import cross_val_score\n",
        "from sklearn import metrics\n",
        "from sklearn.metrics import cohen_kappa_score\n",
        "import numpy as np\n",
        "import pickle\n"
      ]
    },
    {
      "cell_type": "code",
      "source": [
        "with open('org_glv_w2v.pkl', 'rb') as file:\n",
        "  glv_vec = pickle.load(file)\n",
        "  w2v_vec = pickle.load(file)\n",
        "  y = pickle.load(file)\n",
        "  random_state = pickle.load(file)\n",
        "  test_size = pickle.load(file)\n",
        "file.close()"
      ],
      "metadata": {
        "id": "gQud0kx7NBXV"
      },
      "execution_count": null,
      "outputs": []
    },
    {
      "cell_type": "code",
      "source": [
        "with open('org_gen_aug_glv.pkl', 'rb') as file:\n",
        "  new_x_train_glv = pickle.load(file)\n",
        "  new_y_train_glv = pickle.load(file)\n",
        "  aug_vec_glv = pickle.load(file)\n",
        "  aug_y_glv = pickle.load(file)\n",
        "file.close()"
      ],
      "metadata": {
        "id": "n4Y9EHNVNDIa"
      },
      "execution_count": null,
      "outputs": []
    },
    {
      "cell_type": "code",
      "source": [
        "from sklearn.model_selection import RandomizedSearchCV\n"
      ],
      "metadata": {
        "id": "W8lkeSQONE7w"
      },
      "execution_count": null,
      "outputs": []
    },
    {
      "cell_type": "code",
      "source": [
        "from sklearn.model_selection import StratifiedKFold\n",
        "from sklearn.model_selection import train_test_split"
      ],
      "metadata": {
        "id": "JdPbt5qRNGpe"
      },
      "execution_count": null,
      "outputs": []
    },
    {
      "cell_type": "code",
      "source": [
        "X_train_glv, X_test_glv, y_train_glv, y_test_glv = train_test_split(glv_vec, y, test_size=0.25, random_state=41)"
      ],
      "metadata": {
        "id": "84ABTJrrNIK7"
      },
      "execution_count": null,
      "outputs": []
    },
    {
      "cell_type": "code",
      "source": [
        "def rnn(RNN, input_shape):\n",
        "  if RNN == 'LSTM': RNN = LSTM\n",
        "  elif RNN == 'GRU': RNN = GRU\n",
        "  \n",
        "  \"\"\"Define the model.\"\"\"\n",
        "  model = Sequential()\n",
        "  model.add(Bidirectional(RNN(input_shape[-1], dropout=0.4, recurrent_dropout=0.4, input_shape=[1, input_shape[-1]], return_sequences=True)))\n",
        "  model.add(Bidirectional(RNN(64, recurrent_dropout=0.4)))\n",
        "  model.add(Dropout(0.5))\n",
        "  model.add(Dense(1, activation='relu'))\n",
        "\n",
        "  model.compile(loss='mean_squared_error', optimizer='rmsprop', metrics=['mae'])\n",
        "  model.build(input_shape)\n",
        "  model.summary()\n",
        "\n",
        "  return model"
      ],
      "metadata": {
        "id": "Z6sqoZUANSqj"
      },
      "execution_count": null,
      "outputs": []
    },
    {
      "cell_type": "code",
      "source": [
        "rnn1 = rnn('GRU', X_train_glv.shape)\n",
        "rnn1.fit(X_train_glv, y_train_glv, batch_size=32, epochs=100)"
      ],
      "metadata": {
        "colab": {
          "base_uri": "https://localhost:8080/"
        },
        "id": "Uo1AF11TAG4s",
        "outputId": "fc67209b-9e2a-4e6c-83f6-8d17c1359e95"
      },
      "execution_count": null,
      "outputs": [
        {
          "output_type": "stream",
          "name": "stdout",
          "text": [
            "Model: \"sequential_2\"\n",
            "_________________________________________________________________\n",
            " Layer (type)                Output Shape              Param #   \n",
            "=================================================================\n",
            " bidirectional_4 (Bidirectio  (8037, 1, 100)           30600     \n",
            " nal)                                                            \n",
            "                                                                 \n",
            " bidirectional_5 (Bidirectio  (8037, 128)              63744     \n",
            " nal)                                                            \n",
            "                                                                 \n",
            " dropout_2 (Dropout)         (8037, 128)               0         \n",
            "                                                                 \n",
            " dense_2 (Dense)             (8037, 1)                 129       \n",
            "                                                                 \n",
            "=================================================================\n",
            "Total params: 94,473\n",
            "Trainable params: 94,473\n",
            "Non-trainable params: 0\n",
            "_________________________________________________________________\n",
            "Epoch 1/100\n",
            "252/252 [==============================] - 14s 11ms/step - loss: 1.1829 - mae: 0.8741\n",
            "Epoch 2/100\n",
            "252/252 [==============================] - 3s 11ms/step - loss: 0.9575 - mae: 0.7916\n",
            "Epoch 3/100\n",
            "252/252 [==============================] - 3s 11ms/step - loss: 0.8899 - mae: 0.7604\n",
            "Epoch 4/100\n",
            "252/252 [==============================] - 3s 11ms/step - loss: 0.8499 - mae: 0.7388\n",
            "Epoch 5/100\n",
            "252/252 [==============================] - 3s 11ms/step - loss: 0.8288 - mae: 0.7297\n",
            "Epoch 6/100\n",
            "252/252 [==============================] - 3s 11ms/step - loss: 0.8020 - mae: 0.7173\n",
            "Epoch 7/100\n",
            "252/252 [==============================] - 3s 11ms/step - loss: 0.7720 - mae: 0.7058\n",
            "Epoch 8/100\n",
            "252/252 [==============================] - 3s 10ms/step - loss: 0.7654 - mae: 0.6987\n",
            "Epoch 9/100\n",
            "252/252 [==============================] - 3s 11ms/step - loss: 0.7440 - mae: 0.6872\n",
            "Epoch 10/100\n",
            "252/252 [==============================] - 3s 11ms/step - loss: 0.7155 - mae: 0.6759\n",
            "Epoch 11/100\n",
            "252/252 [==============================] - 3s 11ms/step - loss: 0.7071 - mae: 0.6664\n",
            "Epoch 12/100\n",
            "252/252 [==============================] - 3s 11ms/step - loss: 0.6894 - mae: 0.6579\n",
            "Epoch 13/100\n",
            "252/252 [==============================] - 3s 11ms/step - loss: 0.6802 - mae: 0.6529\n",
            "Epoch 14/100\n",
            "252/252 [==============================] - 3s 11ms/step - loss: 0.6716 - mae: 0.6483\n",
            "Epoch 15/100\n",
            "252/252 [==============================] - 3s 14ms/step - loss: 0.6510 - mae: 0.6394\n",
            "Epoch 16/100\n",
            "252/252 [==============================] - 3s 14ms/step - loss: 0.6437 - mae: 0.6280\n",
            "Epoch 17/100\n",
            "252/252 [==============================] - 3s 11ms/step - loss: 0.6399 - mae: 0.6282\n",
            "Epoch 18/100\n",
            "252/252 [==============================] - 3s 11ms/step - loss: 0.6339 - mae: 0.6234\n",
            "Epoch 19/100\n",
            "252/252 [==============================] - 3s 11ms/step - loss: 0.6273 - mae: 0.6211\n",
            "Epoch 20/100\n",
            "252/252 [==============================] - 3s 11ms/step - loss: 0.6279 - mae: 0.6222\n",
            "Epoch 21/100\n",
            "252/252 [==============================] - 3s 11ms/step - loss: 0.6214 - mae: 0.6161\n",
            "Epoch 22/100\n",
            "252/252 [==============================] - 3s 11ms/step - loss: 0.6126 - mae: 0.6141\n",
            "Epoch 23/100\n",
            "252/252 [==============================] - 3s 12ms/step - loss: 0.6110 - mae: 0.6120\n",
            "Epoch 24/100\n",
            "252/252 [==============================] - 3s 11ms/step - loss: 0.6178 - mae: 0.6127\n",
            "Epoch 25/100\n",
            "252/252 [==============================] - 3s 11ms/step - loss: 0.6040 - mae: 0.6068\n",
            "Epoch 26/100\n",
            "252/252 [==============================] - 3s 11ms/step - loss: 0.5999 - mae: 0.6056\n",
            "Epoch 27/100\n",
            "252/252 [==============================] - 3s 11ms/step - loss: 0.6087 - mae: 0.6108\n",
            "Epoch 28/100\n",
            "252/252 [==============================] - 3s 12ms/step - loss: 0.5937 - mae: 0.6014\n",
            "Epoch 29/100\n",
            "252/252 [==============================] - 3s 11ms/step - loss: 0.5964 - mae: 0.6029\n",
            "Epoch 30/100\n",
            "252/252 [==============================] - 3s 11ms/step - loss: 0.6040 - mae: 0.6066\n",
            "Epoch 31/100\n",
            "252/252 [==============================] - 3s 11ms/step - loss: 0.5988 - mae: 0.6025\n",
            "Epoch 32/100\n",
            "252/252 [==============================] - 3s 11ms/step - loss: 0.5910 - mae: 0.5984\n",
            "Epoch 33/100\n",
            "252/252 [==============================] - 3s 12ms/step - loss: 0.6057 - mae: 0.6062\n",
            "Epoch 34/100\n",
            "252/252 [==============================] - 3s 11ms/step - loss: 0.5885 - mae: 0.5982\n",
            "Epoch 35/100\n",
            "252/252 [==============================] - 3s 11ms/step - loss: 0.5901 - mae: 0.6002\n",
            "Epoch 36/100\n",
            "252/252 [==============================] - 3s 10ms/step - loss: 0.5936 - mae: 0.6026\n",
            "Epoch 37/100\n",
            "252/252 [==============================] - 3s 10ms/step - loss: 0.5920 - mae: 0.6011\n",
            "Epoch 38/100\n",
            "252/252 [==============================] - 3s 11ms/step - loss: 0.5913 - mae: 0.5995\n",
            "Epoch 39/100\n",
            "252/252 [==============================] - 3s 11ms/step - loss: 0.5830 - mae: 0.5947\n",
            "Epoch 40/100\n",
            "252/252 [==============================] - 3s 11ms/step - loss: 0.5873 - mae: 0.5976\n",
            "Epoch 41/100\n",
            "252/252 [==============================] - 3s 11ms/step - loss: 0.5804 - mae: 0.5937\n",
            "Epoch 42/100\n",
            "252/252 [==============================] - 3s 11ms/step - loss: 0.5852 - mae: 0.5952\n",
            "Epoch 43/100\n",
            "252/252 [==============================] - 3s 11ms/step - loss: 0.5867 - mae: 0.5990\n",
            "Epoch 44/100\n",
            "252/252 [==============================] - 3s 11ms/step - loss: 0.5788 - mae: 0.5923\n",
            "Epoch 45/100\n",
            "252/252 [==============================] - 3s 11ms/step - loss: 0.5881 - mae: 0.5971\n",
            "Epoch 46/100\n",
            "252/252 [==============================] - 3s 11ms/step - loss: 0.5824 - mae: 0.5970\n",
            "Epoch 47/100\n",
            "252/252 [==============================] - 3s 11ms/step - loss: 0.5863 - mae: 0.5969\n",
            "Epoch 48/100\n",
            "252/252 [==============================] - 3s 11ms/step - loss: 0.5818 - mae: 0.5953\n",
            "Epoch 49/100\n",
            "252/252 [==============================] - 3s 11ms/step - loss: 0.5918 - mae: 0.5990\n",
            "Epoch 50/100\n",
            "252/252 [==============================] - 3s 11ms/step - loss: 0.5833 - mae: 0.5948\n",
            "Epoch 51/100\n",
            "252/252 [==============================] - 3s 11ms/step - loss: 0.5828 - mae: 0.5966\n",
            "Epoch 52/100\n",
            "252/252 [==============================] - 3s 11ms/step - loss: 0.5692 - mae: 0.5852\n",
            "Epoch 53/100\n",
            "252/252 [==============================] - 3s 12ms/step - loss: 0.5801 - mae: 0.5952\n",
            "Epoch 54/100\n",
            "252/252 [==============================] - 3s 11ms/step - loss: 0.5812 - mae: 0.5939\n",
            "Epoch 55/100\n",
            "252/252 [==============================] - 3s 12ms/step - loss: 0.5766 - mae: 0.5908\n",
            "Epoch 56/100\n",
            "252/252 [==============================] - 3s 11ms/step - loss: 0.5777 - mae: 0.5912\n",
            "Epoch 57/100\n",
            "252/252 [==============================] - 3s 11ms/step - loss: 0.5734 - mae: 0.5884\n",
            "Epoch 58/100\n",
            "252/252 [==============================] - 3s 12ms/step - loss: 0.5769 - mae: 0.5937\n",
            "Epoch 59/100\n",
            "252/252 [==============================] - 3s 11ms/step - loss: 0.5787 - mae: 0.5936\n",
            "Epoch 60/100\n",
            "252/252 [==============================] - 3s 12ms/step - loss: 0.5671 - mae: 0.5839\n",
            "Epoch 61/100\n",
            "252/252 [==============================] - 3s 11ms/step - loss: 0.5715 - mae: 0.5874\n",
            "Epoch 62/100\n",
            "252/252 [==============================] - 3s 11ms/step - loss: 0.5745 - mae: 0.5897\n",
            "Epoch 63/100\n",
            "252/252 [==============================] - 3s 11ms/step - loss: 0.5713 - mae: 0.5880\n",
            "Epoch 64/100\n",
            "252/252 [==============================] - 3s 11ms/step - loss: 0.5720 - mae: 0.5883\n",
            "Epoch 65/100\n",
            "252/252 [==============================] - 3s 12ms/step - loss: 0.5697 - mae: 0.5861\n",
            "Epoch 66/100\n",
            "252/252 [==============================] - 3s 11ms/step - loss: 0.5688 - mae: 0.5855\n",
            "Epoch 67/100\n",
            "252/252 [==============================] - 3s 11ms/step - loss: 0.5698 - mae: 0.5842\n",
            "Epoch 68/100\n",
            "252/252 [==============================] - 3s 12ms/step - loss: 0.5762 - mae: 0.5914\n",
            "Epoch 69/100\n",
            "252/252 [==============================] - 3s 11ms/step - loss: 0.5699 - mae: 0.5847\n",
            "Epoch 70/100\n",
            "252/252 [==============================] - 3s 11ms/step - loss: 0.5688 - mae: 0.5869\n",
            "Epoch 71/100\n",
            "252/252 [==============================] - 3s 11ms/step - loss: 0.5742 - mae: 0.5929\n",
            "Epoch 72/100\n",
            "252/252 [==============================] - 3s 11ms/step - loss: 0.5700 - mae: 0.5864\n",
            "Epoch 73/100\n",
            "252/252 [==============================] - 3s 12ms/step - loss: 0.5652 - mae: 0.5868\n",
            "Epoch 74/100\n",
            "252/252 [==============================] - 3s 11ms/step - loss: 0.5725 - mae: 0.5885\n",
            "Epoch 75/100\n",
            "252/252 [==============================] - 3s 11ms/step - loss: 0.5657 - mae: 0.5836\n",
            "Epoch 76/100\n",
            "252/252 [==============================] - 4s 16ms/step - loss: 0.5635 - mae: 0.5838\n",
            "Epoch 77/100\n",
            "252/252 [==============================] - 3s 11ms/step - loss: 0.5679 - mae: 0.5848\n",
            "Epoch 78/100\n",
            "252/252 [==============================] - 3s 11ms/step - loss: 0.5616 - mae: 0.5832\n",
            "Epoch 79/100\n",
            "252/252 [==============================] - 3s 11ms/step - loss: 0.5621 - mae: 0.5816\n",
            "Epoch 80/100\n",
            "252/252 [==============================] - 3s 11ms/step - loss: 0.5667 - mae: 0.5842\n",
            "Epoch 81/100\n",
            "252/252 [==============================] - 3s 11ms/step - loss: 0.5648 - mae: 0.5846\n",
            "Epoch 82/100\n",
            "252/252 [==============================] - 3s 11ms/step - loss: 0.5683 - mae: 0.5866\n",
            "Epoch 83/100\n",
            "252/252 [==============================] - 3s 11ms/step - loss: 0.5625 - mae: 0.5827\n",
            "Epoch 84/100\n",
            "252/252 [==============================] - 3s 12ms/step - loss: 0.5575 - mae: 0.5788\n",
            "Epoch 85/100\n",
            "252/252 [==============================] - 3s 12ms/step - loss: 0.5608 - mae: 0.5821\n",
            "Epoch 86/100\n",
            "252/252 [==============================] - 3s 12ms/step - loss: 0.5614 - mae: 0.5830\n",
            "Epoch 87/100\n",
            "252/252 [==============================] - 3s 12ms/step - loss: 0.5614 - mae: 0.5817\n",
            "Epoch 88/100\n",
            "252/252 [==============================] - 3s 11ms/step - loss: 0.5644 - mae: 0.5860\n",
            "Epoch 89/100\n",
            "252/252 [==============================] - 3s 12ms/step - loss: 0.5545 - mae: 0.5760\n",
            "Epoch 90/100\n",
            "252/252 [==============================] - 3s 12ms/step - loss: 0.5688 - mae: 0.5873\n",
            "Epoch 91/100\n",
            "252/252 [==============================] - 3s 12ms/step - loss: 0.5605 - mae: 0.5819\n",
            "Epoch 92/100\n",
            "252/252 [==============================] - 3s 11ms/step - loss: 0.5567 - mae: 0.5794\n",
            "Epoch 93/100\n",
            "252/252 [==============================] - 3s 12ms/step - loss: 0.5604 - mae: 0.5817\n",
            "Epoch 94/100\n",
            "252/252 [==============================] - 3s 11ms/step - loss: 0.5577 - mae: 0.5819\n",
            "Epoch 95/100\n",
            "252/252 [==============================] - 3s 11ms/step - loss: 0.5567 - mae: 0.5814\n",
            "Epoch 96/100\n",
            "252/252 [==============================] - 3s 11ms/step - loss: 0.5560 - mae: 0.5788\n",
            "Epoch 97/100\n",
            "252/252 [==============================] - 3s 11ms/step - loss: 0.5566 - mae: 0.5808\n",
            "Epoch 98/100\n",
            "252/252 [==============================] - 3s 11ms/step - loss: 0.5567 - mae: 0.5803\n",
            "Epoch 99/100\n",
            "252/252 [==============================] - 3s 11ms/step - loss: 0.5597 - mae: 0.5800\n",
            "Epoch 100/100\n",
            "252/252 [==============================] - 3s 11ms/step - loss: 0.5533 - mae: 0.5767\n"
          ]
        },
        {
          "output_type": "execute_result",
          "data": {
            "text/plain": [
              "<keras.callbacks.History at 0x7f089ec5e760>"
            ]
          },
          "metadata": {},
          "execution_count": 21
        }
      ]
    },
    {
      "cell_type": "code",
      "source": [
        "rnn1 = rnn('LSTM', X_train_glv.shape)\n",
        "rnn1.fit(X_train_glv, y_train_glv, batch_size=64, epochs=100)"
      ],
      "metadata": {
        "colab": {
          "base_uri": "https://localhost:8080/"
        },
        "id": "xN47aHgsuoo7",
        "outputId": "42698b56-0bf1-4e0f-bb4b-e9d9a73d749c"
      },
      "execution_count": null,
      "outputs": [
        {
          "output_type": "stream",
          "name": "stdout",
          "text": [
            "Model: \"sequential\"\n",
            "_________________________________________________________________\n",
            " Layer (type)                Output Shape              Param #   \n",
            "=================================================================\n",
            " bidirectional (Bidirectiona  (8037, 1, 100)           40400     \n",
            " l)                                                              \n",
            "                                                                 \n",
            " bidirectional_1 (Bidirectio  (8037, 128)              84480     \n",
            " nal)                                                            \n",
            "                                                                 \n",
            " dropout (Dropout)           (8037, 128)               0         \n",
            "                                                                 \n",
            " dense (Dense)               (8037, 1)                 129       \n",
            "                                                                 \n",
            "=================================================================\n",
            "Total params: 125,009\n",
            "Trainable params: 125,009\n",
            "Non-trainable params: 0\n",
            "_________________________________________________________________\n",
            "Epoch 1/100\n",
            "126/126 [==============================] - 15s 12ms/step - loss: 1.3371 - mae: 0.9160\n",
            "Epoch 2/100\n",
            "126/126 [==============================] - 2s 12ms/step - loss: 0.9241 - mae: 0.7778\n",
            "Epoch 3/100\n",
            "126/126 [==============================] - 2s 13ms/step - loss: 0.8762 - mae: 0.7593\n",
            "Epoch 4/100\n",
            "126/126 [==============================] - 2s 18ms/step - loss: 0.8379 - mae: 0.7371\n",
            "Epoch 5/100\n",
            "126/126 [==============================] - 2s 12ms/step - loss: 0.8171 - mae: 0.7298\n",
            "Epoch 6/100\n",
            "126/126 [==============================] - 2s 12ms/step - loss: 0.7940 - mae: 0.7161\n",
            "Epoch 7/100\n",
            "126/126 [==============================] - 2s 12ms/step - loss: 0.7671 - mae: 0.7020\n",
            "Epoch 8/100\n",
            "126/126 [==============================] - 2s 12ms/step - loss: 0.7670 - mae: 0.7022\n",
            "Epoch 9/100\n",
            "126/126 [==============================] - 2s 12ms/step - loss: 0.7502 - mae: 0.6893\n",
            "Epoch 10/100\n",
            "126/126 [==============================] - 2s 13ms/step - loss: 0.7394 - mae: 0.6864\n",
            "Epoch 11/100\n",
            "126/126 [==============================] - 2s 12ms/step - loss: 0.7302 - mae: 0.6822\n",
            "Epoch 12/100\n",
            "126/126 [==============================] - 2s 13ms/step - loss: 0.7261 - mae: 0.6788\n",
            "Epoch 13/100\n",
            "126/126 [==============================] - 2s 12ms/step - loss: 0.7220 - mae: 0.6773\n",
            "Epoch 14/100\n",
            "126/126 [==============================] - 2s 12ms/step - loss: 0.6991 - mae: 0.6624\n",
            "Epoch 15/100\n",
            "126/126 [==============================] - 2s 12ms/step - loss: 0.6921 - mae: 0.6606\n",
            "Epoch 16/100\n",
            "126/126 [==============================] - 2s 12ms/step - loss: 0.6790 - mae: 0.6557\n",
            "Epoch 17/100\n",
            "126/126 [==============================] - 2s 12ms/step - loss: 0.6718 - mae: 0.6477\n",
            "Epoch 18/100\n",
            "126/126 [==============================] - 2s 13ms/step - loss: 0.6540 - mae: 0.6396\n",
            "Epoch 19/100\n",
            "126/126 [==============================] - 2s 12ms/step - loss: 0.6659 - mae: 0.6423\n",
            "Epoch 20/100\n",
            "126/126 [==============================] - 2s 12ms/step - loss: 0.6516 - mae: 0.6355\n",
            "Epoch 21/100\n",
            "126/126 [==============================] - 2s 12ms/step - loss: 0.6414 - mae: 0.6307\n",
            "Epoch 22/100\n",
            "126/126 [==============================] - 2s 12ms/step - loss: 0.6370 - mae: 0.6273\n",
            "Epoch 23/100\n",
            "126/126 [==============================] - 2s 12ms/step - loss: 0.6346 - mae: 0.6259\n",
            "Epoch 24/100\n",
            "126/126 [==============================] - 2s 12ms/step - loss: 0.6207 - mae: 0.6152\n",
            "Epoch 25/100\n",
            "126/126 [==============================] - 2s 12ms/step - loss: 0.6141 - mae: 0.6168\n",
            "Epoch 26/100\n",
            "126/126 [==============================] - 2s 12ms/step - loss: 0.6262 - mae: 0.6194\n",
            "Epoch 27/100\n",
            "126/126 [==============================] - 2s 12ms/step - loss: 0.6041 - mae: 0.6085\n",
            "Epoch 28/100\n",
            "126/126 [==============================] - 2s 12ms/step - loss: 0.6054 - mae: 0.6080\n",
            "Epoch 29/100\n",
            "126/126 [==============================] - 2s 12ms/step - loss: 0.6011 - mae: 0.6071\n",
            "Epoch 30/100\n",
            "126/126 [==============================] - 2s 12ms/step - loss: 0.6045 - mae: 0.6091\n",
            "Epoch 31/100\n",
            "126/126 [==============================] - 1s 12ms/step - loss: 0.5968 - mae: 0.6022\n",
            "Epoch 32/100\n",
            "126/126 [==============================] - 2s 12ms/step - loss: 0.6025 - mae: 0.6048\n",
            "Epoch 33/100\n",
            "126/126 [==============================] - 2s 12ms/step - loss: 0.5873 - mae: 0.5964\n",
            "Epoch 34/100\n",
            "126/126 [==============================] - 1s 12ms/step - loss: 0.5924 - mae: 0.6022\n",
            "Epoch 35/100\n",
            "126/126 [==============================] - 2s 12ms/step - loss: 0.5889 - mae: 0.5995\n",
            "Epoch 36/100\n",
            "126/126 [==============================] - 2s 12ms/step - loss: 0.5865 - mae: 0.5986\n",
            "Epoch 37/100\n",
            "126/126 [==============================] - 2s 12ms/step - loss: 0.5888 - mae: 0.5982\n",
            "Epoch 38/100\n",
            "126/126 [==============================] - 2s 15ms/step - loss: 0.5922 - mae: 0.6005\n",
            "Epoch 39/100\n",
            "126/126 [==============================] - 2s 12ms/step - loss: 0.5832 - mae: 0.5925\n",
            "Epoch 40/100\n",
            "126/126 [==============================] - 2s 12ms/step - loss: 0.5876 - mae: 0.5956\n",
            "Epoch 41/100\n",
            "126/126 [==============================] - 2s 12ms/step - loss: 0.5751 - mae: 0.5900\n",
            "Epoch 42/100\n",
            "126/126 [==============================] - 2s 12ms/step - loss: 0.5817 - mae: 0.5929\n",
            "Epoch 43/100\n",
            "126/126 [==============================] - 2s 12ms/step - loss: 0.5824 - mae: 0.5924\n",
            "Epoch 44/100\n",
            "126/126 [==============================] - 2s 17ms/step - loss: 0.5766 - mae: 0.5947\n",
            "Epoch 45/100\n",
            "126/126 [==============================] - 2s 12ms/step - loss: 0.5763 - mae: 0.5883\n",
            "Epoch 46/100\n",
            "126/126 [==============================] - 2s 12ms/step - loss: 0.5762 - mae: 0.5897\n",
            "Epoch 47/100\n",
            "126/126 [==============================] - 2s 12ms/step - loss: 0.5765 - mae: 0.5899\n",
            "Epoch 48/100\n",
            "126/126 [==============================] - 2s 12ms/step - loss: 0.5712 - mae: 0.5875\n",
            "Epoch 49/100\n",
            "126/126 [==============================] - 2s 15ms/step - loss: 0.5754 - mae: 0.5876\n",
            "Epoch 50/100\n",
            "126/126 [==============================] - 2s 12ms/step - loss: 0.5660 - mae: 0.5850\n",
            "Epoch 51/100\n",
            "126/126 [==============================] - 2s 12ms/step - loss: 0.5763 - mae: 0.5900\n",
            "Epoch 52/100\n",
            "126/126 [==============================] - 2s 12ms/step - loss: 0.5834 - mae: 0.5920\n",
            "Epoch 53/100\n",
            "126/126 [==============================] - 2s 12ms/step - loss: 0.5720 - mae: 0.5907\n",
            "Epoch 54/100\n",
            "126/126 [==============================] - 2s 12ms/step - loss: 0.5746 - mae: 0.5897\n",
            "Epoch 55/100\n",
            "126/126 [==============================] - 2s 12ms/step - loss: 0.5731 - mae: 0.5889\n",
            "Epoch 56/100\n",
            "126/126 [==============================] - 2s 12ms/step - loss: 0.5728 - mae: 0.5900\n",
            "Epoch 57/100\n",
            "126/126 [==============================] - 2s 13ms/step - loss: 0.5665 - mae: 0.5857\n",
            "Epoch 58/100\n",
            "126/126 [==============================] - 2s 13ms/step - loss: 0.5650 - mae: 0.5841\n",
            "Epoch 59/100\n",
            "126/126 [==============================] - 2s 12ms/step - loss: 0.5725 - mae: 0.5879\n",
            "Epoch 60/100\n",
            "126/126 [==============================] - 2s 12ms/step - loss: 0.5690 - mae: 0.5866\n",
            "Epoch 61/100\n",
            "126/126 [==============================] - 2s 12ms/step - loss: 0.5688 - mae: 0.5836\n",
            "Epoch 62/100\n",
            "126/126 [==============================] - 2s 12ms/step - loss: 0.5582 - mae: 0.5825\n",
            "Epoch 63/100\n",
            "126/126 [==============================] - 2s 12ms/step - loss: 0.5659 - mae: 0.5846\n",
            "Epoch 64/100\n",
            "126/126 [==============================] - 2s 12ms/step - loss: 0.5637 - mae: 0.5822\n",
            "Epoch 65/100\n",
            "126/126 [==============================] - 1s 12ms/step - loss: 0.5705 - mae: 0.5862\n",
            "Epoch 66/100\n",
            "126/126 [==============================] - 2s 12ms/step - loss: 0.5670 - mae: 0.5820\n",
            "Epoch 67/100\n",
            "126/126 [==============================] - 2s 12ms/step - loss: 0.5670 - mae: 0.5832\n",
            "Epoch 68/100\n",
            "126/126 [==============================] - 2s 12ms/step - loss: 0.5613 - mae: 0.5815\n",
            "Epoch 69/100\n",
            "126/126 [==============================] - 2s 12ms/step - loss: 0.5645 - mae: 0.5845\n",
            "Epoch 70/100\n",
            "126/126 [==============================] - 2s 12ms/step - loss: 0.5691 - mae: 0.5840\n",
            "Epoch 71/100\n",
            "126/126 [==============================] - 2s 12ms/step - loss: 0.5652 - mae: 0.5826\n",
            "Epoch 72/100\n",
            "126/126 [==============================] - 2s 12ms/step - loss: 0.5704 - mae: 0.5889\n",
            "Epoch 73/100\n",
            "126/126 [==============================] - 2s 12ms/step - loss: 0.5619 - mae: 0.5818\n",
            "Epoch 74/100\n",
            "126/126 [==============================] - 2s 12ms/step - loss: 0.5686 - mae: 0.5867\n",
            "Epoch 75/100\n",
            "126/126 [==============================] - 2s 12ms/step - loss: 0.5617 - mae: 0.5815\n",
            "Epoch 76/100\n",
            "126/126 [==============================] - 2s 12ms/step - loss: 0.5568 - mae: 0.5786\n",
            "Epoch 77/100\n",
            "126/126 [==============================] - 2s 12ms/step - loss: 0.5625 - mae: 0.5832\n",
            "Epoch 78/100\n",
            "126/126 [==============================] - 2s 12ms/step - loss: 0.5614 - mae: 0.5818\n",
            "Epoch 79/100\n",
            "126/126 [==============================] - 2s 12ms/step - loss: 0.5611 - mae: 0.5817\n",
            "Epoch 80/100\n",
            "126/126 [==============================] - 2s 12ms/step - loss: 0.5631 - mae: 0.5815\n",
            "Epoch 81/100\n",
            "126/126 [==============================] - 2s 12ms/step - loss: 0.5561 - mae: 0.5790\n",
            "Epoch 82/100\n",
            "126/126 [==============================] - 2s 12ms/step - loss: 0.5595 - mae: 0.5790\n",
            "Epoch 83/100\n",
            "126/126 [==============================] - 2s 12ms/step - loss: 0.5554 - mae: 0.5782\n",
            "Epoch 84/100\n",
            "126/126 [==============================] - 2s 13ms/step - loss: 0.5586 - mae: 0.5810\n",
            "Epoch 85/100\n",
            "126/126 [==============================] - 2s 12ms/step - loss: 0.5638 - mae: 0.5816\n",
            "Epoch 86/100\n",
            "126/126 [==============================] - 2s 12ms/step - loss: 0.5584 - mae: 0.5811\n",
            "Epoch 87/100\n",
            "126/126 [==============================] - 2s 12ms/step - loss: 0.5616 - mae: 0.5794\n",
            "Epoch 88/100\n",
            "126/126 [==============================] - 2s 12ms/step - loss: 0.5542 - mae: 0.5795\n",
            "Epoch 89/100\n",
            "126/126 [==============================] - 2s 12ms/step - loss: 0.5589 - mae: 0.5794\n",
            "Epoch 90/100\n",
            "126/126 [==============================] - 2s 12ms/step - loss: 0.5477 - mae: 0.5745\n",
            "Epoch 91/100\n",
            "126/126 [==============================] - 2s 15ms/step - loss: 0.5569 - mae: 0.5801\n",
            "Epoch 92/100\n",
            "126/126 [==============================] - 2s 15ms/step - loss: 0.5585 - mae: 0.5802\n",
            "Epoch 93/100\n",
            "126/126 [==============================] - 2s 12ms/step - loss: 0.5492 - mae: 0.5741\n",
            "Epoch 94/100\n",
            "126/126 [==============================] - 2s 12ms/step - loss: 0.5485 - mae: 0.5748\n",
            "Epoch 95/100\n",
            "126/126 [==============================] - 2s 12ms/step - loss: 0.5627 - mae: 0.5812\n",
            "Epoch 96/100\n",
            "126/126 [==============================] - 2s 12ms/step - loss: 0.5541 - mae: 0.5777\n",
            "Epoch 97/100\n",
            "126/126 [==============================] - 2s 12ms/step - loss: 0.5566 - mae: 0.5790\n",
            "Epoch 98/100\n",
            "126/126 [==============================] - 2s 12ms/step - loss: 0.5616 - mae: 0.5812\n",
            "Epoch 99/100\n",
            "126/126 [==============================] - 2s 13ms/step - loss: 0.5553 - mae: 0.5791\n",
            "Epoch 100/100\n",
            "126/126 [==============================] - 2s 13ms/step - loss: 0.5523 - mae: 0.5790\n"
          ]
        },
        {
          "output_type": "execute_result",
          "data": {
            "text/plain": [
              "<keras.callbacks.History at 0x7fdfc9ecf160>"
            ]
          },
          "metadata": {},
          "execution_count": 10
        }
      ]
    },
    {
      "cell_type": "code",
      "source": [
        "def test_rnn_model(model, x_test, y_test):\n",
        "  y_pred = model.predict(x_test)\n",
        "  y_pred = np.around(y_pred)\n",
        "\n",
        "  result_aug = cohen_kappa_score(y_test,y_pred,weights='quadratic')\n",
        "  print(\"Kappa Score: {}\".format(result_aug))"
      ],
      "metadata": {
        "id": "bGj_BdI_NjBR"
      },
      "execution_count": null,
      "outputs": []
    },
    {
      "cell_type": "code",
      "source": [
        "#LSTM\n",
        "test_rnn_model(rnn1, X_test_glv, y_test_glv)"
      ],
      "metadata": {
        "colab": {
          "base_uri": "https://localhost:8080/"
        },
        "id": "jIvTfVfUu78j",
        "outputId": "6a0b2062-dd1b-463c-bf47-7c1dffe9f7ff"
      },
      "execution_count": null,
      "outputs": [
        {
          "output_type": "stream",
          "name": "stdout",
          "text": [
            "84/84 [==============================] - 2s 5ms/step\n",
            "Kappa Score: 0.6966068923949904\n"
          ]
        }
      ]
    },
    {
      "cell_type": "code",
      "source": [
        "#GRU\n",
        "test_rnn_model(rnn1, X_test_glv, y_test_glv)"
      ],
      "metadata": {
        "colab": {
          "base_uri": "https://localhost:8080/"
        },
        "id": "AowBrfmAAQ66",
        "outputId": "236dde10-8077-48c5-ec3a-0affce07486f"
      },
      "execution_count": null,
      "outputs": [
        {
          "output_type": "stream",
          "name": "stdout",
          "text": [
            "84/84 [==============================] - 2s 4ms/step\n",
            "Kappa Score: 0.7012565233891114\n"
          ]
        }
      ]
    },
    {
      "cell_type": "code",
      "source": [
        "_, new_x_test_glv, _, new_y_test_glv = train_test_split(new_x_train_glv, new_y_train_glv, test_size=0.25)"
      ],
      "metadata": {
        "id": "isymJCyAwVS5"
      },
      "execution_count": null,
      "outputs": []
    },
    {
      "cell_type": "code",
      "source": [
        "#LSTM\n",
        "test_rnn_model(rnn1, new_x_test_glv, new_y_test_glv)"
      ],
      "metadata": {
        "colab": {
          "base_uri": "https://localhost:8080/"
        },
        "id": "oMTKoDfYwitK",
        "outputId": "e78b5962-c3c3-4e45-94eb-32fa225f93d2"
      },
      "execution_count": null,
      "outputs": [
        {
          "output_type": "stream",
          "name": "stdout",
          "text": [
            "67/67 [==============================] - 0s 3ms/step\n",
            "Kappa Score: 0.0718160004233811\n"
          ]
        }
      ]
    },
    {
      "cell_type": "code",
      "source": [
        "#GRU\n",
        "test_rnn_model(rnn1, new_x_test_glv, new_y_test_glv)"
      ],
      "metadata": {
        "colab": {
          "base_uri": "https://localhost:8080/"
        },
        "id": "1dm0EdqCAXsp",
        "outputId": "26fac66e-4dfb-4b4b-d7da-dc50b9fc227d"
      },
      "execution_count": null,
      "outputs": [
        {
          "output_type": "stream",
          "name": "stdout",
          "text": [
            "65/65 [==============================] - 0s 3ms/step\n",
            "Kappa Score: 0.6920043769200634\n"
          ]
        }
      ]
    },
    {
      "cell_type": "code",
      "source": [
        "aug_x_tr, aug_x_ts, aug_y_tr, aug_y_ts = train_test_split(aug_vec_glv, aug_y_glv, test_size=0.2)"
      ],
      "metadata": {
        "id": "fQkIn-7Qwv_V"
      },
      "execution_count": null,
      "outputs": []
    },
    {
      "cell_type": "code",
      "source": [
        "def rnn(RNN, input_shape):\n",
        "  if RNN == 'LSTM': RNN = LSTM\n",
        "  elif RNN == 'GRU': RNN = GRU\n",
        "  \n",
        "  \"\"\"Define the model.\"\"\"\n",
        "  model = Sequential()\n",
        "  model.add(Bidirectional(RNN(input_shape[-1], dropout=0.2, recurrent_dropout=0.2, input_shape=[1, input_shape[-1]], return_sequences=True)))\n",
        "  model.add(Bidirectional(RNN(64, recurrent_dropout=0.2)))\n",
        "  model.add(Dropout(0.2))\n",
        "  model.add(Dense(1, activation='relu'))\n",
        "\n",
        "  model.compile(loss='mean_squared_error', optimizer='rmsprop', metrics=['mae'])\n",
        "  model.build(input_shape)\n",
        "  model.summary()\n",
        "\n",
        "  return model"
      ],
      "metadata": {
        "id": "VqdtnHT8HpHD"
      },
      "execution_count": null,
      "outputs": []
    },
    {
      "cell_type": "code",
      "source": [
        "rnn = rnn('LSTM', aug_x_tr.shape)\n",
        "rnn.fit(aug_x_tr, y_train_glv, batch_size=64, epochs=100)"
      ],
      "metadata": {
        "colab": {
          "base_uri": "https://localhost:8080/"
        },
        "id": "VAwpdaV6wnVO",
        "outputId": "adb1e5f5-0346-440c-bf35-f7db599db3a9"
      },
      "execution_count": null,
      "outputs": [
        {
          "output_type": "stream",
          "name": "stdout",
          "text": [
            "Model: \"sequential_1\"\n",
            "_________________________________________________________________\n",
            " Layer (type)                Output Shape              Param #   \n",
            "=================================================================\n",
            " bidirectional_2 (Bidirectio  (13245, 1, 100)          40400     \n",
            " nal)                                                            \n",
            "                                                                 \n",
            " bidirectional_3 (Bidirectio  (13245, 128)             84480     \n",
            " nal)                                                            \n",
            "                                                                 \n",
            " dropout_1 (Dropout)         (13245, 128)              0         \n",
            "                                                                 \n",
            " dense_1 (Dense)             (13245, 1)                129       \n",
            "                                                                 \n",
            "=================================================================\n",
            "Total params: 125,009\n",
            "Trainable params: 125,009\n",
            "Non-trainable params: 0\n",
            "_________________________________________________________________\n",
            "Epoch 1/100\n",
            "207/207 [==============================] - 15s 12ms/step - loss: 0.8762 - mae: 0.7175\n",
            "Epoch 2/100\n",
            "207/207 [==============================] - 4s 18ms/step - loss: 0.6603 - mae: 0.6346\n",
            "Epoch 3/100\n",
            "207/207 [==============================] - 3s 13ms/step - loss: 0.6163 - mae: 0.6147\n",
            "Epoch 4/100\n",
            "207/207 [==============================] - 3s 12ms/step - loss: 0.5855 - mae: 0.5974\n",
            "Epoch 5/100\n",
            "207/207 [==============================] - 3s 12ms/step - loss: 0.5663 - mae: 0.5902\n",
            "Epoch 6/100\n",
            "207/207 [==============================] - 2s 12ms/step - loss: 0.5469 - mae: 0.5774\n",
            "Epoch 7/100\n",
            "207/207 [==============================] - 2s 12ms/step - loss: 0.5410 - mae: 0.5717\n",
            "Epoch 8/100\n",
            "207/207 [==============================] - 2s 12ms/step - loss: 0.5135 - mae: 0.5599\n",
            "Epoch 9/100\n",
            "207/207 [==============================] - 2s 12ms/step - loss: 0.5054 - mae: 0.5518\n",
            "Epoch 10/100\n",
            "207/207 [==============================] - 2s 12ms/step - loss: 0.4990 - mae: 0.5458\n",
            "Epoch 11/100\n",
            "207/207 [==============================] - 2s 12ms/step - loss: 0.4972 - mae: 0.5430\n",
            "Epoch 12/100\n",
            "207/207 [==============================] - 2s 12ms/step - loss: 0.4835 - mae: 0.5355\n",
            "Epoch 13/100\n",
            "207/207 [==============================] - 2s 12ms/step - loss: 0.4773 - mae: 0.5323\n",
            "Epoch 14/100\n",
            "207/207 [==============================] - 2s 12ms/step - loss: 0.4604 - mae: 0.5197\n",
            "Epoch 15/100\n",
            "207/207 [==============================] - 2s 12ms/step - loss: 0.4503 - mae: 0.5126\n",
            "Epoch 16/100\n",
            "207/207 [==============================] - 3s 12ms/step - loss: 0.4453 - mae: 0.5102\n",
            "Epoch 17/100\n",
            "207/207 [==============================] - 2s 12ms/step - loss: 0.4393 - mae: 0.5055\n",
            "Epoch 18/100\n",
            "207/207 [==============================] - 2s 12ms/step - loss: 0.4341 - mae: 0.5031\n",
            "Epoch 19/100\n",
            "207/207 [==============================] - 2s 12ms/step - loss: 0.4373 - mae: 0.5038\n",
            "Epoch 20/100\n",
            "207/207 [==============================] - 2s 12ms/step - loss: 0.4342 - mae: 0.5008\n",
            "Epoch 21/100\n",
            "207/207 [==============================] - 2s 12ms/step - loss: 0.4330 - mae: 0.4994\n",
            "Epoch 22/100\n",
            "207/207 [==============================] - 2s 12ms/step - loss: 0.4320 - mae: 0.4999\n",
            "Epoch 23/100\n",
            "207/207 [==============================] - 2s 12ms/step - loss: 0.4315 - mae: 0.4999\n",
            "Epoch 24/100\n",
            "207/207 [==============================] - 2s 12ms/step - loss: 0.4244 - mae: 0.4947\n",
            "Epoch 25/100\n",
            "207/207 [==============================] - 3s 14ms/step - loss: 0.4186 - mae: 0.4924\n",
            "Epoch 26/100\n",
            "207/207 [==============================] - 3s 14ms/step - loss: 0.4219 - mae: 0.4937\n",
            "Epoch 27/100\n",
            "207/207 [==============================] - 2s 12ms/step - loss: 0.4225 - mae: 0.4941\n",
            "Epoch 28/100\n",
            "207/207 [==============================] - 2s 12ms/step - loss: 0.4217 - mae: 0.4928\n",
            "Epoch 29/100\n",
            "207/207 [==============================] - 2s 12ms/step - loss: 0.4211 - mae: 0.4918\n",
            "Epoch 30/100\n",
            "207/207 [==============================] - 3s 12ms/step - loss: 0.4128 - mae: 0.4844\n",
            "Epoch 31/100\n",
            "207/207 [==============================] - 3s 16ms/step - loss: 0.4183 - mae: 0.4896\n",
            "Epoch 32/100\n",
            "207/207 [==============================] - 5s 22ms/step - loss: 0.4144 - mae: 0.4876\n",
            "Epoch 33/100\n",
            "207/207 [==============================] - 2s 12ms/step - loss: 0.4157 - mae: 0.4880\n",
            "Epoch 34/100\n",
            "207/207 [==============================] - 3s 15ms/step - loss: 0.4192 - mae: 0.4895\n",
            "Epoch 35/100\n",
            "207/207 [==============================] - 5s 26ms/step - loss: 0.4174 - mae: 0.4883\n",
            "Epoch 36/100\n",
            "207/207 [==============================] - 2s 12ms/step - loss: 0.4125 - mae: 0.4843\n",
            "Epoch 37/100\n",
            "207/207 [==============================] - 2s 12ms/step - loss: 0.4162 - mae: 0.4876\n",
            "Epoch 38/100\n",
            "207/207 [==============================] - 2s 12ms/step - loss: 0.4186 - mae: 0.4885\n",
            "Epoch 39/100\n",
            "207/207 [==============================] - 2s 12ms/step - loss: 0.4128 - mae: 0.4848\n",
            "Epoch 40/100\n",
            "207/207 [==============================] - 2s 12ms/step - loss: 0.4107 - mae: 0.4855\n",
            "Epoch 41/100\n",
            "207/207 [==============================] - 3s 12ms/step - loss: 0.4121 - mae: 0.4853\n",
            "Epoch 42/100\n",
            "207/207 [==============================] - 2s 12ms/step - loss: 0.4123 - mae: 0.4852\n",
            "Epoch 43/100\n",
            "207/207 [==============================] - 3s 12ms/step - loss: 0.4095 - mae: 0.4839\n",
            "Epoch 44/100\n",
            "207/207 [==============================] - 4s 20ms/step - loss: 0.4170 - mae: 0.4888\n",
            "Epoch 45/100\n",
            "207/207 [==============================] - 3s 15ms/step - loss: 0.4110 - mae: 0.4853\n",
            "Epoch 46/100\n",
            "207/207 [==============================] - 6s 28ms/step - loss: 0.4081 - mae: 0.4835\n",
            "Epoch 47/100\n",
            "207/207 [==============================] - 5s 22ms/step - loss: 0.4121 - mae: 0.4848\n",
            "Epoch 48/100\n",
            "207/207 [==============================] - 3s 15ms/step - loss: 0.4051 - mae: 0.4810\n",
            "Epoch 49/100\n",
            "207/207 [==============================] - 2s 12ms/step - loss: 0.4097 - mae: 0.4836\n",
            "Epoch 50/100\n",
            "207/207 [==============================] - 2s 12ms/step - loss: 0.4118 - mae: 0.4820\n",
            "Epoch 51/100\n",
            "207/207 [==============================] - 2s 12ms/step - loss: 0.4100 - mae: 0.4833\n",
            "Epoch 52/100\n",
            "207/207 [==============================] - 2s 12ms/step - loss: 0.4083 - mae: 0.4821\n",
            "Epoch 53/100\n",
            "207/207 [==============================] - 2s 12ms/step - loss: 0.4087 - mae: 0.4800\n",
            "Epoch 54/100\n",
            "207/207 [==============================] - 2s 12ms/step - loss: 0.4057 - mae: 0.4791\n",
            "Epoch 55/100\n",
            "207/207 [==============================] - 2s 12ms/step - loss: 0.4071 - mae: 0.4795\n",
            "Epoch 56/100\n",
            "207/207 [==============================] - 3s 12ms/step - loss: 0.4082 - mae: 0.4788\n",
            "Epoch 57/100\n",
            "207/207 [==============================] - 2s 12ms/step - loss: 0.4072 - mae: 0.4793\n",
            "Epoch 58/100\n",
            "207/207 [==============================] - 3s 12ms/step - loss: 0.4071 - mae: 0.4794\n",
            "Epoch 59/100\n",
            "207/207 [==============================] - 3s 12ms/step - loss: 0.4077 - mae: 0.4795\n",
            "Epoch 60/100\n",
            "207/207 [==============================] - 3s 12ms/step - loss: 0.4044 - mae: 0.4781\n",
            "Epoch 61/100\n",
            "207/207 [==============================] - 2s 12ms/step - loss: 0.4000 - mae: 0.4757\n",
            "Epoch 62/100\n",
            "207/207 [==============================] - 3s 12ms/step - loss: 0.4007 - mae: 0.4762\n",
            "Epoch 63/100\n",
            "207/207 [==============================] - 2s 12ms/step - loss: 0.4041 - mae: 0.4785\n",
            "Epoch 64/100\n",
            "207/207 [==============================] - 2s 12ms/step - loss: 0.4021 - mae: 0.4758\n",
            "Epoch 65/100\n",
            "207/207 [==============================] - 2s 12ms/step - loss: 0.4015 - mae: 0.4783\n",
            "Epoch 66/100\n",
            "207/207 [==============================] - 3s 12ms/step - loss: 0.4081 - mae: 0.4798\n",
            "Epoch 67/100\n",
            "207/207 [==============================] - 3s 12ms/step - loss: 0.4037 - mae: 0.4776\n",
            "Epoch 68/100\n",
            "207/207 [==============================] - 3s 12ms/step - loss: 0.4019 - mae: 0.4754\n",
            "Epoch 69/100\n",
            "207/207 [==============================] - 3s 14ms/step - loss: 0.4039 - mae: 0.4762\n",
            "Epoch 70/100\n",
            "207/207 [==============================] - 2s 12ms/step - loss: 0.4043 - mae: 0.4779\n",
            "Epoch 71/100\n",
            "207/207 [==============================] - 2s 12ms/step - loss: 0.4028 - mae: 0.4767\n",
            "Epoch 72/100\n",
            "207/207 [==============================] - 2s 12ms/step - loss: 0.4013 - mae: 0.4762\n",
            "Epoch 73/100\n",
            "207/207 [==============================] - 3s 12ms/step - loss: 0.4033 - mae: 0.4773\n",
            "Epoch 74/100\n",
            "207/207 [==============================] - 3s 14ms/step - loss: 0.4027 - mae: 0.4767\n",
            "Epoch 75/100\n",
            "207/207 [==============================] - 2s 12ms/step - loss: 0.3987 - mae: 0.4767\n",
            "Epoch 76/100\n",
            "207/207 [==============================] - 2s 12ms/step - loss: 0.4034 - mae: 0.4774\n",
            "Epoch 77/100\n",
            "207/207 [==============================] - 2s 12ms/step - loss: 0.3970 - mae: 0.4742\n",
            "Epoch 78/100\n",
            "207/207 [==============================] - 3s 12ms/step - loss: 0.4019 - mae: 0.4757\n",
            "Epoch 79/100\n",
            "207/207 [==============================] - 2s 12ms/step - loss: 0.3999 - mae: 0.4745\n",
            "Epoch 80/100\n",
            "207/207 [==============================] - 2s 12ms/step - loss: 0.4011 - mae: 0.4755\n",
            "Epoch 81/100\n",
            "207/207 [==============================] - 2s 12ms/step - loss: 0.4003 - mae: 0.4733\n",
            "Epoch 82/100\n",
            "207/207 [==============================] - 2s 12ms/step - loss: 0.3972 - mae: 0.4715\n",
            "Epoch 83/100\n",
            "207/207 [==============================] - 2s 12ms/step - loss: 0.3987 - mae: 0.4728\n",
            "Epoch 84/100\n",
            "207/207 [==============================] - 2s 12ms/step - loss: 0.3983 - mae: 0.4725\n",
            "Epoch 85/100\n",
            "207/207 [==============================] - 2s 12ms/step - loss: 0.3975 - mae: 0.4719\n",
            "Epoch 86/100\n",
            "207/207 [==============================] - 2s 12ms/step - loss: 0.3971 - mae: 0.4711\n",
            "Epoch 87/100\n",
            "207/207 [==============================] - 2s 12ms/step - loss: 0.3992 - mae: 0.4737\n",
            "Epoch 88/100\n",
            "207/207 [==============================] - 2s 12ms/step - loss: 0.3979 - mae: 0.4718\n",
            "Epoch 89/100\n",
            "207/207 [==============================] - 2s 12ms/step - loss: 0.3981 - mae: 0.4715\n",
            "Epoch 90/100\n",
            "207/207 [==============================] - 2s 12ms/step - loss: 0.4012 - mae: 0.4727\n",
            "Epoch 91/100\n",
            "207/207 [==============================] - 2s 12ms/step - loss: 0.3974 - mae: 0.4711\n",
            "Epoch 92/100\n",
            "207/207 [==============================] - 2s 12ms/step - loss: 0.3942 - mae: 0.4702\n",
            "Epoch 93/100\n",
            "207/207 [==============================] - 2s 12ms/step - loss: 0.3985 - mae: 0.4736\n",
            "Epoch 94/100\n",
            "207/207 [==============================] - 2s 12ms/step - loss: 0.3966 - mae: 0.4722\n",
            "Epoch 95/100\n",
            "207/207 [==============================] - 2s 12ms/step - loss: 0.4025 - mae: 0.4758\n",
            "Epoch 96/100\n",
            "207/207 [==============================] - 2s 12ms/step - loss: 0.3963 - mae: 0.4714\n",
            "Epoch 97/100\n",
            "207/207 [==============================] - 2s 12ms/step - loss: 0.3972 - mae: 0.4720\n",
            "Epoch 98/100\n",
            "207/207 [==============================] - 2s 12ms/step - loss: 0.4033 - mae: 0.4749\n",
            "Epoch 99/100\n",
            "207/207 [==============================] - 2s 12ms/step - loss: 0.3975 - mae: 0.4734\n",
            "Epoch 100/100\n",
            "207/207 [==============================] - 2s 12ms/step - loss: 0.4018 - mae: 0.4756\n"
          ]
        },
        {
          "output_type": "execute_result",
          "data": {
            "text/plain": [
              "<keras.callbacks.History at 0x7fdfc9a41d90>"
            ]
          },
          "metadata": {},
          "execution_count": 16
        }
      ]
    },
    {
      "cell_type": "code",
      "source": [
        "rnn_gru = rnn('GRU', aug_x_tr.shape)\n",
        "rnn_gru.fit(aug_x_tr, aug_y_tr, batch_size=64, epochs=100)"
      ],
      "metadata": {
        "colab": {
          "base_uri": "https://localhost:8080/"
        },
        "id": "pBJLednhAc6t",
        "outputId": "f9a0171a-49ff-4557-d651-6a7653a83ce2"
      },
      "execution_count": null,
      "outputs": [
        {
          "output_type": "stream",
          "name": "stdout",
          "text": [
            "Model: \"sequential_5\"\n",
            "_________________________________________________________________\n",
            " Layer (type)                Output Shape              Param #   \n",
            "=================================================================\n",
            " bidirectional_10 (Bidirecti  (13072, 1, 100)          30600     \n",
            " onal)                                                           \n",
            "                                                                 \n",
            " bidirectional_11 (Bidirecti  (13072, 128)             63744     \n",
            " onal)                                                           \n",
            "                                                                 \n",
            " dropout_5 (Dropout)         (13072, 128)              0         \n",
            "                                                                 \n",
            " dense_5 (Dense)             (13072, 1)                129       \n",
            "                                                                 \n",
            "=================================================================\n",
            "Total params: 94,473\n",
            "Trainable params: 94,473\n",
            "Non-trainable params: 0\n",
            "_________________________________________________________________\n",
            "Epoch 1/80\n",
            "205/205 [==============================] - 14s 11ms/step - loss: 0.9090 - mae: 0.7583\n",
            "Epoch 2/80\n",
            "205/205 [==============================] - 2s 11ms/step - loss: 0.7712 - mae: 0.7003\n",
            "Epoch 3/80\n",
            "205/205 [==============================] - 2s 11ms/step - loss: 0.7319 - mae: 0.6790\n",
            "Epoch 4/80\n",
            "205/205 [==============================] - 2s 11ms/step - loss: 0.7041 - mae: 0.6677\n",
            "Epoch 5/80\n",
            "205/205 [==============================] - 2s 11ms/step - loss: 0.6890 - mae: 0.6590\n",
            "Epoch 6/80\n",
            "205/205 [==============================] - 2s 11ms/step - loss: 0.6787 - mae: 0.6528\n",
            "Epoch 7/80\n",
            "205/205 [==============================] - 2s 11ms/step - loss: 0.6620 - mae: 0.6424\n",
            "Epoch 8/80\n",
            "205/205 [==============================] - 2s 11ms/step - loss: 0.6529 - mae: 0.6383\n",
            "Epoch 9/80\n",
            "205/205 [==============================] - 2s 11ms/step - loss: 0.6454 - mae: 0.6342\n",
            "Epoch 10/80\n",
            "205/205 [==============================] - 2s 11ms/step - loss: 0.6377 - mae: 0.6277\n",
            "Epoch 11/80\n",
            "205/205 [==============================] - 2s 11ms/step - loss: 0.6339 - mae: 0.6263\n",
            "Epoch 12/80\n",
            "205/205 [==============================] - 2s 12ms/step - loss: 0.6397 - mae: 0.6297\n",
            "Epoch 13/80\n",
            "205/205 [==============================] - 2s 11ms/step - loss: 0.6245 - mae: 0.6210\n",
            "Epoch 14/80\n",
            "205/205 [==============================] - 2s 11ms/step - loss: 0.6168 - mae: 0.6167\n",
            "Epoch 15/80\n",
            "205/205 [==============================] - 2s 11ms/step - loss: 0.6197 - mae: 0.6161\n",
            "Epoch 16/80\n",
            "205/205 [==============================] - 2s 11ms/step - loss: 0.6222 - mae: 0.6183\n",
            "Epoch 17/80\n",
            "205/205 [==============================] - 2s 11ms/step - loss: 0.6176 - mae: 0.6151\n",
            "Epoch 18/80\n",
            "205/205 [==============================] - 2s 11ms/step - loss: 0.6087 - mae: 0.6119\n",
            "Epoch 19/80\n",
            "205/205 [==============================] - 2s 11ms/step - loss: 0.6069 - mae: 0.6111\n",
            "Epoch 20/80\n",
            "205/205 [==============================] - 2s 11ms/step - loss: 0.6077 - mae: 0.6125\n",
            "Epoch 21/80\n",
            "205/205 [==============================] - 2s 11ms/step - loss: 0.6046 - mae: 0.6096\n",
            "Epoch 22/80\n",
            "205/205 [==============================] - 2s 11ms/step - loss: 0.5981 - mae: 0.6027\n",
            "Epoch 23/80\n",
            "205/205 [==============================] - 2s 11ms/step - loss: 0.5974 - mae: 0.6048\n",
            "Epoch 24/80\n",
            "205/205 [==============================] - 2s 11ms/step - loss: 0.5909 - mae: 0.5988\n",
            "Epoch 25/80\n",
            "205/205 [==============================] - 2s 12ms/step - loss: 0.5932 - mae: 0.6036\n",
            "Epoch 26/80\n",
            "205/205 [==============================] - 2s 11ms/step - loss: 0.5931 - mae: 0.6021\n",
            "Epoch 27/80\n",
            "205/205 [==============================] - 2s 11ms/step - loss: 0.5942 - mae: 0.6024\n",
            "Epoch 28/80\n",
            "205/205 [==============================] - 2s 11ms/step - loss: 0.5855 - mae: 0.5970\n",
            "Epoch 29/80\n",
            "205/205 [==============================] - 2s 11ms/step - loss: 0.5934 - mae: 0.6002\n",
            "Epoch 30/80\n",
            "205/205 [==============================] - 2s 11ms/step - loss: 0.5889 - mae: 0.5997\n",
            "Epoch 31/80\n",
            "205/205 [==============================] - 4s 17ms/step - loss: 0.5870 - mae: 0.5975\n",
            "Epoch 32/80\n",
            "205/205 [==============================] - 2s 11ms/step - loss: 0.5885 - mae: 0.5982\n",
            "Epoch 33/80\n",
            "205/205 [==============================] - 2s 11ms/step - loss: 0.5757 - mae: 0.5913\n",
            "Epoch 34/80\n",
            "205/205 [==============================] - 2s 11ms/step - loss: 0.5802 - mae: 0.5941\n",
            "Epoch 35/80\n",
            "205/205 [==============================] - 2s 11ms/step - loss: 0.5813 - mae: 0.5944\n",
            "Epoch 36/80\n",
            "205/205 [==============================] - 2s 12ms/step - loss: 0.5788 - mae: 0.5944\n",
            "Epoch 37/80\n",
            "205/205 [==============================] - 2s 11ms/step - loss: 0.5770 - mae: 0.5921\n",
            "Epoch 38/80\n",
            "205/205 [==============================] - 2s 12ms/step - loss: 0.5694 - mae: 0.5892\n",
            "Epoch 39/80\n",
            "205/205 [==============================] - 2s 12ms/step - loss: 0.5767 - mae: 0.5924\n",
            "Epoch 40/80\n",
            "205/205 [==============================] - 2s 11ms/step - loss: 0.5735 - mae: 0.5889\n",
            "Epoch 41/80\n",
            "205/205 [==============================] - 2s 11ms/step - loss: 0.5737 - mae: 0.5889\n",
            "Epoch 42/80\n",
            "205/205 [==============================] - 2s 12ms/step - loss: 0.5751 - mae: 0.5913\n",
            "Epoch 43/80\n",
            "205/205 [==============================] - 2s 12ms/step - loss: 0.5695 - mae: 0.5887\n",
            "Epoch 44/80\n",
            "205/205 [==============================] - 2s 12ms/step - loss: 0.5713 - mae: 0.5907\n",
            "Epoch 45/80\n",
            "205/205 [==============================] - 2s 12ms/step - loss: 0.5702 - mae: 0.5898\n",
            "Epoch 46/80\n",
            "205/205 [==============================] - 2s 11ms/step - loss: 0.5702 - mae: 0.5877\n",
            "Epoch 47/80\n",
            "205/205 [==============================] - 2s 11ms/step - loss: 0.5665 - mae: 0.5857\n",
            "Epoch 48/80\n",
            "205/205 [==============================] - 2s 12ms/step - loss: 0.5620 - mae: 0.5849\n",
            "Epoch 49/80\n",
            "205/205 [==============================] - 2s 11ms/step - loss: 0.5652 - mae: 0.5849\n",
            "Epoch 50/80\n",
            "205/205 [==============================] - 2s 12ms/step - loss: 0.5659 - mae: 0.5866\n",
            "Epoch 51/80\n",
            "205/205 [==============================] - 2s 12ms/step - loss: 0.5687 - mae: 0.5884\n",
            "Epoch 52/80\n",
            "205/205 [==============================] - 2s 11ms/step - loss: 0.5655 - mae: 0.5865\n",
            "Epoch 53/80\n",
            "205/205 [==============================] - 2s 11ms/step - loss: 0.5595 - mae: 0.5823\n",
            "Epoch 54/80\n",
            "205/205 [==============================] - 2s 11ms/step - loss: 0.5603 - mae: 0.5833\n",
            "Epoch 55/80\n",
            "205/205 [==============================] - 2s 12ms/step - loss: 0.5595 - mae: 0.5829\n",
            "Epoch 56/80\n",
            "205/205 [==============================] - 2s 12ms/step - loss: 0.5637 - mae: 0.5858\n",
            "Epoch 57/80\n",
            "205/205 [==============================] - 2s 11ms/step - loss: 0.5616 - mae: 0.5830\n",
            "Epoch 58/80\n",
            "205/205 [==============================] - 2s 11ms/step - loss: 0.5594 - mae: 0.5827\n",
            "Epoch 59/80\n",
            "205/205 [==============================] - 2s 11ms/step - loss: 0.5604 - mae: 0.5826\n",
            "Epoch 60/80\n",
            "205/205 [==============================] - 2s 12ms/step - loss: 0.5619 - mae: 0.5831\n",
            "Epoch 61/80\n",
            "205/205 [==============================] - 2s 11ms/step - loss: 0.5579 - mae: 0.5802\n",
            "Epoch 62/80\n",
            "205/205 [==============================] - 2s 11ms/step - loss: 0.5543 - mae: 0.5795\n",
            "Epoch 63/80\n",
            "205/205 [==============================] - 2s 11ms/step - loss: 0.5539 - mae: 0.5801\n",
            "Epoch 64/80\n",
            "205/205 [==============================] - 2s 11ms/step - loss: 0.5532 - mae: 0.5808\n",
            "Epoch 65/80\n",
            "205/205 [==============================] - 3s 17ms/step - loss: 0.5544 - mae: 0.5798\n",
            "Epoch 66/80\n",
            "205/205 [==============================] - 2s 12ms/step - loss: 0.5537 - mae: 0.5803\n",
            "Epoch 67/80\n",
            "205/205 [==============================] - 2s 12ms/step - loss: 0.5543 - mae: 0.5790\n",
            "Epoch 68/80\n",
            "205/205 [==============================] - 2s 12ms/step - loss: 0.5541 - mae: 0.5794\n",
            "Epoch 69/80\n",
            "205/205 [==============================] - 2s 12ms/step - loss: 0.5497 - mae: 0.5773\n",
            "Epoch 70/80\n",
            "205/205 [==============================] - 2s 11ms/step - loss: 0.5516 - mae: 0.5766\n",
            "Epoch 71/80\n",
            "205/205 [==============================] - 2s 11ms/step - loss: 0.5509 - mae: 0.5767\n",
            "Epoch 72/80\n",
            "205/205 [==============================] - 2s 12ms/step - loss: 0.5480 - mae: 0.5763\n",
            "Epoch 73/80\n",
            "205/205 [==============================] - 2s 11ms/step - loss: 0.5498 - mae: 0.5769\n",
            "Epoch 74/80\n",
            "205/205 [==============================] - 2s 11ms/step - loss: 0.5468 - mae: 0.5752\n",
            "Epoch 75/80\n",
            "205/205 [==============================] - 2s 11ms/step - loss: 0.5452 - mae: 0.5731\n",
            "Epoch 76/80\n",
            "205/205 [==============================] - 2s 12ms/step - loss: 0.5508 - mae: 0.5775\n",
            "Epoch 77/80\n",
            "205/205 [==============================] - 2s 12ms/step - loss: 0.5491 - mae: 0.5764\n",
            "Epoch 78/80\n",
            "205/205 [==============================] - 2s 11ms/step - loss: 0.5465 - mae: 0.5759\n",
            "Epoch 79/80\n",
            "205/205 [==============================] - 2s 12ms/step - loss: 0.5452 - mae: 0.5747\n",
            "Epoch 80/80\n",
            "205/205 [==============================] - 2s 12ms/step - loss: 0.5399 - mae: 0.5720\n"
          ]
        },
        {
          "output_type": "execute_result",
          "data": {
            "text/plain": [
              "<keras.callbacks.History at 0x7f089747db80>"
            ]
          },
          "metadata": {},
          "execution_count": 30
        }
      ]
    },
    {
      "cell_type": "code",
      "source": [
        "#LSTM\n",
        "test_rnn_model(rnn, aug_x_ts, aug_y_ts)"
      ],
      "metadata": {
        "colab": {
          "base_uri": "https://localhost:8080/"
        },
        "id": "XTCsiS2hw0u4",
        "outputId": "f66dd6ed-b92f-4a21-8c13-6bd50d4130c8"
      },
      "execution_count": null,
      "outputs": [
        {
          "output_type": "stream",
          "name": "stdout",
          "text": [
            "104/104 [==============================] - 2s 4ms/step\n",
            "Kappa Score: 0.7665505303754433\n"
          ]
        }
      ]
    },
    {
      "cell_type": "code",
      "source": [
        "#GRU\n",
        "test_rnn_model(rnn_gru, aug_x_ts, aug_y_ts)"
      ],
      "metadata": {
        "colab": {
          "base_uri": "https://localhost:8080/"
        },
        "id": "O4jpgzIrAlZJ",
        "outputId": "e7c47a0a-bd03-4749-b6ba-5a9190394166"
      },
      "execution_count": null,
      "outputs": [
        {
          "output_type": "stream",
          "name": "stdout",
          "text": [
            "103/103 [==============================] - 1s 3ms/step\n",
            "Kappa Score: 0.7092647093361628\n"
          ]
        }
      ]
    },
    {
      "cell_type": "code",
      "source": [
        "#LSTM\n",
        "test_rnn_model(rnn, X_test_glv, y_test_glv)"
      ],
      "metadata": {
        "colab": {
          "base_uri": "https://localhost:8080/"
        },
        "id": "6hswOyerxNfp",
        "outputId": "caf21d75-f0dc-494c-ca1e-a7ea9ee4b9e2"
      },
      "execution_count": null,
      "outputs": [
        {
          "output_type": "stream",
          "name": "stdout",
          "text": [
            "84/84 [==============================] - 1s 6ms/step\n",
            "Kappa Score: 0.7022976808667822\n"
          ]
        }
      ]
    },
    {
      "cell_type": "code",
      "source": [
        "#GRU\n",
        "test_rnn_model(rnn_gru, X_test_glv, y_test_glv)"
      ],
      "metadata": {
        "colab": {
          "base_uri": "https://localhost:8080/"
        },
        "id": "plEyAsgSAqza",
        "outputId": "b514035e-fd7e-49ea-dee4-1a1a5593951b"
      },
      "execution_count": null,
      "outputs": [
        {
          "output_type": "stream",
          "name": "stdout",
          "text": [
            "84/84 [==============================] - 0s 3ms/step\n",
            "Kappa Score: 0.6735899254398994\n"
          ]
        }
      ]
    },
    {
      "cell_type": "code",
      "source": [],
      "metadata": {
        "id": "eGjKUz2J0nvA"
      },
      "execution_count": null,
      "outputs": []
    }
  ]
}