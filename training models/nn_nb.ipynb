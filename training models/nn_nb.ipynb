{
  "nbformat": 4,
  "nbformat_minor": 0,
  "metadata": {
    "colab": {
      "provenance": []
    },
    "kernelspec": {
      "name": "python3",
      "display_name": "Python 3"
    },
    "language_info": {
      "name": "python"
    }
  },
  "cells": [
    {
      "cell_type": "code",
      "execution_count": 1,
      "metadata": {
        "id": "oSgMxNzko5hw"
      },
      "outputs": [],
      "source": [
        "import sklearn\n",
        "from sklearn.model_selection import cross_val_score\n",
        "from sklearn import metrics\n",
        "from sklearn.naive_bayes import GaussianNB\n",
        "from sklearn.metrics import cohen_kappa_score\n",
        "import numpy as np"
      ]
    },
    {
      "cell_type": "code",
      "source": [
        "import pickle"
      ],
      "metadata": {
        "id": "O0n_PHW4pHPn"
      },
      "execution_count": 2,
      "outputs": []
    },
    {
      "cell_type": "code",
      "source": [
        "with open('org_gen_aug_nn.pkl', 'rb') as file:\n",
        "  glv_vec = pickle.load(file)\n",
        "  y = pickle.load(file)\n",
        "  new_vec_nn = pickle.load(file)\n",
        "  new_y_nn = pickle.load(file)\n",
        "  aug_vec_nn = pickle.load(file)\n",
        "  aug_y_nn = pickle.load(file)\n",
        "  aug_v = pickle.load(file)\n",
        "  aug_y = pickle.load(file)\n",
        "file.close()"
      ],
      "metadata": {
        "id": "Hrv7k-nLpKmS"
      },
      "execution_count": 3,
      "outputs": []
    },
    {
      "cell_type": "code",
      "source": [
        "from sklearn.model_selection import RandomizedSearchCV\n"
      ],
      "metadata": {
        "id": "Y1OoG_5dpM-I"
      },
      "execution_count": 4,
      "outputs": []
    },
    {
      "cell_type": "code",
      "source": [
        "from sklearn.model_selection import StratifiedKFold\n",
        "from sklearn.model_selection import train_test_split"
      ],
      "metadata": {
        "id": "xeOAxLKApOua"
      },
      "execution_count": 5,
      "outputs": []
    },
    {
      "cell_type": "code",
      "source": [
        "X_train_nn, X_test_nn, y_train_nn, y_test_nn = train_test_split(glv_vec, y, test_size=0.25, random_state=41)\n"
      ],
      "metadata": {
        "id": "yqga0DCBpQRs"
      },
      "execution_count": 6,
      "outputs": []
    },
    {
      "cell_type": "code",
      "source": [
        "from sklearn.naive_bayes import GaussianNB\n",
        "\n",
        "gnb = GaussianNB()\n",
        "xx = X_train_nn.squeeze(1)\n",
        "gnb.fit(xx, y_train_nn)\n",
        "p = gnb.predict(X_test_nn.squeeze(1))\n",
        "result_aug = cohen_kappa_score(y_test_nn, p,weights='quadratic')\n",
        "print(\"Kappa Score: {}\".format(result_aug))"
      ],
      "metadata": {
        "id": "mF6E0btHpTV4",
        "colab": {
          "base_uri": "https://localhost:8080/"
        },
        "outputId": "9f0841e5-b380-46df-e697-a6d778946a9d"
      },
      "execution_count": null,
      "outputs": [
        {
          "output_type": "stream",
          "name": "stdout",
          "text": [
            "Kappa Score: 0.6426110095049731\n"
          ]
        }
      ]
    },
    {
      "cell_type": "code",
      "source": [
        "_, new_x_test_nn, _, new_y_test_nn = train_test_split(new_vec_nn, new_y_nn, test_size=0.25)\n",
        "xx = new_x_test_nn.squeeze(1)\n",
        "\n",
        "y_pred = gnb.predict(xx)\n",
        "\n",
        "result_aug = cohen_kappa_score(new_y_test_nn,y_pred,weights='quadratic')\n",
        "print(\"Kappa Score: {}\".format(result_aug))"
      ],
      "metadata": {
        "id": "KDsrHI6gpfbW",
        "colab": {
          "base_uri": "https://localhost:8080/"
        },
        "outputId": "707918b7-c936-44c4-9bbd-066e3f1be81e"
      },
      "execution_count": null,
      "outputs": [
        {
          "output_type": "stream",
          "name": "stdout",
          "text": [
            "Kappa Score: 0.17950944833403926\n"
          ]
        }
      ]
    },
    {
      "cell_type": "code",
      "source": [
        "aug_x_tr, aug_x_ts, aug_y_tr, aug_y_ts = train_test_split(aug_vec_nn, aug_y_nn, test_size=0.2)\n",
        "xx = aug_x_tr.squeeze(1)\n",
        "gnb.fit(xx, aug_y_tr)\n",
        "p = gnb.predict(aug_x_ts.squeeze(1))\n",
        "result_aug = cohen_kappa_score(aug_y_ts, p,weights='quadratic')\n",
        "print(\"Kappa Score: {}\".format(result_aug))"
      ],
      "metadata": {
        "id": "YFl4gPGwpmrC",
        "colab": {
          "base_uri": "https://localhost:8080/"
        },
        "outputId": "17c931ab-3dbd-475a-bb28-4949233674b0"
      },
      "execution_count": null,
      "outputs": [
        {
          "output_type": "stream",
          "name": "stdout",
          "text": [
            "Kappa Score: 0.5777223919314034\n"
          ]
        }
      ]
    },
    {
      "cell_type": "code",
      "source": [
        "aug_x_tr, aug_x_ts, aug_y_tr, aug_y_ts = train_test_split(aug_v, aug_y, test_size=0.2)\n",
        "xx = aug_x_tr.squeeze(1)\n",
        "gnb.fit(xx, aug_y_tr)\n",
        "p = gnb.predict(aug_x_ts.squeeze(1))\n",
        "result_aug = cohen_kappa_score(aug_y_ts, p,weights='quadratic')\n",
        "print(\"Kappa Score: {}\".format(result_aug))"
      ],
      "metadata": {
        "colab": {
          "base_uri": "https://localhost:8080/"
        },
        "id": "UhSSQfLX_pUU",
        "outputId": "b046d532-2075-43fb-8120-5c8c57599302"
      },
      "execution_count": null,
      "outputs": [
        {
          "output_type": "stream",
          "name": "stdout",
          "text": [
            "Kappa Score: 0.5655109926929907\n"
          ]
        }
      ]
    },
    {
      "cell_type": "code",
      "source": [
        "xx = X_test_nn.squeeze(1)\n",
        "\n",
        "y_pred = gnb.predict(xx)\n",
        "\n",
        "result_aug = cohen_kappa_score(y_test_nn,y_pred,weights='quadratic')\n",
        "print(\"Kappa Score: {}\".format(result_aug))"
      ],
      "metadata": {
        "id": "QpfTKmrAptYG",
        "colab": {
          "base_uri": "https://localhost:8080/"
        },
        "outputId": "fbaa8eae-e722-4f28-9d57-ba53da5adb2c"
      },
      "execution_count": null,
      "outputs": [
        {
          "output_type": "stream",
          "name": "stdout",
          "text": [
            "Kappa Score: 0.6539408508203661\n"
          ]
        }
      ]
    },
    {
      "cell_type": "code",
      "source": [],
      "metadata": {
        "id": "faonZHKp_zI0"
      },
      "execution_count": null,
      "outputs": []
    }
  ]
}