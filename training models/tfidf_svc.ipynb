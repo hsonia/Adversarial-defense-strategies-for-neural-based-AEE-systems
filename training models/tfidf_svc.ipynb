{
  "nbformat": 4,
  "nbformat_minor": 0,
  "metadata": {
    "colab": {
      "provenance": []
    },
    "kernelspec": {
      "name": "python3",
      "display_name": "Python 3"
    },
    "language_info": {
      "name": "python"
    }
  },
  "cells": [
    {
      "cell_type": "code",
      "execution_count": 1,
      "metadata": {
        "id": "5n3fwB0UIB23"
      },
      "outputs": [],
      "source": [
        "import sklearn\n",
        "from sklearn.svm import SVC\n",
        "from sklearn.model_selection import cross_val_score\n",
        "from sklearn import metrics\n",
        "\n",
        "from sklearn.metrics import cohen_kappa_score\n",
        "import numpy as np\n",
        "import pickle"
      ]
    },
    {
      "cell_type": "code",
      "source": [
        "with open('tfidf_bows.pkl', 'rb') as file:\n",
        "  bows = pickle.load(file)\n",
        "  y = pickle.load(file)\n",
        "  random_state = pickle.load(file)\n",
        "  test_size = pickle.load(file)\n",
        "file.close()"
      ],
      "metadata": {
        "id": "3YTdyFgNII5P"
      },
      "execution_count": 2,
      "outputs": []
    },
    {
      "cell_type": "code",
      "source": [
        "from sklearn.model_selection import RandomizedSearchCV\n",
        "from sklearn.model_selection import StratifiedKFold\n",
        "from sklearn.model_selection import train_test_split"
      ],
      "metadata": {
        "id": "uPTZccGyOJZi"
      },
      "execution_count": 22,
      "outputs": []
    },
    {
      "cell_type": "code",
      "source": [
        "X_train, X_test, y_train, y_test = train_test_split(bows, y, test_size=0.25, random_state=41, stratify=y)\n"
      ],
      "metadata": {
        "id": "D2I919gNONpx"
      },
      "execution_count": 23,
      "outputs": []
    },
    {
      "cell_type": "code",
      "source": [
        "param_grid = {'C': [0.1,1, 10, 100], 'gamma': [0.1,0.1,0.01,0.001],'kernel': ['rbf']}"
      ],
      "metadata": {
        "id": "crMNEpg6ORrd"
      },
      "execution_count": 24,
      "outputs": []
    },
    {
      "cell_type": "code",
      "source": [
        "cvkf = StratifiedKFold(n_splits = 5, shuffle=True)\n",
        "rnd_search = RandomizedSearchCV(SVC(), param_grid, cv=cvkf, refit=True, verbose=2)\n",
        "rnd_search.fit(X_train, y_train)\n",
        "svc = rnd_search.best_estimator_"
      ],
      "metadata": {
        "colab": {
          "base_uri": "https://localhost:8080/"
        },
        "id": "v5FUe4KuOUBp",
        "outputId": "ac95a4da-39a5-4d79-9ad9-a99d821ef2c4"
      },
      "execution_count": 27,
      "outputs": [
        {
          "output_type": "stream",
          "name": "stdout",
          "text": [
            "Fitting 5 folds for each of 10 candidates, totalling 50 fits\n",
            "[CV] END ........................C=1, gamma=0.01, kernel=rbf; total time=  36.8s\n",
            "[CV] END ........................C=1, gamma=0.01, kernel=rbf; total time=  37.0s\n",
            "[CV] END ........................C=1, gamma=0.01, kernel=rbf; total time=  37.4s\n",
            "[CV] END ........................C=1, gamma=0.01, kernel=rbf; total time=  36.9s\n",
            "[CV] END ........................C=1, gamma=0.01, kernel=rbf; total time=  36.0s\n",
            "[CV] END .......................C=100, gamma=0.1, kernel=rbf; total time=  36.8s\n",
            "[CV] END .......................C=100, gamma=0.1, kernel=rbf; total time=  37.1s\n",
            "[CV] END .......................C=100, gamma=0.1, kernel=rbf; total time=  37.4s\n",
            "[CV] END .......................C=100, gamma=0.1, kernel=rbf; total time=  36.0s\n",
            "[CV] END .......................C=100, gamma=0.1, kernel=rbf; total time=  38.4s\n",
            "[CV] END .......................C=100, gamma=0.1, kernel=rbf; total time=  36.3s\n",
            "[CV] END .......................C=100, gamma=0.1, kernel=rbf; total time=  37.6s\n",
            "[CV] END .......................C=100, gamma=0.1, kernel=rbf; total time=  36.7s\n",
            "[CV] END .......................C=100, gamma=0.1, kernel=rbf; total time=  36.0s\n",
            "[CV] END .......................C=100, gamma=0.1, kernel=rbf; total time=  36.4s\n",
            "[CV] END .......................C=1, gamma=0.001, kernel=rbf; total time=  35.3s\n",
            "[CV] END .......................C=1, gamma=0.001, kernel=rbf; total time=  36.4s\n",
            "[CV] END .......................C=1, gamma=0.001, kernel=rbf; total time=  35.6s\n",
            "[CV] END .......................C=1, gamma=0.001, kernel=rbf; total time=  35.9s\n",
            "[CV] END .......................C=1, gamma=0.001, kernel=rbf; total time=  36.2s\n",
            "[CV] END .......................C=10, gamma=0.01, kernel=rbf; total time=  32.3s\n",
            "[CV] END .......................C=10, gamma=0.01, kernel=rbf; total time=  33.3s\n",
            "[CV] END .......................C=10, gamma=0.01, kernel=rbf; total time=  32.4s\n",
            "[CV] END .......................C=10, gamma=0.01, kernel=rbf; total time=  32.1s\n",
            "[CV] END .......................C=10, gamma=0.01, kernel=rbf; total time=  32.0s\n",
            "[CV] END .......................C=0.1, gamma=0.1, kernel=rbf; total time=  36.8s\n",
            "[CV] END .......................C=0.1, gamma=0.1, kernel=rbf; total time=  37.9s\n",
            "[CV] END .......................C=0.1, gamma=0.1, kernel=rbf; total time=  36.7s\n",
            "[CV] END .......................C=0.1, gamma=0.1, kernel=rbf; total time=  36.8s\n",
            "[CV] END .......................C=0.1, gamma=0.1, kernel=rbf; total time=  37.1s\n",
            "[CV] END ......................C=0.1, gamma=0.01, kernel=rbf; total time=  36.2s\n",
            "[CV] END ......................C=0.1, gamma=0.01, kernel=rbf; total time=  37.1s\n",
            "[CV] END ......................C=0.1, gamma=0.01, kernel=rbf; total time=  35.7s\n",
            "[CV] END ......................C=0.1, gamma=0.01, kernel=rbf; total time=  36.2s\n",
            "[CV] END ......................C=0.1, gamma=0.01, kernel=rbf; total time=  35.9s\n",
            "[CV] END .........................C=1, gamma=0.1, kernel=rbf; total time=  33.0s\n",
            "[CV] END .........................C=1, gamma=0.1, kernel=rbf; total time=  34.2s\n",
            "[CV] END .........................C=1, gamma=0.1, kernel=rbf; total time=  32.9s\n",
            "[CV] END .........................C=1, gamma=0.1, kernel=rbf; total time=  32.7s\n",
            "[CV] END .........................C=1, gamma=0.1, kernel=rbf; total time=  32.8s\n",
            "[CV] END .....................C=100, gamma=0.001, kernel=rbf; total time=  32.6s\n",
            "[CV] END .....................C=100, gamma=0.001, kernel=rbf; total time=  32.5s\n",
            "[CV] END .....................C=100, gamma=0.001, kernel=rbf; total time=  33.0s\n",
            "[CV] END .....................C=100, gamma=0.001, kernel=rbf; total time=  34.1s\n",
            "[CV] END .....................C=100, gamma=0.001, kernel=rbf; total time=  32.8s\n",
            "[CV] END .........................C=1, gamma=0.1, kernel=rbf; total time=  33.4s\n",
            "[CV] END .........................C=1, gamma=0.1, kernel=rbf; total time=  33.3s\n",
            "[CV] END .........................C=1, gamma=0.1, kernel=rbf; total time=  33.1s\n",
            "[CV] END .........................C=1, gamma=0.1, kernel=rbf; total time=  32.7s\n",
            "[CV] END .........................C=1, gamma=0.1, kernel=rbf; total time=  32.8s\n"
          ]
        }
      ]
    },
    {
      "cell_type": "code",
      "source": [
        "svc.get_params"
      ],
      "metadata": {
        "colab": {
          "base_uri": "https://localhost:8080/"
        },
        "id": "fzrebICuVjkK",
        "outputId": "b5bd8b16-787a-427b-e7e3-84c0eee2c48d"
      },
      "execution_count": 28,
      "outputs": [
        {
          "output_type": "execute_result",
          "data": {
            "text/plain": [
              "<bound method BaseEstimator.get_params of SVC(C=100, gamma=0.001)>"
            ]
          },
          "metadata": {},
          "execution_count": 28
        }
      ]
    },
    {
      "cell_type": "code",
      "source": [
        "from sklearn.model_selection import cross_val_score\n",
        "scores = cross_val_score(svc, X_train, y_train, cv=5)"
      ],
      "metadata": {
        "id": "yIFXk56WWoIe"
      },
      "execution_count": 30,
      "outputs": []
    },
    {
      "cell_type": "code",
      "source": [
        "scores.mean(), scores.std()"
      ],
      "metadata": {
        "colab": {
          "base_uri": "https://localhost:8080/"
        },
        "id": "Qd3thiKaW1FK",
        "outputId": "04ede6cf-34d3-4559-8cd2-a63e2199d02f"
      },
      "execution_count": 32,
      "outputs": [
        {
          "output_type": "execute_result",
          "data": {
            "text/plain": [
              "(0.45165901977356526, 0.010874845304423009)"
            ]
          },
          "metadata": {},
          "execution_count": 32
        }
      ]
    },
    {
      "cell_type": "code",
      "source": [
        "y_pred = svc.predict(X_test)\n",
        "\n",
        "result_aug = cohen_kappa_score(y_test,y_pred,weights='quadratic')\n",
        "print(\"Kappa Score: {}\".format(result_aug))"
      ],
      "metadata": {
        "colab": {
          "base_uri": "https://localhost:8080/"
        },
        "id": "XscD1ebIOaYr",
        "outputId": "139d5e65-0aa8-48fa-edec-c59f822593e3"
      },
      "execution_count": 29,
      "outputs": [
        {
          "output_type": "stream",
          "name": "stdout",
          "text": [
            "Kappa Score: 0.5947907745917373\n"
          ]
        }
      ]
    },
    {
      "cell_type": "code",
      "source": [],
      "metadata": {
        "id": "Abf74ekfVmbf"
      },
      "execution_count": null,
      "outputs": []
    }
  ]
}