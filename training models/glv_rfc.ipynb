{
  "nbformat": 4,
  "nbformat_minor": 0,
  "metadata": {
    "colab": {
      "provenance": []
    },
    "kernelspec": {
      "name": "python3",
      "display_name": "Python 3"
    },
    "language_info": {
      "name": "python"
    }
  },
  "cells": [
    {
      "cell_type": "code",
      "execution_count": null,
      "metadata": {
        "id": "zREvbq3nJ9xv"
      },
      "outputs": [],
      "source": [
        "import sklearn\n",
        "from sklearn.ensemble import RandomForestClassifier\n",
        "from sklearn.model_selection import cross_val_score\n",
        "from sklearn import metrics\n",
        "\n",
        "from sklearn.metrics import cohen_kappa_score\n",
        "import numpy as np"
      ]
    },
    {
      "cell_type": "code",
      "source": [
        "import pickle"
      ],
      "metadata": {
        "id": "h6jas7PxKAhJ"
      },
      "execution_count": null,
      "outputs": []
    },
    {
      "cell_type": "code",
      "source": [
        "with open('org_glv_w2v.pkl', 'rb') as file:\n",
        "  glv_vec = pickle.load(file)\n",
        "  w2v_vec = pickle.load(file)\n",
        "  y = pickle.load(file)\n",
        "  random_state = pickle.load(file)\n",
        "  test_size = pickle.load(file)\n",
        "file.close()"
      ],
      "metadata": {
        "id": "yzCtoif1KCld"
      },
      "execution_count": null,
      "outputs": []
    },
    {
      "cell_type": "code",
      "source": [
        "with open('org_gen_aug_glv.pkl', 'rb') as file:\n",
        "  new_x_train_glv = pickle.load(file)\n",
        "  new_y_train_glv = pickle.load(file)\n",
        "  aug_vec_glv = pickle.load(file)\n",
        "  aug_y_glv = pickle.load(file)\n",
        "file.close()"
      ],
      "metadata": {
        "id": "HLXPzSL7KEpU"
      },
      "execution_count": null,
      "outputs": []
    },
    {
      "cell_type": "code",
      "source": [
        "from sklearn.model_selection import RandomizedSearchCV"
      ],
      "metadata": {
        "id": "TJdxPE74KGfW"
      },
      "execution_count": null,
      "outputs": []
    },
    {
      "cell_type": "code",
      "source": [
        "from sklearn.model_selection import StratifiedKFold\n",
        "from sklearn.model_selection import train_test_split"
      ],
      "metadata": {
        "id": "52Y0JBqfKIaU"
      },
      "execution_count": null,
      "outputs": []
    },
    {
      "cell_type": "code",
      "source": [
        "X_train_glv, X_test_glv, y_train_glv, y_test_glv = train_test_split(glv_vec, y, test_size=0.25, random_state=41)"
      ],
      "metadata": {
        "id": "yBez0aR0KMQv"
      },
      "execution_count": null,
      "outputs": []
    },
    {
      "cell_type": "code",
      "source": [
        "param_grid = {'bootstrap': [True, False],\n",
        " 'max_depth': [6, 7, 8, None],\n",
        " 'max_features': ['auto', 'sqrt'],\n",
        " 'n_estimators': [200, 400, 600, 800, 1000]}"
      ],
      "metadata": {
        "id": "ZH72upuiK9ii"
      },
      "execution_count": null,
      "outputs": []
    },
    {
      "cell_type": "code",
      "source": [
        "xx = X_train_glv.squeeze(1)\n",
        "rnd_search_glv = RandomizedSearchCV(RandomForestClassifier(), param_grid, refit=True, verbose=2)\n",
        "rnd_search_glv.fit(xx, y_train_glv)\n",
        "random_forest_glv = rnd_search_glv.best_estimator_"
      ],
      "metadata": {
        "colab": {
          "base_uri": "https://localhost:8080/"
        },
        "id": "aR06M6M_zOqv",
        "outputId": "7c6ed238-0458-4f1d-e3b2-b1cb8f4d2475"
      },
      "execution_count": null,
      "outputs": [
        {
          "output_type": "stream",
          "name": "stdout",
          "text": [
            "Fitting 5 folds for each of 10 candidates, totalling 50 fits\n",
            "[CV] END bootstrap=False, max_depth=None, max_features=sqrt, n_estimators=200; total time=  15.4s\n",
            "[CV] END bootstrap=False, max_depth=None, max_features=sqrt, n_estimators=200; total time=  15.3s\n",
            "[CV] END bootstrap=False, max_depth=None, max_features=sqrt, n_estimators=200; total time=  15.3s\n",
            "[CV] END bootstrap=False, max_depth=None, max_features=sqrt, n_estimators=200; total time=  15.3s\n",
            "[CV] END bootstrap=False, max_depth=None, max_features=sqrt, n_estimators=200; total time=  16.1s\n",
            "[CV] END bootstrap=True, max_depth=8, max_features=auto, n_estimators=800; total time=  24.9s\n",
            "[CV] END bootstrap=True, max_depth=8, max_features=auto, n_estimators=800; total time=  24.9s\n",
            "[CV] END bootstrap=True, max_depth=8, max_features=auto, n_estimators=800; total time=  25.0s\n",
            "[CV] END bootstrap=True, max_depth=8, max_features=auto, n_estimators=800; total time=  25.2s\n",
            "[CV] END bootstrap=True, max_depth=8, max_features=auto, n_estimators=800; total time=  25.1s\n",
            "[CV] END bootstrap=True, max_depth=8, max_features=auto, n_estimators=600; total time=  20.7s\n",
            "[CV] END bootstrap=True, max_depth=8, max_features=auto, n_estimators=600; total time=  18.6s\n",
            "[CV] END bootstrap=True, max_depth=8, max_features=auto, n_estimators=600; total time=  18.7s\n",
            "[CV] END bootstrap=True, max_depth=8, max_features=auto, n_estimators=600; total time=  18.8s\n",
            "[CV] END bootstrap=True, max_depth=8, max_features=auto, n_estimators=600; total time=  18.6s\n",
            "[CV] END bootstrap=True, max_depth=8, max_features=auto, n_estimators=1000; total time=  31.0s\n",
            "[CV] END bootstrap=True, max_depth=8, max_features=auto, n_estimators=1000; total time=  30.9s\n",
            "[CV] END bootstrap=True, max_depth=8, max_features=auto, n_estimators=1000; total time=  30.9s\n",
            "[CV] END bootstrap=True, max_depth=8, max_features=auto, n_estimators=1000; total time=  30.9s\n",
            "[CV] END bootstrap=True, max_depth=8, max_features=auto, n_estimators=1000; total time=  30.9s\n",
            "[CV] END bootstrap=True, max_depth=6, max_features=auto, n_estimators=400; total time=  10.0s\n",
            "[CV] END bootstrap=True, max_depth=6, max_features=auto, n_estimators=400; total time=  10.0s\n",
            "[CV] END bootstrap=True, max_depth=6, max_features=auto, n_estimators=400; total time=  10.0s\n",
            "[CV] END bootstrap=True, max_depth=6, max_features=auto, n_estimators=400; total time=  10.0s\n",
            "[CV] END bootstrap=True, max_depth=6, max_features=auto, n_estimators=400; total time=  10.0s\n",
            "[CV] END bootstrap=False, max_depth=6, max_features=auto, n_estimators=1000; total time=  39.9s\n",
            "[CV] END bootstrap=False, max_depth=6, max_features=auto, n_estimators=1000; total time=  38.1s\n",
            "[CV] END bootstrap=False, max_depth=6, max_features=auto, n_estimators=1000; total time=  38.1s\n",
            "[CV] END bootstrap=False, max_depth=6, max_features=auto, n_estimators=1000; total time=  38.2s\n",
            "[CV] END bootstrap=False, max_depth=6, max_features=auto, n_estimators=1000; total time=  38.2s\n",
            "[CV] END bootstrap=True, max_depth=7, max_features=auto, n_estimators=800; total time=  22.3s\n",
            "[CV] END bootstrap=True, max_depth=7, max_features=auto, n_estimators=800; total time=  22.3s\n",
            "[CV] END bootstrap=True, max_depth=7, max_features=auto, n_estimators=800; total time=  22.3s\n",
            "[CV] END bootstrap=True, max_depth=7, max_features=auto, n_estimators=800; total time=  22.2s\n",
            "[CV] END bootstrap=True, max_depth=7, max_features=auto, n_estimators=800; total time=  23.6s\n",
            "[CV] END bootstrap=False, max_depth=8, max_features=sqrt, n_estimators=800; total time=  38.1s\n",
            "[CV] END bootstrap=False, max_depth=8, max_features=sqrt, n_estimators=800; total time=  38.0s\n",
            "[CV] END bootstrap=False, max_depth=8, max_features=sqrt, n_estimators=800; total time=  38.0s\n",
            "[CV] END bootstrap=False, max_depth=8, max_features=sqrt, n_estimators=800; total time=  38.0s\n",
            "[CV] END bootstrap=False, max_depth=8, max_features=sqrt, n_estimators=800; total time=  38.0s\n",
            "[CV] END bootstrap=True, max_depth=6, max_features=auto, n_estimators=800; total time=  19.7s\n",
            "[CV] END bootstrap=True, max_depth=6, max_features=auto, n_estimators=800; total time=  19.7s\n",
            "[CV] END bootstrap=True, max_depth=6, max_features=auto, n_estimators=800; total time=  19.9s\n",
            "[CV] END bootstrap=True, max_depth=6, max_features=auto, n_estimators=800; total time=  19.8s\n",
            "[CV] END bootstrap=True, max_depth=6, max_features=auto, n_estimators=800; total time=  19.8s\n",
            "[CV] END bootstrap=False, max_depth=8, max_features=auto, n_estimators=800; total time=  39.7s\n",
            "[CV] END bootstrap=False, max_depth=8, max_features=auto, n_estimators=800; total time=  38.2s\n",
            "[CV] END bootstrap=False, max_depth=8, max_features=auto, n_estimators=800; total time=  38.1s\n",
            "[CV] END bootstrap=False, max_depth=8, max_features=auto, n_estimators=800; total time=  38.1s\n",
            "[CV] END bootstrap=False, max_depth=8, max_features=auto, n_estimators=800; total time=  38.2s\n"
          ]
        }
      ]
    },
    {
      "cell_type": "code",
      "source": [
        "random_forest_glv.get_params"
      ],
      "metadata": {
        "colab": {
          "base_uri": "https://localhost:8080/"
        },
        "id": "wv0zsMB54zi-",
        "outputId": "d5d4df2c-59c6-4e68-a8f7-9990279da6e1"
      },
      "execution_count": null,
      "outputs": [
        {
          "output_type": "execute_result",
          "data": {
            "text/plain": [
              "<bound method BaseEstimator.get_params of RandomForestClassifier(bootstrap=False, max_features='sqrt', n_estimators=200)>"
            ]
          },
          "metadata": {},
          "execution_count": 11
        }
      ]
    },
    {
      "cell_type": "code",
      "source": [
        "xx = X_test_glv.squeeze(1)\n",
        "\n",
        "y_pred = random_forest_glv.predict(xx)\n",
        "\n",
        "result_aug = cohen_kappa_score(y_test_glv,y_pred,weights='quadratic')\n",
        "print(\"Kappa Score: {}\".format(result_aug))"
      ],
      "metadata": {
        "colab": {
          "base_uri": "https://localhost:8080/"
        },
        "id": "VutKPrja4vkM",
        "outputId": "7c8c5e6a-6d2b-4010-f318-a66adf42820d"
      },
      "execution_count": null,
      "outputs": [
        {
          "output_type": "stream",
          "name": "stdout",
          "text": [
            "Kappa Score: 0.7095515433113563\n"
          ]
        }
      ]
    },
    {
      "cell_type": "code",
      "source": [
        "_, new_x_test_glv, _, new_y_test_glv = train_test_split(new_x_train_glv, new_y_train_glv, test_size=0.25, random_state=41)\n",
        "xx = new_x_test_glv.squeeze(1)\n",
        "\n",
        "y_pred = random_forest_glv.predict(xx)\n",
        "\n",
        "result_aug = cohen_kappa_score(new_y_test_glv,y_pred,weights='quadratic')\n",
        "print(\"Kappa Score: {}\".format(result_aug))"
      ],
      "metadata": {
        "colab": {
          "base_uri": "https://localhost:8080/"
        },
        "id": "wd7N9gB8LFv7",
        "outputId": "181de209-a8a8-49f3-f63f-b41843f9df2e"
      },
      "execution_count": null,
      "outputs": [
        {
          "output_type": "stream",
          "name": "stdout",
          "text": [
            "Kappa Score: 0.6873285697321126\n"
          ]
        }
      ]
    },
    {
      "cell_type": "code",
      "source": [
        "aug_x_tr, aug_x_ts, aug_y_tr, aug_y_ts = train_test_split(aug_vec_glv, aug_y_glv, test_size=0.2, random_state=41)\n",
        "xx = aug_x_tr.squeeze(1)\n",
        "rnd_search_glv = RandomizedSearchCV(RandomForestClassifier(), param_grid, refit=True, verbose=2)\n",
        "rnd_search_glv.fit(xx, aug_y_tr)\n",
        "random_forest_glv = rnd_search_glv.best_estimator_"
      ],
      "metadata": {
        "colab": {
          "base_uri": "https://localhost:8080/"
        },
        "id": "IZZZLS6w5BO0",
        "outputId": "c2828727-d1ae-4c35-a64c-ef3e243b1f35"
      },
      "execution_count": null,
      "outputs": [
        {
          "output_type": "stream",
          "name": "stdout",
          "text": [
            "Fitting 5 folds for each of 10 candidates, totalling 50 fits\n",
            "[CV] END bootstrap=True, max_depth=6, max_features=auto, n_estimators=200; total time=   8.3s\n",
            "[CV] END bootstrap=True, max_depth=6, max_features=auto, n_estimators=200; total time=   8.3s\n",
            "[CV] END bootstrap=True, max_depth=6, max_features=auto, n_estimators=200; total time=   8.3s\n",
            "[CV] END bootstrap=True, max_depth=6, max_features=auto, n_estimators=200; total time=   8.7s\n",
            "[CV] END bootstrap=True, max_depth=6, max_features=auto, n_estimators=200; total time=   8.5s\n",
            "[CV] END bootstrap=True, max_depth=6, max_features=auto, n_estimators=1000; total time=  42.1s\n",
            "[CV] END bootstrap=True, max_depth=6, max_features=auto, n_estimators=1000; total time=  41.5s\n",
            "[CV] END bootstrap=True, max_depth=6, max_features=auto, n_estimators=1000; total time=  41.4s\n",
            "[CV] END bootstrap=True, max_depth=6, max_features=auto, n_estimators=1000; total time=  43.2s\n",
            "[CV] END bootstrap=True, max_depth=6, max_features=auto, n_estimators=1000; total time=  41.6s\n",
            "[CV] END bootstrap=False, max_depth=8, max_features=sqrt, n_estimators=1000; total time= 1.4min\n",
            "[CV] END bootstrap=False, max_depth=8, max_features=sqrt, n_estimators=1000; total time= 1.4min\n",
            "[CV] END bootstrap=False, max_depth=8, max_features=sqrt, n_estimators=1000; total time= 1.4min\n",
            "[CV] END bootstrap=False, max_depth=8, max_features=sqrt, n_estimators=1000; total time= 1.4min\n",
            "[CV] END bootstrap=False, max_depth=8, max_features=sqrt, n_estimators=1000; total time= 1.4min\n",
            "[CV] END bootstrap=True, max_depth=None, max_features=auto, n_estimators=400; total time=  33.5s\n",
            "[CV] END bootstrap=True, max_depth=None, max_features=auto, n_estimators=400; total time=  33.3s\n",
            "[CV] END bootstrap=True, max_depth=None, max_features=auto, n_estimators=400; total time=  33.4s\n",
            "[CV] END bootstrap=True, max_depth=None, max_features=auto, n_estimators=400; total time=  33.1s\n",
            "[CV] END bootstrap=True, max_depth=None, max_features=auto, n_estimators=400; total time=  35.1s\n",
            "[CV] END bootstrap=False, max_depth=8, max_features=sqrt, n_estimators=400; total time=  33.2s\n",
            "[CV] END bootstrap=False, max_depth=8, max_features=sqrt, n_estimators=400; total time=  32.7s\n",
            "[CV] END bootstrap=False, max_depth=8, max_features=sqrt, n_estimators=400; total time=  32.6s\n",
            "[CV] END bootstrap=False, max_depth=8, max_features=sqrt, n_estimators=400; total time=  32.6s\n",
            "[CV] END bootstrap=False, max_depth=8, max_features=sqrt, n_estimators=400; total time=  32.4s\n",
            "[CV] END bootstrap=True, max_depth=6, max_features=auto, n_estimators=800; total time=  33.2s\n",
            "[CV] END bootstrap=True, max_depth=6, max_features=auto, n_estimators=800; total time=  33.1s\n",
            "[CV] END bootstrap=True, max_depth=6, max_features=auto, n_estimators=800; total time=  33.3s\n",
            "[CV] END bootstrap=True, max_depth=6, max_features=auto, n_estimators=800; total time=  33.1s\n",
            "[CV] END bootstrap=True, max_depth=6, max_features=auto, n_estimators=800; total time=  35.1s\n",
            "[CV] END bootstrap=True, max_depth=8, max_features=sqrt, n_estimators=400; total time=  20.7s\n",
            "[CV] END bootstrap=True, max_depth=8, max_features=sqrt, n_estimators=400; total time=  20.6s\n",
            "[CV] END bootstrap=True, max_depth=8, max_features=sqrt, n_estimators=400; total time=  20.6s\n",
            "[CV] END bootstrap=True, max_depth=8, max_features=sqrt, n_estimators=400; total time=  20.5s\n",
            "[CV] END bootstrap=True, max_depth=8, max_features=sqrt, n_estimators=400; total time=  20.5s\n",
            "[CV] END bootstrap=False, max_depth=7, max_features=auto, n_estimators=800; total time=  58.3s\n",
            "[CV] END bootstrap=False, max_depth=7, max_features=auto, n_estimators=800; total time=  58.2s\n",
            "[CV] END bootstrap=False, max_depth=7, max_features=auto, n_estimators=800; total time=  58.2s\n",
            "[CV] END bootstrap=False, max_depth=7, max_features=auto, n_estimators=800; total time= 1.0min\n",
            "[CV] END bootstrap=False, max_depth=7, max_features=auto, n_estimators=800; total time=  58.4s\n",
            "[CV] END bootstrap=True, max_depth=8, max_features=sqrt, n_estimators=200; total time=  10.3s\n",
            "[CV] END bootstrap=True, max_depth=8, max_features=sqrt, n_estimators=200; total time=  10.3s\n",
            "[CV] END bootstrap=True, max_depth=8, max_features=sqrt, n_estimators=200; total time=  10.2s\n",
            "[CV] END bootstrap=True, max_depth=8, max_features=sqrt, n_estimators=200; total time=  10.3s\n",
            "[CV] END bootstrap=True, max_depth=8, max_features=sqrt, n_estimators=200; total time=  10.3s\n",
            "[CV] END bootstrap=True, max_depth=6, max_features=sqrt, n_estimators=1000; total time=  41.0s\n",
            "[CV] END bootstrap=True, max_depth=6, max_features=sqrt, n_estimators=1000; total time=  41.3s\n",
            "[CV] END bootstrap=True, max_depth=6, max_features=sqrt, n_estimators=1000; total time=  41.0s\n",
            "[CV] END bootstrap=True, max_depth=6, max_features=sqrt, n_estimators=1000; total time=  41.1s\n",
            "[CV] END bootstrap=True, max_depth=6, max_features=sqrt, n_estimators=1000; total time=  41.1s\n"
          ]
        }
      ]
    },
    {
      "cell_type": "code",
      "source": [
        "random_forest_glv.get_params"
      ],
      "metadata": {
        "colab": {
          "base_uri": "https://localhost:8080/"
        },
        "id": "02Pd3A7cAi-n",
        "outputId": "eed2c821-5120-4611-db97-19160067abc9"
      },
      "execution_count": null,
      "outputs": [
        {
          "output_type": "execute_result",
          "data": {
            "text/plain": [
              "<bound method BaseEstimator.get_params of RandomForestClassifier(n_estimators=400)>"
            ]
          },
          "metadata": {},
          "execution_count": 16
        }
      ]
    },
    {
      "cell_type": "code",
      "source": [
        "xx = aug_x_ts.squeeze(1)\n",
        "\n",
        "y_pred = random_forest_glv.predict(xx)\n",
        "\n",
        "result_aug = cohen_kappa_score(aug_y_ts,y_pred,weights='quadratic')\n",
        "print(\"Kappa Score: {}\".format(result_aug))"
      ],
      "metadata": {
        "colab": {
          "base_uri": "https://localhost:8080/"
        },
        "id": "mVQ6K1u5AaW5",
        "outputId": "37516bf0-8bdb-4860-f5ae-fd7fa2e3166c"
      },
      "execution_count": null,
      "outputs": [
        {
          "output_type": "stream",
          "name": "stdout",
          "text": [
            "Kappa Score: 0.7523029470591619\n"
          ]
        }
      ]
    },
    {
      "cell_type": "code",
      "source": [
        "xx = X_test_glv.squeeze(1)\n",
        "\n",
        "y_pred = random_forest_glv.predict(xx)\n",
        "\n",
        "result_aug = cohen_kappa_score(y_test_glv,y_pred,weights='quadratic')\n",
        "print(\"Kappa Score: {}\".format(result_aug))"
      ],
      "metadata": {
        "colab": {
          "base_uri": "https://localhost:8080/"
        },
        "id": "jfYwyLqHAgML",
        "outputId": "2a5729c7-9437-42f6-992f-f7bf54a317f8"
      },
      "execution_count": null,
      "outputs": [
        {
          "output_type": "stream",
          "name": "stdout",
          "text": [
            "Kappa Score: 0.6904671944917012\n"
          ]
        }
      ]
    },
    {
      "cell_type": "code",
      "source": [],
      "metadata": {
        "id": "M6hGbcn5Liyy"
      },
      "execution_count": null,
      "outputs": []
    }
  ]
}