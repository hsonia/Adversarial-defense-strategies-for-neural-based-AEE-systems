{
  "nbformat": 4,
  "nbformat_minor": 0,
  "metadata": {
    "colab": {
      "provenance": []
    },
    "kernelspec": {
      "name": "python3",
      "display_name": "Python 3"
    },
    "language_info": {
      "name": "python"
    }
  },
  "cells": [
    {
      "cell_type": "code",
      "execution_count": null,
      "metadata": {
        "id": "tisnxgZIC3bg"
      },
      "outputs": [],
      "source": [
        "import sklearn\n",
        "from sklearn.model_selection import cross_val_score\n",
        "from sklearn import metrics\n",
        "from sklearn.naive_bayes import GaussianNB\n",
        "from sklearn.metrics import cohen_kappa_score\n",
        "import numpy as np"
      ]
    },
    {
      "cell_type": "code",
      "source": [
        "import pickle\n"
      ],
      "metadata": {
        "id": "jO80OioHDANd"
      },
      "execution_count": null,
      "outputs": []
    },
    {
      "cell_type": "code",
      "source": [
        "with open('org_glv_w2v.pkl', 'rb') as file:\n",
        "  glv_vec = pickle.load(file)\n",
        "  w2v_vec = pickle.load(file)\n",
        "  y = pickle.load(file)\n",
        "  random_state = pickle.load(file)\n",
        "  test_size = pickle.load(file)\n",
        "file.close()"
      ],
      "metadata": {
        "id": "IQPazJ2RDBDM"
      },
      "execution_count": null,
      "outputs": []
    },
    {
      "cell_type": "code",
      "source": [
        "with open('org_gen_aug_w2v.pkl', 'rb') as file:\n",
        "  new_x_train_w2v = pickle.load(file)\n",
        "  new_y_train_w2v = pickle.load(file)\n",
        "  aug_vec_w2v = pickle.load(file)\n",
        "  aug_y_w2v = pickle.load(file)\n",
        "file.close()"
      ],
      "metadata": {
        "id": "iguERXCkDCSE"
      },
      "execution_count": null,
      "outputs": []
    },
    {
      "cell_type": "code",
      "source": [
        "from sklearn.model_selection import StratifiedKFold\n",
        "from sklearn.model_selection import train_test_split"
      ],
      "metadata": {
        "id": "qIfb3grTDEP6"
      },
      "execution_count": null,
      "outputs": []
    },
    {
      "cell_type": "code",
      "source": [
        "X_train_w2v, X_test_w2v, y_train_w2v, y_test_w2v = train_test_split(w2v_vec, y, test_size=0.25, random_state=41)\n"
      ],
      "metadata": {
        "id": "bxrX96ijDFI8"
      },
      "execution_count": null,
      "outputs": []
    },
    {
      "cell_type": "code",
      "source": [
        "from sklearn.naive_bayes import GaussianNB\n",
        "\n",
        "gnb = GaussianNB()\n",
        "xx = X_train_w2v.squeeze(1)\n",
        "gnb.fit(xx, y_train_w2v)\n",
        "p = gnb.predict(X_test_w2v.squeeze(1))\n",
        "result_aug = cohen_kappa_score(y_test_w2v, p,weights='quadratic')\n",
        "print(\"Kappa Score: {}\".format(result_aug))"
      ],
      "metadata": {
        "colab": {
          "base_uri": "https://localhost:8080/"
        },
        "id": "35hHK0kBDGHf",
        "outputId": "80340b95-78c9-4b00-a412-a66f9916b76f"
      },
      "execution_count": null,
      "outputs": [
        {
          "output_type": "stream",
          "name": "stdout",
          "text": [
            "Kappa Score: 0.6485343632279161\n"
          ]
        }
      ]
    },
    {
      "cell_type": "code",
      "source": [
        "_, new_x_test_w2v, _, new_y_test_w2v = train_test_split(new_x_train_w2v, new_y_train_w2v, test_size=0.25, random_state=41)\n",
        "xx = new_x_test_w2v.squeeze(1)\n",
        "\n",
        "y_pred = gnb.predict(xx)\n",
        "\n",
        "result_aug = cohen_kappa_score(new_y_test_w2v,y_pred,weights='quadratic')\n",
        "print(\"Kappa Score: {}\".format(result_aug))"
      ],
      "metadata": {
        "colab": {
          "base_uri": "https://localhost:8080/"
        },
        "id": "ietPMDCVDH4Z",
        "outputId": "206eebdf-97bb-40bb-adfc-299a53dbad96"
      },
      "execution_count": null,
      "outputs": [
        {
          "output_type": "stream",
          "name": "stdout",
          "text": [
            "Kappa Score: 0.12039049471409524\n"
          ]
        }
      ]
    },
    {
      "cell_type": "code",
      "source": [
        "aug_x_tr, aug_x_ts, aug_y_tr, aug_y_ts = train_test_split(aug_vec_w2v, aug_y_w2v, test_size=0.2)\n",
        "xx = aug_x_tr.squeeze(1)\n",
        "gnb = GaussianNB()\n",
        "gnb.fit(xx, aug_y_tr)\n",
        "p = gnb.predict(aug_x_ts.squeeze(1))\n",
        "result_aug = cohen_kappa_score(aug_y_ts, p,weights='quadratic')\n",
        "print(\"Kappa Score: {}\".format(result_aug))"
      ],
      "metadata": {
        "colab": {
          "base_uri": "https://localhost:8080/"
        },
        "id": "9fQCbKcjDJYq",
        "outputId": "036a15a0-f137-46b5-88d1-94562baee507"
      },
      "execution_count": null,
      "outputs": [
        {
          "output_type": "stream",
          "name": "stdout",
          "text": [
            "Kappa Score: 0.6243835691895372\n"
          ]
        }
      ]
    },
    {
      "cell_type": "code",
      "source": [
        "xx = X_test_w2v.squeeze(1)\n",
        "\n",
        "y_pred = gnb.predict(xx)\n",
        "\n",
        "result_aug = cohen_kappa_score(y_test_w2v,y_pred,weights='quadratic')\n",
        "print(\"Kappa Score: {}\".format(result_aug))"
      ],
      "metadata": {
        "colab": {
          "base_uri": "https://localhost:8080/"
        },
        "id": "zJblhKiuMslj",
        "outputId": "8f168ac9-2728-45af-e862-58329cd0b517"
      },
      "execution_count": null,
      "outputs": [
        {
          "output_type": "stream",
          "name": "stdout",
          "text": [
            "Kappa Score: 0.6289042203083366\n"
          ]
        }
      ]
    },
    {
      "cell_type": "code",
      "source": [],
      "metadata": {
        "id": "KYI6CcDUNTSp"
      },
      "execution_count": null,
      "outputs": []
    }
  ]
}