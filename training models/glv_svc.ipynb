{
  "nbformat": 4,
  "nbformat_minor": 0,
  "metadata": {
    "colab": {
      "provenance": []
    },
    "kernelspec": {
      "name": "python3",
      "display_name": "Python 3"
    },
    "language_info": {
      "name": "python"
    }
  },
  "cells": [
    {
      "cell_type": "code",
      "execution_count": null,
      "metadata": {
        "id": "TpKMxQQ_I00d"
      },
      "outputs": [],
      "source": [
        "import sklearn\n",
        "from sklearn.svm import SVC\n",
        "from sklearn.model_selection import cross_val_score\n",
        "\n",
        "from sklearn.metrics import cohen_kappa_score\n",
        "import numpy as np"
      ]
    },
    {
      "cell_type": "code",
      "source": [
        "import pickle"
      ],
      "metadata": {
        "id": "Z2YLjwMcI8Nt"
      },
      "execution_count": null,
      "outputs": []
    },
    {
      "cell_type": "code",
      "source": [
        "with open('org_glv_w2v.pkl', 'rb') as file:\n",
        "  glv_vec = pickle.load(file)\n",
        "  w2v_vec = pickle.load(file)\n",
        "  y = pickle.load(file)\n",
        "  random_state = pickle.load(file)\n",
        "  test_size = pickle.load(file)\n",
        "file.close()"
      ],
      "metadata": {
        "id": "BiikP3ocI_-t"
      },
      "execution_count": null,
      "outputs": []
    },
    {
      "cell_type": "code",
      "source": [
        "with open('org_gen_aug_glv.pkl', 'rb') as file:\n",
        "  new_x_train_glv = pickle.load(file)\n",
        "  new_y_train_glv = pickle.load(file)\n",
        "  aug_vec_glv = pickle.load(file)\n",
        "  aug_y_glv = pickle.load(file)\n",
        "file.close()"
      ],
      "metadata": {
        "id": "lbrC300pJBVp"
      },
      "execution_count": null,
      "outputs": []
    },
    {
      "cell_type": "code",
      "source": [
        "from sklearn.model_selection import RandomizedSearchCV"
      ],
      "metadata": {
        "id": "WGUxK9qBJDyf"
      },
      "execution_count": null,
      "outputs": []
    },
    {
      "cell_type": "code",
      "source": [
        "from sklearn.model_selection import StratifiedKFold\n",
        "from sklearn.model_selection import train_test_split"
      ],
      "metadata": {
        "id": "hccCOvTnJE9A"
      },
      "execution_count": null,
      "outputs": []
    },
    {
      "cell_type": "code",
      "source": [
        "X_train_glv, X_test_glv, y_train_glv, y_test_glv = train_test_split(glv_vec, y, test_size=0.25, random_state=41, stratify=y)\n"
      ],
      "metadata": {
        "id": "kpby5PElJHWM"
      },
      "execution_count": null,
      "outputs": []
    },
    {
      "cell_type": "code",
      "source": [
        "param_grid = {'C': [0.1,1, 10, 100], 'gamma': [0.1,0.1,0.01,0.001],'kernel': ['rbf']}\n"
      ],
      "metadata": {
        "id": "aWSn89t8JIns"
      },
      "execution_count": null,
      "outputs": []
    },
    {
      "cell_type": "code",
      "source": [
        "xx = X_train_glv.squeeze(1)\n",
        "cvkf = StratifiedKFold(n_splits = 5, shuffle=True)\n",
        "rnd_search = RandomizedSearchCV(SVC(), param_grid, cv=cvkf, refit=True, verbose=2)\n",
        "rnd_search.fit(xx, y_train_glv)\n",
        "svc = rnd_search.best_estimator_"
      ],
      "metadata": {
        "colab": {
          "base_uri": "https://localhost:8080/"
        },
        "id": "wnQy5mXx05ZG",
        "outputId": "27b52705-5408-469e-94ac-0043919b282a"
      },
      "execution_count": null,
      "outputs": [
        {
          "output_type": "stream",
          "name": "stdout",
          "text": [
            "Fitting 5 folds for each of 10 candidates, totalling 50 fits\n",
            "[CV] END .......................C=0.1, gamma=0.1, kernel=rbf; total time=   7.4s\n",
            "[CV] END .......................C=0.1, gamma=0.1, kernel=rbf; total time=   7.2s\n",
            "[CV] END .......................C=0.1, gamma=0.1, kernel=rbf; total time=   7.7s\n",
            "[CV] END .......................C=0.1, gamma=0.1, kernel=rbf; total time=   7.2s\n",
            "[CV] END .......................C=0.1, gamma=0.1, kernel=rbf; total time=   7.2s\n",
            "[CV] END ........................C=1, gamma=0.01, kernel=rbf; total time=   6.3s\n",
            "[CV] END ........................C=1, gamma=0.01, kernel=rbf; total time=   6.5s\n",
            "[CV] END ........................C=1, gamma=0.01, kernel=rbf; total time=   6.6s\n",
            "[CV] END ........................C=1, gamma=0.01, kernel=rbf; total time=   6.3s\n",
            "[CV] END ........................C=1, gamma=0.01, kernel=rbf; total time=   7.1s\n",
            "[CV] END .......................C=100, gamma=0.1, kernel=rbf; total time=   8.1s\n",
            "[CV] END .......................C=100, gamma=0.1, kernel=rbf; total time=   8.1s\n",
            "[CV] END .......................C=100, gamma=0.1, kernel=rbf; total time=   8.1s\n",
            "[CV] END .......................C=100, gamma=0.1, kernel=rbf; total time=   8.3s\n",
            "[CV] END .......................C=100, gamma=0.1, kernel=rbf; total time=   8.3s\n",
            "[CV] END ......................C=10, gamma=0.001, kernel=rbf; total time=   5.0s\n",
            "[CV] END ......................C=10, gamma=0.001, kernel=rbf; total time=   4.8s\n",
            "[CV] END ......................C=10, gamma=0.001, kernel=rbf; total time=   4.9s\n",
            "[CV] END ......................C=10, gamma=0.001, kernel=rbf; total time=   4.8s\n",
            "[CV] END ......................C=10, gamma=0.001, kernel=rbf; total time=   5.1s\n",
            "[CV] END .......................C=10, gamma=0.01, kernel=rbf; total time=   6.4s\n",
            "[CV] END .......................C=10, gamma=0.01, kernel=rbf; total time=   6.4s\n",
            "[CV] END .......................C=10, gamma=0.01, kernel=rbf; total time=   6.4s\n",
            "[CV] END .......................C=10, gamma=0.01, kernel=rbf; total time=   6.4s\n",
            "[CV] END .......................C=10, gamma=0.01, kernel=rbf; total time=   6.4s\n",
            "[CV] END ........................C=10, gamma=0.1, kernel=rbf; total time=   8.0s\n",
            "[CV] END ........................C=10, gamma=0.1, kernel=rbf; total time=   8.0s\n",
            "[CV] END ........................C=10, gamma=0.1, kernel=rbf; total time=   8.1s\n",
            "[CV] END ........................C=10, gamma=0.1, kernel=rbf; total time=   8.5s\n",
            "[CV] END ........................C=10, gamma=0.1, kernel=rbf; total time=   8.1s\n",
            "[CV] END .......................C=1, gamma=0.001, kernel=rbf; total time=   3.8s\n",
            "[CV] END .......................C=1, gamma=0.001, kernel=rbf; total time=   3.8s\n",
            "[CV] END .......................C=1, gamma=0.001, kernel=rbf; total time=   3.7s\n",
            "[CV] END .......................C=1, gamma=0.001, kernel=rbf; total time=   3.7s\n",
            "[CV] END .......................C=1, gamma=0.001, kernel=rbf; total time=   3.8s\n",
            "[CV] END .......................C=100, gamma=0.1, kernel=rbf; total time=   8.0s\n",
            "[CV] END .......................C=100, gamma=0.1, kernel=rbf; total time=   8.1s\n",
            "[CV] END .......................C=100, gamma=0.1, kernel=rbf; total time=   8.2s\n",
            "[CV] END .......................C=100, gamma=0.1, kernel=rbf; total time=   8.2s\n",
            "[CV] END .......................C=100, gamma=0.1, kernel=rbf; total time=   8.3s\n",
            "[CV] END .....................C=100, gamma=0.001, kernel=rbf; total time=   5.4s\n",
            "[CV] END .....................C=100, gamma=0.001, kernel=rbf; total time=   5.4s\n",
            "[CV] END .....................C=100, gamma=0.001, kernel=rbf; total time=   5.8s\n",
            "[CV] END .....................C=100, gamma=0.001, kernel=rbf; total time=   5.8s\n",
            "[CV] END .....................C=100, gamma=0.001, kernel=rbf; total time=   6.8s\n",
            "[CV] END .....................C=0.1, gamma=0.001, kernel=rbf; total time=   3.5s\n",
            "[CV] END .....................C=0.1, gamma=0.001, kernel=rbf; total time=   3.8s\n",
            "[CV] END .....................C=0.1, gamma=0.001, kernel=rbf; total time=   3.5s\n",
            "[CV] END .....................C=0.1, gamma=0.001, kernel=rbf; total time=   3.5s\n",
            "[CV] END .....................C=0.1, gamma=0.001, kernel=rbf; total time=   3.6s\n"
          ]
        }
      ]
    },
    {
      "cell_type": "code",
      "source": [
        "svc.get_params"
      ],
      "metadata": {
        "colab": {
          "base_uri": "https://localhost:8080/"
        },
        "id": "AnWyhdUw0vri",
        "outputId": "63131a5e-a42f-4e32-a661-a7aa8798a426"
      },
      "execution_count": null,
      "outputs": [
        {
          "output_type": "execute_result",
          "data": {
            "text/plain": [
              "<bound method BaseEstimator.get_params of SVC(C=1, gamma=0.001)>"
            ]
          },
          "metadata": {},
          "execution_count": 15
        }
      ]
    },
    {
      "cell_type": "code",
      "source": [
        "xx = X_test_glv.squeeze(1)\n",
        "\n",
        "y_pred = svc.predict(xx)\n",
        "\n",
        "result_aug = cohen_kappa_score(y_test_glv,y_pred,weights='quadratic')\n",
        "print(\"Kappa Score: {}\".format(result_aug))"
      ],
      "metadata": {
        "colab": {
          "base_uri": "https://localhost:8080/"
        },
        "id": "p7xl5QwX2Vem",
        "outputId": "8f0cbfba-d71b-4d96-c079-3431aeaddf52"
      },
      "execution_count": null,
      "outputs": [
        {
          "output_type": "stream",
          "name": "stdout",
          "text": [
            "Kappa Score: 0.7176869918897434\n"
          ]
        }
      ]
    },
    {
      "cell_type": "code",
      "source": [
        "from sklearn.metrics import accuracy_score\n",
        "_, new_x_test_glv, _, new_y_test_glv = train_test_split(new_x_train_glv, new_y_train_glv, test_size=0.25, stratify=new_y_train_glv)\n",
        "xx = new_x_test_glv.squeeze(1)\n",
        "\n",
        "y_pred = svc.predict(xx)\n",
        "\n",
        "result_aug = accuracy_score(new_y_test_glv,y_pred)\n",
        "print(\"accuracy Score: {}\".format(result_aug))"
      ],
      "metadata": {
        "colab": {
          "base_uri": "https://localhost:8080/"
        },
        "id": "ptkIxp2Q2kZJ",
        "outputId": "ba485f38-0988-4551-ee43-c916d06f8faa"
      },
      "execution_count": null,
      "outputs": [
        {
          "output_type": "stream",
          "name": "stdout",
          "text": [
            "accuracy Score: 0.5428709055876686\n"
          ]
        }
      ]
    },
    {
      "cell_type": "code",
      "source": [
        "aug_x_tr, aug_x_ts, aug_y_tr, aug_y_ts = train_test_split(aug_vec_glv, aug_y_glv, test_size=0.2, random_state=41)\n",
        "xx = aug_x_tr.squeeze(1)\n",
        "rnd_search_glv = RandomizedSearchCV(SVC(), param_grid, refit=True, verbose=2)\n",
        "rnd_search_glv.fit(xx, aug_y_tr)\n",
        "SVC = rnd_search_glv.best_estimator_"
      ],
      "metadata": {
        "colab": {
          "base_uri": "https://localhost:8080/"
        },
        "id": "ZbL-v93r2o84",
        "outputId": "a327c5b9-13eb-4641-ebdf-c271593e0e3e"
      },
      "execution_count": null,
      "outputs": [
        {
          "output_type": "stream",
          "name": "stdout",
          "text": [
            "Fitting 5 folds for each of 10 candidates, totalling 50 fits\n",
            "[CV] END ......................C=0.1, gamma=0.01, kernel=rbf; total time=  16.3s\n",
            "[CV] END ......................C=0.1, gamma=0.01, kernel=rbf; total time=  15.3s\n",
            "[CV] END ......................C=0.1, gamma=0.01, kernel=rbf; total time=  14.8s\n",
            "[CV] END ......................C=0.1, gamma=0.01, kernel=rbf; total time=  14.9s\n",
            "[CV] END ......................C=0.1, gamma=0.01, kernel=rbf; total time=  15.8s\n",
            "[CV] END ........................C=10, gamma=0.1, kernel=rbf; total time=  21.4s\n",
            "[CV] END ........................C=10, gamma=0.1, kernel=rbf; total time=  21.5s\n",
            "[CV] END ........................C=10, gamma=0.1, kernel=rbf; total time=  22.3s\n",
            "[CV] END ........................C=10, gamma=0.1, kernel=rbf; total time=  21.1s\n",
            "[CV] END ........................C=10, gamma=0.1, kernel=rbf; total time=  21.3s\n",
            "[CV] END .......................C=0.1, gamma=0.1, kernel=rbf; total time=  19.3s\n",
            "[CV] END .......................C=0.1, gamma=0.1, kernel=rbf; total time=  19.1s\n",
            "[CV] END .......................C=0.1, gamma=0.1, kernel=rbf; total time=  19.2s\n",
            "[CV] END .......................C=0.1, gamma=0.1, kernel=rbf; total time=  19.3s\n",
            "[CV] END .......................C=0.1, gamma=0.1, kernel=rbf; total time=  19.4s\n",
            "[CV] END .......................C=0.1, gamma=0.1, kernel=rbf; total time=  19.6s\n",
            "[CV] END .......................C=0.1, gamma=0.1, kernel=rbf; total time=  19.4s\n",
            "[CV] END .......................C=0.1, gamma=0.1, kernel=rbf; total time=  19.1s\n",
            "[CV] END .......................C=0.1, gamma=0.1, kernel=rbf; total time=  19.1s\n",
            "[CV] END .......................C=0.1, gamma=0.1, kernel=rbf; total time=  19.4s\n",
            "[CV] END .........................C=1, gamma=0.1, kernel=rbf; total time=  21.3s\n",
            "[CV] END .........................C=1, gamma=0.1, kernel=rbf; total time=  21.3s\n",
            "[CV] END .........................C=1, gamma=0.1, kernel=rbf; total time=  22.4s\n",
            "[CV] END .........................C=1, gamma=0.1, kernel=rbf; total time=  21.3s\n",
            "[CV] END .........................C=1, gamma=0.1, kernel=rbf; total time=  21.2s\n",
            "[CV] END .....................C=100, gamma=0.001, kernel=rbf; total time=  14.1s\n",
            "[CV] END .....................C=100, gamma=0.001, kernel=rbf; total time=  14.6s\n",
            "[CV] END .....................C=100, gamma=0.001, kernel=rbf; total time=  14.0s\n",
            "[CV] END .....................C=100, gamma=0.001, kernel=rbf; total time=  13.2s\n",
            "[CV] END .....................C=100, gamma=0.001, kernel=rbf; total time=  14.7s\n",
            "[CV] END .......................C=100, gamma=0.1, kernel=rbf; total time=  21.1s\n",
            "[CV] END .......................C=100, gamma=0.1, kernel=rbf; total time=  21.4s\n",
            "[CV] END .......................C=100, gamma=0.1, kernel=rbf; total time=  21.5s\n",
            "[CV] END .......................C=100, gamma=0.1, kernel=rbf; total time=  20.9s\n",
            "[CV] END .......................C=100, gamma=0.1, kernel=rbf; total time=  21.2s\n",
            "[CV] END ........................C=10, gamma=0.1, kernel=rbf; total time=  21.2s\n",
            "[CV] END ........................C=10, gamma=0.1, kernel=rbf; total time=  21.3s\n",
            "[CV] END ........................C=10, gamma=0.1, kernel=rbf; total time=  21.6s\n",
            "[CV] END ........................C=10, gamma=0.1, kernel=rbf; total time=  22.5s\n",
            "[CV] END ........................C=10, gamma=0.1, kernel=rbf; total time=  22.1s\n",
            "[CV] END .......................C=1, gamma=0.001, kernel=rbf; total time=   9.4s\n",
            "[CV] END .......................C=1, gamma=0.001, kernel=rbf; total time=   9.5s\n",
            "[CV] END .......................C=1, gamma=0.001, kernel=rbf; total time=   9.2s\n",
            "[CV] END .......................C=1, gamma=0.001, kernel=rbf; total time=   9.4s\n",
            "[CV] END .......................C=1, gamma=0.001, kernel=rbf; total time=   9.6s\n",
            "[CV] END .........................C=1, gamma=0.1, kernel=rbf; total time=  21.2s\n",
            "[CV] END .........................C=1, gamma=0.1, kernel=rbf; total time=  21.8s\n",
            "[CV] END .........................C=1, gamma=0.1, kernel=rbf; total time=  21.3s\n",
            "[CV] END .........................C=1, gamma=0.1, kernel=rbf; total time=  22.2s\n",
            "[CV] END .........................C=1, gamma=0.1, kernel=rbf; total time=  21.4s\n"
          ]
        }
      ]
    },
    {
      "cell_type": "code",
      "source": [
        "SVC.get_params"
      ],
      "metadata": {
        "colab": {
          "base_uri": "https://localhost:8080/"
        },
        "id": "_a99QoL17CCE",
        "outputId": "1fc00471-6766-4a9c-b3e6-03429ffdb732"
      },
      "execution_count": null,
      "outputs": [
        {
          "output_type": "execute_result",
          "data": {
            "text/plain": [
              "<bound method BaseEstimator.get_params of SVC(C=100, gamma=0.001)>"
            ]
          },
          "metadata": {},
          "execution_count": 20
        }
      ]
    },
    {
      "cell_type": "code",
      "source": [
        "xx = aug_x_ts.squeeze(1)\n",
        "\n",
        "y_pred = SVC.predict(xx)\n",
        "\n",
        "result_aug = cohen_kappa_score(aug_y_ts,y_pred,weights='quadratic')\n",
        "print(\"Kappa Score: {}\".format(result_aug))"
      ],
      "metadata": {
        "colab": {
          "base_uri": "https://localhost:8080/"
        },
        "id": "o3va3UQg66_4",
        "outputId": "c8733b1f-c7f1-4d1f-f342-389d6ed20f2f"
      },
      "execution_count": null,
      "outputs": [
        {
          "output_type": "stream",
          "name": "stdout",
          "text": [
            "Kappa Score: 0.7966172798789305\n"
          ]
        }
      ]
    },
    {
      "cell_type": "code",
      "source": [
        "xx = X_test_glv.squeeze(1)\n",
        "\n",
        "y_pred = SVC.predict(xx)\n",
        "\n",
        "result_aug = cohen_kappa_score(y_test_glv,y_pred,weights='quadratic')\n",
        "print(\"Kappa Score: {}\".format(result_aug))"
      ],
      "metadata": {
        "colab": {
          "base_uri": "https://localhost:8080/"
        },
        "id": "4tqd17oU6-Lo",
        "outputId": "92e6eb3b-23d9-4dca-da82-bce061ea5fb1"
      },
      "execution_count": null,
      "outputs": [
        {
          "output_type": "stream",
          "name": "stdout",
          "text": [
            "Kappa Score: 0.8729164868388145\n"
          ]
        }
      ]
    }
  ]
}