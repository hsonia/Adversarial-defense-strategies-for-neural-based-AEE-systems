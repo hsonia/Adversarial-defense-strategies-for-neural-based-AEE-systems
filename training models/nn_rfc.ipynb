{
  "nbformat": 4,
  "nbformat_minor": 0,
  "metadata": {
    "colab": {
      "provenance": []
    },
    "kernelspec": {
      "name": "python3",
      "display_name": "Python 3"
    },
    "language_info": {
      "name": "python"
    }
  },
  "cells": [
    {
      "cell_type": "code",
      "execution_count": null,
      "metadata": {
        "id": "dujxvh0OoB8Z"
      },
      "outputs": [],
      "source": [
        "import sklearn\n",
        "from sklearn.ensemble import RandomForestClassifier\n",
        "from sklearn.model_selection import cross_val_score\n",
        "from sklearn import metrics\n",
        "\n",
        "from sklearn.metrics import cohen_kappa_score\n",
        "import numpy as np\n",
        "import pickle\n"
      ]
    },
    {
      "cell_type": "code",
      "source": [
        "with open('zorg_gen_aug_nn.pkl', 'rb') as file:\n",
        "  glv_vec = pickle.load(file)\n",
        "  y = pickle.load(file)\n",
        "  new_vec_nn = pickle.load(file)\n",
        "  new_y_nn = pickle.load(file)\n",
        "  aug_vec_nn = pickle.load(file)\n",
        "  aug_y_nn = pickle.load(file)\n",
        "  aug_v = pickle.load(file)\n",
        "  aug_y = pickle.load(file)\n",
        "file.close()"
      ],
      "metadata": {
        "id": "gsaXCzXroLn1"
      },
      "execution_count": null,
      "outputs": []
    },
    {
      "cell_type": "code",
      "source": [
        "from sklearn.model_selection import GridSearchCV, RandomizedSearchCV\n",
        "from sklearn.model_selection import StratifiedKFold\n",
        "from sklearn.model_selection import train_test_split"
      ],
      "metadata": {
        "id": "3KMg2_2MoOtD"
      },
      "execution_count": null,
      "outputs": []
    },
    {
      "cell_type": "code",
      "source": [
        "X_train_nn, X_test_nn, y_train_nn, y_test_nn = train_test_split(glv_vec, y, test_size=0.25, random_state=41, stratify=y)"
      ],
      "metadata": {
        "id": "UMPeie2-oSRM"
      },
      "execution_count": null,
      "outputs": []
    },
    {
      "cell_type": "code",
      "source": [
        "param_grid = {'bootstrap': [True, False],\n",
        " 'max_depth': [1,2,3,4,5,6,7,8,None],\n",
        " 'max_features': ['auto', 'sqrt'],\n",
        " 'n_estimators': [200, 400, 600, 800, 1000]}"
      ],
      "metadata": {
        "id": "TSLuw5fCoY42"
      },
      "execution_count": null,
      "outputs": []
    },
    {
      "cell_type": "code",
      "source": [
        "xx = X_train_nn.squeeze(1)\n",
        "rnd_search_nn = RandomizedSearchCV(RandomForestClassifier(), param_grid, refit=True, verbose=2)\n",
        "rnd_search_nn.fit(xx, y_train_nn)\n",
        "random_forest_nn = rnd_search_nn.best_estimator_"
      ],
      "metadata": {
        "colab": {
          "base_uri": "https://localhost:8080/"
        },
        "id": "cDgKpkRvHM-g",
        "outputId": "3707248c-785d-4499-9132-1f1f9ee53564"
      },
      "execution_count": null,
      "outputs": [
        {
          "output_type": "stream",
          "name": "stdout",
          "text": [
            "Fitting 5 folds for each of 10 candidates, totalling 50 fits\n"
          ]
        },
        {
          "output_type": "stream",
          "name": "stderr",
          "text": [
            "/usr/local/lib/python3.8/dist-packages/sklearn/model_selection/_split.py:676: UserWarning: The least populated class in y has only 4 members, which is less than n_splits=5.\n",
            "  warnings.warn(\n"
          ]
        },
        {
          "output_type": "stream",
          "name": "stdout",
          "text": [
            "[CV] END bootstrap=False, max_depth=2, max_features=sqrt, n_estimators=400; total time=   7.6s\n",
            "[CV] END bootstrap=False, max_depth=2, max_features=sqrt, n_estimators=400; total time=   5.7s\n",
            "[CV] END bootstrap=False, max_depth=2, max_features=sqrt, n_estimators=400; total time=   4.6s\n",
            "[CV] END bootstrap=False, max_depth=2, max_features=sqrt, n_estimators=400; total time=   4.6s\n",
            "[CV] END bootstrap=False, max_depth=2, max_features=sqrt, n_estimators=400; total time=   4.7s\n",
            "[CV] END bootstrap=True, max_depth=1, max_features=auto, n_estimators=200; total time=   1.1s\n",
            "[CV] END bootstrap=True, max_depth=1, max_features=auto, n_estimators=200; total time=   1.0s\n",
            "[CV] END bootstrap=True, max_depth=1, max_features=auto, n_estimators=200; total time=   1.0s\n",
            "[CV] END bootstrap=True, max_depth=1, max_features=auto, n_estimators=200; total time=   1.0s\n",
            "[CV] END bootstrap=True, max_depth=1, max_features=auto, n_estimators=200; total time=   1.0s\n",
            "[CV] END bootstrap=True, max_depth=None, max_features=sqrt, n_estimators=800; total time=  26.9s\n",
            "[CV] END bootstrap=True, max_depth=None, max_features=sqrt, n_estimators=800; total time=  26.7s\n",
            "[CV] END bootstrap=True, max_depth=None, max_features=sqrt, n_estimators=800; total time=  29.4s\n",
            "[CV] END bootstrap=True, max_depth=None, max_features=sqrt, n_estimators=800; total time=  26.7s\n",
            "[CV] END bootstrap=True, max_depth=None, max_features=sqrt, n_estimators=800; total time=  27.0s\n",
            "[CV] END bootstrap=False, max_depth=7, max_features=sqrt, n_estimators=800; total time=  25.3s\n",
            "[CV] END bootstrap=False, max_depth=7, max_features=sqrt, n_estimators=800; total time=  25.3s\n",
            "[CV] END bootstrap=False, max_depth=7, max_features=sqrt, n_estimators=800; total time=  25.2s\n",
            "[CV] END bootstrap=False, max_depth=7, max_features=sqrt, n_estimators=800; total time=  25.3s\n",
            "[CV] END bootstrap=False, max_depth=7, max_features=sqrt, n_estimators=800; total time=  25.3s\n",
            "[CV] END bootstrap=False, max_depth=2, max_features=sqrt, n_estimators=600; total time=   6.9s\n",
            "[CV] END bootstrap=False, max_depth=2, max_features=sqrt, n_estimators=600; total time=   6.9s\n",
            "[CV] END bootstrap=False, max_depth=2, max_features=sqrt, n_estimators=600; total time=   6.9s\n",
            "[CV] END bootstrap=False, max_depth=2, max_features=sqrt, n_estimators=600; total time=   6.9s\n",
            "[CV] END bootstrap=False, max_depth=2, max_features=sqrt, n_estimators=600; total time=   6.9s\n",
            "[CV] END bootstrap=True, max_depth=3, max_features=auto, n_estimators=400; total time=   4.4s\n",
            "[CV] END bootstrap=True, max_depth=3, max_features=auto, n_estimators=400; total time=   4.4s\n",
            "[CV] END bootstrap=True, max_depth=3, max_features=auto, n_estimators=400; total time=   4.4s\n",
            "[CV] END bootstrap=True, max_depth=3, max_features=auto, n_estimators=400; total time=   4.4s\n",
            "[CV] END bootstrap=True, max_depth=3, max_features=auto, n_estimators=400; total time=   4.4s\n",
            "[CV] END bootstrap=False, max_depth=7, max_features=auto, n_estimators=800; total time=  25.2s\n",
            "[CV] END bootstrap=False, max_depth=7, max_features=auto, n_estimators=800; total time=  25.2s\n",
            "[CV] END bootstrap=False, max_depth=7, max_features=auto, n_estimators=800; total time=  25.2s\n",
            "[CV] END bootstrap=False, max_depth=7, max_features=auto, n_estimators=800; total time=  25.3s\n",
            "[CV] END bootstrap=True, max_depth=4, max_features=auto, n_estimators=600; total time=   8.1s\n",
            "[CV] END bootstrap=True, max_depth=4, max_features=auto, n_estimators=600; total time=   8.1s\n",
            "[CV] END bootstrap=True, max_depth=4, max_features=auto, n_estimators=600; total time=   9.9s\n",
            "[CV] END bootstrap=True, max_depth=4, max_features=auto, n_estimators=600; total time=   8.1s\n",
            "[CV] END bootstrap=True, max_depth=4, max_features=auto, n_estimators=600; total time=   8.1s\n",
            "[CV] END bootstrap=True, max_depth=8, max_features=auto, n_estimators=1000; total time=  22.7s\n",
            "[CV] END bootstrap=True, max_depth=8, max_features=auto, n_estimators=1000; total time=  22.7s\n",
            "[CV] END bootstrap=True, max_depth=8, max_features=auto, n_estimators=1000; total time=  22.6s\n",
            "[CV] END bootstrap=True, max_depth=8, max_features=auto, n_estimators=1000; total time=  22.6s\n",
            "[CV] END bootstrap=True, max_depth=8, max_features=auto, n_estimators=1000; total time=  22.7s\n",
            "[CV] END bootstrap=False, max_depth=3, max_features=sqrt, n_estimators=400; total time=   6.4s\n",
            "[CV] END bootstrap=False, max_depth=3, max_features=sqrt, n_estimators=400; total time=   6.3s\n",
            "[CV] END bootstrap=False, max_depth=3, max_features=sqrt, n_estimators=400; total time=   6.4s\n",
            "[CV] END bootstrap=False, max_depth=3, max_features=sqrt, n_estimators=400; total time=   6.4s\n",
            "[CV] END bootstrap=False, max_depth=3, max_features=sqrt, n_estimators=400; total time=   6.4s\n"
          ]
        }
      ]
    },
    {
      "cell_type": "code",
      "source": [
        "random_forest_nn.get_params"
      ],
      "metadata": {
        "colab": {
          "base_uri": "https://localhost:8080/"
        },
        "id": "AqrBYUUaKyEu",
        "outputId": "8bf27957-14d8-4a41-dff6-18afe97b3ee5"
      },
      "execution_count": null,
      "outputs": [
        {
          "output_type": "execute_result",
          "data": {
            "text/plain": [
              "<bound method BaseEstimator.get_params of RandomForestClassifier(max_features='sqrt', n_estimators=800)>"
            ]
          },
          "metadata": {},
          "execution_count": 10
        }
      ]
    },
    {
      "cell_type": "code",
      "source": [
        "xx = X_test_nn.squeeze(1)\n",
        "\n",
        "y_pred = random_forest_nn.predict(xx)\n",
        "\n",
        "result_aug = cohen_kappa_score(y_test_nn,y_pred,weights='quadratic')\n",
        "print(\"Kappa Score: {}\".format(result_aug))"
      ],
      "metadata": {
        "colab": {
          "base_uri": "https://localhost:8080/"
        },
        "id": "_lr4IXfoKnoj",
        "outputId": "c42f8dd7-20a7-4058-884c-1e416cf82ea1"
      },
      "execution_count": null,
      "outputs": [
        {
          "output_type": "stream",
          "name": "stdout",
          "text": [
            "Kappa Score: 0.7079773096086517\n"
          ]
        }
      ]
    },
    {
      "cell_type": "code",
      "source": [
        "_, new_x_test_nn, _, new_y_test_nn = train_test_split(new_vec_nn, new_y_nn, test_size=0.25)\n",
        "xx = new_x_test_nn.squeeze(1)\n",
        "y_pred = random_forest_nn.predict(xx)\n",
        "\n",
        "result_aug = cohen_kappa_score(new_y_test_nn,y_pred,weights='quadratic')\n",
        "print(\"Kappa Score: {}\".format(result_aug))"
      ],
      "metadata": {
        "colab": {
          "base_uri": "https://localhost:8080/"
        },
        "id": "P740yFPOKr5b",
        "outputId": "b8cbe51a-fc5e-43d3-ddb5-f01b0fdccab0"
      },
      "execution_count": null,
      "outputs": [
        {
          "output_type": "stream",
          "name": "stdout",
          "text": [
            "Kappa Score: 0.2991398835202761\n"
          ]
        }
      ]
    },
    {
      "cell_type": "code",
      "source": [
        "aug_x_tr, aug_x_ts, aug_y_tr, aug_y_ts = train_test_split(aug_vec_nn, aug_y_nn, test_size=0.2)\n",
        "xx = aug_x_tr.squeeze(1)\n",
        "rnd_search_nn = RandomizedSearchCV(RandomForestClassifier(), param_grid, refit=True, verbose=2)\n",
        "rnd_search_nn.fit(xx, aug_y_tr)\n",
        "random_forest_nn = rnd_search_nn.best_estimator_\n"
      ],
      "metadata": {
        "colab": {
          "base_uri": "https://localhost:8080/"
        },
        "id": "i2vs8EfkK5Nd",
        "outputId": "f67c4c96-0af6-422e-8bb8-29d698fb78e8"
      },
      "execution_count": null,
      "outputs": [
        {
          "output_type": "stream",
          "name": "stdout",
          "text": [
            "Fitting 5 folds for each of 10 candidates, totalling 50 fits\n"
          ]
        },
        {
          "output_type": "stream",
          "name": "stderr",
          "text": [
            "/usr/local/lib/python3.8/dist-packages/sklearn/model_selection/_split.py:676: UserWarning: The least populated class in y has only 1 members, which is less than n_splits=5.\n",
            "  warnings.warn(\n"
          ]
        },
        {
          "output_type": "stream",
          "name": "stdout",
          "text": [
            "[CV] END bootstrap=False, max_depth=None, max_features=sqrt, n_estimators=1000; total time= 1.2min\n",
            "[CV] END bootstrap=False, max_depth=None, max_features=sqrt, n_estimators=1000; total time= 1.2min\n",
            "[CV] END bootstrap=False, max_depth=None, max_features=sqrt, n_estimators=1000; total time= 1.2min\n",
            "[CV] END bootstrap=False, max_depth=None, max_features=sqrt, n_estimators=1000; total time= 1.2min\n",
            "[CV] END bootstrap=False, max_depth=None, max_features=sqrt, n_estimators=1000; total time= 1.2min\n",
            "[CV] END bootstrap=True, max_depth=6, max_features=auto, n_estimators=600; total time=  15.7s\n",
            "[CV] END bootstrap=True, max_depth=6, max_features=auto, n_estimators=600; total time=  14.3s\n",
            "[CV] END bootstrap=True, max_depth=6, max_features=auto, n_estimators=600; total time=  14.0s\n",
            "[CV] END bootstrap=True, max_depth=6, max_features=auto, n_estimators=600; total time=  14.0s\n",
            "[CV] END bootstrap=True, max_depth=6, max_features=auto, n_estimators=600; total time=  14.1s\n",
            "[CV] END bootstrap=False, max_depth=6, max_features=sqrt, n_estimators=200; total time=   7.3s\n",
            "[CV] END bootstrap=False, max_depth=6, max_features=sqrt, n_estimators=200; total time=   7.2s\n",
            "[CV] END bootstrap=False, max_depth=6, max_features=sqrt, n_estimators=200; total time=   7.2s\n",
            "[CV] END bootstrap=False, max_depth=6, max_features=sqrt, n_estimators=200; total time=   7.2s\n",
            "[CV] END bootstrap=False, max_depth=6, max_features=sqrt, n_estimators=200; total time=   7.2s\n",
            "[CV] END bootstrap=False, max_depth=4, max_features=sqrt, n_estimators=400; total time=  10.3s\n",
            "[CV] END bootstrap=False, max_depth=4, max_features=sqrt, n_estimators=400; total time=  10.3s\n",
            "[CV] END bootstrap=False, max_depth=4, max_features=sqrt, n_estimators=400; total time=  10.4s\n",
            "[CV] END bootstrap=False, max_depth=4, max_features=sqrt, n_estimators=400; total time=  10.4s\n",
            "[CV] END bootstrap=False, max_depth=4, max_features=sqrt, n_estimators=400; total time=  10.3s\n",
            "[CV] END bootstrap=True, max_depth=3, max_features=auto, n_estimators=400; total time=   5.5s\n",
            "[CV] END bootstrap=True, max_depth=3, max_features=auto, n_estimators=400; total time=   5.5s\n",
            "[CV] END bootstrap=True, max_depth=3, max_features=auto, n_estimators=400; total time=   5.5s\n",
            "[CV] END bootstrap=True, max_depth=3, max_features=auto, n_estimators=400; total time=   5.5s\n",
            "[CV] END bootstrap=True, max_depth=3, max_features=auto, n_estimators=400; total time=   5.5s\n",
            "[CV] END bootstrap=False, max_depth=6, max_features=auto, n_estimators=800; total time=  28.9s\n",
            "[CV] END bootstrap=False, max_depth=6, max_features=auto, n_estimators=800; total time=  29.1s\n",
            "[CV] END bootstrap=False, max_depth=6, max_features=auto, n_estimators=800; total time=  29.0s\n",
            "[CV] END bootstrap=False, max_depth=6, max_features=auto, n_estimators=800; total time=  29.0s\n",
            "[CV] END bootstrap=False, max_depth=6, max_features=auto, n_estimators=800; total time=  29.0s\n",
            "[CV] END bootstrap=True, max_depth=7, max_features=sqrt, n_estimators=200; total time=   5.3s\n",
            "[CV] END bootstrap=True, max_depth=7, max_features=sqrt, n_estimators=200; total time=   5.3s\n",
            "[CV] END bootstrap=True, max_depth=7, max_features=sqrt, n_estimators=200; total time=   5.3s\n",
            "[CV] END bootstrap=True, max_depth=7, max_features=sqrt, n_estimators=200; total time=   5.3s\n",
            "[CV] END bootstrap=True, max_depth=7, max_features=sqrt, n_estimators=200; total time=   5.3s\n",
            "[CV] END bootstrap=True, max_depth=4, max_features=auto, n_estimators=800; total time=  13.7s\n",
            "[CV] END bootstrap=True, max_depth=4, max_features=auto, n_estimators=800; total time=  13.8s\n",
            "[CV] END bootstrap=True, max_depth=4, max_features=auto, n_estimators=800; total time=  13.8s\n",
            "[CV] END bootstrap=True, max_depth=4, max_features=auto, n_estimators=800; total time=  13.7s\n",
            "[CV] END bootstrap=True, max_depth=4, max_features=auto, n_estimators=800; total time=  15.1s\n",
            "[CV] END bootstrap=True, max_depth=7, max_features=sqrt, n_estimators=600; total time=  16.3s\n",
            "[CV] END bootstrap=True, max_depth=7, max_features=sqrt, n_estimators=600; total time=  15.8s\n",
            "[CV] END bootstrap=True, max_depth=7, max_features=sqrt, n_estimators=600; total time=  15.8s\n",
            "[CV] END bootstrap=True, max_depth=7, max_features=sqrt, n_estimators=600; total time=  15.9s\n",
            "[CV] END bootstrap=True, max_depth=7, max_features=sqrt, n_estimators=600; total time=  15.8s\n",
            "[CV] END bootstrap=False, max_depth=4, max_features=auto, n_estimators=400; total time=  10.4s\n",
            "[CV] END bootstrap=False, max_depth=4, max_features=auto, n_estimators=400; total time=  10.4s\n",
            "[CV] END bootstrap=False, max_depth=4, max_features=auto, n_estimators=400; total time=  10.4s\n",
            "[CV] END bootstrap=False, max_depth=4, max_features=auto, n_estimators=400; total time=  10.4s\n",
            "[CV] END bootstrap=False, max_depth=4, max_features=auto, n_estimators=400; total time=  10.3s\n"
          ]
        }
      ]
    },
    {
      "cell_type": "code",
      "source": [
        "random_forest_nn.get_params"
      ],
      "metadata": {
        "colab": {
          "base_uri": "https://localhost:8080/"
        },
        "id": "enisrEt3O936",
        "outputId": "3b8ed9f7-9408-4387-81dc-73ad7766171a"
      },
      "execution_count": null,
      "outputs": [
        {
          "output_type": "execute_result",
          "data": {
            "text/plain": [
              "<bound method BaseEstimator.get_params of RandomForestClassifier(bootstrap=False, max_features='sqrt', n_estimators=1000)>"
            ]
          },
          "metadata": {},
          "execution_count": 14
        }
      ]
    },
    {
      "cell_type": "code",
      "source": [
        "xx = aug_x_ts.squeeze(1)\n",
        "\n",
        "y_pred = random_forest_nn.predict(xx)\n",
        "\n",
        "result_aug = cohen_kappa_score(aug_y_ts,y_pred,weights='quadratic')\n",
        "print(\"Kappa Score: {}\".format(result_aug))"
      ],
      "metadata": {
        "colab": {
          "base_uri": "https://localhost:8080/"
        },
        "id": "sxibqNIWO1KZ",
        "outputId": "10c61c0b-3520-4a88-88e8-ce55424986e7"
      },
      "execution_count": null,
      "outputs": [
        {
          "output_type": "stream",
          "name": "stdout",
          "text": [
            "Kappa Score: 0.6324170652971124\n"
          ]
        }
      ]
    },
    {
      "cell_type": "code",
      "source": [
        "aug_x_tr, aug_x_ts, aug_y_tr, aug_y_ts = train_test_split(aug_v, aug_y, test_size=0.2, random_state=41)\n",
        "xx = aug_x_tr.squeeze(1)\n",
        "rnd_search = RandomizedSearchCV(RandomForestClassifier(), param_grid, refit=True, verbose=2)\n",
        "rnd_search.fit(xx, aug_y_tr)\n",
        "random_forest_nn = rnd_search.best_estimator_"
      ],
      "metadata": {
        "colab": {
          "base_uri": "https://localhost:8080/"
        },
        "id": "MMNgfTYMO6FD",
        "outputId": "ae60c5e6-94be-4539-e664-e4f25fd07977"
      },
      "execution_count": null,
      "outputs": [
        {
          "output_type": "stream",
          "name": "stdout",
          "text": [
            "Fitting 5 folds for each of 10 candidates, totalling 50 fits\n",
            "[CV] END bootstrap=True, max_depth=2, max_features=sqrt, n_estimators=800; total time=  15.0s\n",
            "[CV] END bootstrap=True, max_depth=2, max_features=sqrt, n_estimators=800; total time=  14.9s\n",
            "[CV] END bootstrap=True, max_depth=2, max_features=sqrt, n_estimators=800; total time=  14.9s\n",
            "[CV] END bootstrap=True, max_depth=2, max_features=sqrt, n_estimators=800; total time=  14.8s\n",
            "[CV] END bootstrap=True, max_depth=2, max_features=sqrt, n_estimators=800; total time=  14.8s\n",
            "[CV] END bootstrap=False, max_depth=None, max_features=auto, n_estimators=800; total time= 2.1min\n",
            "[CV] END bootstrap=False, max_depth=None, max_features=auto, n_estimators=800; total time= 2.1min\n",
            "[CV] END bootstrap=False, max_depth=None, max_features=auto, n_estimators=800; total time= 2.1min\n",
            "[CV] END bootstrap=False, max_depth=None, max_features=auto, n_estimators=800; total time= 2.1min\n",
            "[CV] END bootstrap=False, max_depth=None, max_features=auto, n_estimators=800; total time= 2.1min\n",
            "[CV] END bootstrap=False, max_depth=5, max_features=auto, n_estimators=200; total time=  12.1s\n",
            "[CV] END bootstrap=False, max_depth=5, max_features=auto, n_estimators=200; total time=  12.1s\n",
            "[CV] END bootstrap=False, max_depth=5, max_features=auto, n_estimators=200; total time=  12.1s\n",
            "[CV] END bootstrap=False, max_depth=5, max_features=auto, n_estimators=200; total time=  12.2s\n",
            "[CV] END bootstrap=False, max_depth=5, max_features=auto, n_estimators=200; total time=  12.1s\n",
            "[CV] END bootstrap=True, max_depth=7, max_features=auto, n_estimators=800; total time=  40.7s\n",
            "[CV] END bootstrap=True, max_depth=7, max_features=auto, n_estimators=800; total time=  40.6s\n",
            "[CV] END bootstrap=True, max_depth=7, max_features=auto, n_estimators=800; total time=  40.8s\n",
            "[CV] END bootstrap=True, max_depth=7, max_features=auto, n_estimators=800; total time=  40.7s\n",
            "[CV] END bootstrap=True, max_depth=7, max_features=auto, n_estimators=800; total time=  42.4s\n",
            "[CV] END bootstrap=True, max_depth=7, max_features=auto, n_estimators=200; total time=  10.2s\n",
            "[CV] END bootstrap=True, max_depth=7, max_features=auto, n_estimators=200; total time=  10.2s\n",
            "[CV] END bootstrap=True, max_depth=7, max_features=auto, n_estimators=200; total time=  10.2s\n",
            "[CV] END bootstrap=True, max_depth=7, max_features=auto, n_estimators=200; total time=  10.2s\n",
            "[CV] END bootstrap=True, max_depth=7, max_features=auto, n_estimators=200; total time=  10.1s\n",
            "[CV] END bootstrap=False, max_depth=5, max_features=sqrt, n_estimators=200; total time=  12.2s\n",
            "[CV] END bootstrap=False, max_depth=5, max_features=sqrt, n_estimators=200; total time=  12.2s\n",
            "[CV] END bootstrap=False, max_depth=5, max_features=sqrt, n_estimators=200; total time=  12.1s\n",
            "[CV] END bootstrap=False, max_depth=5, max_features=sqrt, n_estimators=200; total time=  12.1s\n",
            "[CV] END bootstrap=False, max_depth=5, max_features=sqrt, n_estimators=200; total time=  12.1s\n",
            "[CV] END bootstrap=False, max_depth=7, max_features=auto, n_estimators=600; total time=  48.2s\n",
            "[CV] END bootstrap=False, max_depth=7, max_features=auto, n_estimators=600; total time=  48.1s\n",
            "[CV] END bootstrap=False, max_depth=7, max_features=auto, n_estimators=600; total time=  48.1s\n",
            "[CV] END bootstrap=False, max_depth=7, max_features=auto, n_estimators=600; total time=  48.3s\n",
            "[CV] END bootstrap=False, max_depth=7, max_features=auto, n_estimators=600; total time=  48.1s\n",
            "[CV] END bootstrap=True, max_depth=None, max_features=sqrt, n_estimators=200; total time=  19.1s\n",
            "[CV] END bootstrap=True, max_depth=None, max_features=sqrt, n_estimators=200; total time=  20.1s\n",
            "[CV] END bootstrap=True, max_depth=None, max_features=sqrt, n_estimators=200; total time=  19.1s\n",
            "[CV] END bootstrap=True, max_depth=None, max_features=sqrt, n_estimators=200; total time=  19.2s\n",
            "[CV] END bootstrap=True, max_depth=None, max_features=sqrt, n_estimators=200; total time=  19.0s\n",
            "[CV] END bootstrap=False, max_depth=6, max_features=auto, n_estimators=600; total time=  42.5s\n",
            "[CV] END bootstrap=False, max_depth=6, max_features=auto, n_estimators=600; total time=  42.5s\n",
            "[CV] END bootstrap=False, max_depth=6, max_features=auto, n_estimators=600; total time=  43.0s\n",
            "[CV] END bootstrap=False, max_depth=6, max_features=auto, n_estimators=600; total time=  42.6s\n",
            "[CV] END bootstrap=False, max_depth=6, max_features=auto, n_estimators=600; total time=  42.4s\n",
            "[CV] END bootstrap=False, max_depth=7, max_features=sqrt, n_estimators=200; total time=  16.1s\n",
            "[CV] END bootstrap=False, max_depth=7, max_features=sqrt, n_estimators=200; total time=  16.1s\n",
            "[CV] END bootstrap=False, max_depth=7, max_features=sqrt, n_estimators=200; total time=  16.1s\n",
            "[CV] END bootstrap=False, max_depth=7, max_features=sqrt, n_estimators=200; total time=  16.1s\n",
            "[CV] END bootstrap=False, max_depth=7, max_features=sqrt, n_estimators=200; total time=  16.1s\n"
          ]
        }
      ]
    },
    {
      "cell_type": "code",
      "source": [
        "random_forest_nn.get_params"
      ],
      "metadata": {
        "colab": {
          "base_uri": "https://localhost:8080/"
        },
        "id": "dOKQpt5vWa-M",
        "outputId": "108457da-6057-4136-87cf-7454f4ac7e7e"
      },
      "execution_count": null,
      "outputs": [
        {
          "output_type": "execute_result",
          "data": {
            "text/plain": [
              "<bound method BaseEstimator.get_params of RandomForestClassifier(bootstrap=False, n_estimators=800)>"
            ]
          },
          "metadata": {},
          "execution_count": 17
        }
      ]
    },
    {
      "cell_type": "code",
      "source": [
        "xx = aug_x_ts.squeeze(1)\n",
        "\n",
        "y_pred = random_forest_nn.predict(xx)\n",
        "\n",
        "result_aug = cohen_kappa_score(aug_y_ts,y_pred,weights='quadratic')\n",
        "print(\"Kappa Score: {}\".format(result_aug))"
      ],
      "metadata": {
        "colab": {
          "base_uri": "https://localhost:8080/"
        },
        "id": "M7jdkv-QWYAy",
        "outputId": "256bf493-c23a-4469-c19d-525a27dc4402"
      },
      "execution_count": null,
      "outputs": [
        {
          "output_type": "stream",
          "name": "stdout",
          "text": [
            "Kappa Score: 0.6865938065202642\n"
          ]
        }
      ]
    },
    {
      "cell_type": "code",
      "source": [
        "xx = X_test_nn.squeeze(1)\n",
        "\n",
        "y_pred = random_forest_nn.predict(xx)\n",
        "\n",
        "result_aug = cohen_kappa_score(y_test_nn,y_pred,weights='quadratic')\n",
        "print(\"Kappa Score: {}\".format(result_aug))"
      ],
      "metadata": {
        "colab": {
          "base_uri": "https://localhost:8080/"
        },
        "id": "0adXtG9HWd6Q",
        "outputId": "05f3efc8-0e3f-4c6c-9425-dac55211e4f0"
      },
      "execution_count": null,
      "outputs": [
        {
          "output_type": "stream",
          "name": "stdout",
          "text": [
            "Kappa Score: 0.9517803230678877\n"
          ]
        }
      ]
    },
    {
      "cell_type": "code",
      "source": [],
      "metadata": {
        "id": "D_ZWO7Bco3aL"
      },
      "execution_count": null,
      "outputs": []
    }
  ]
}