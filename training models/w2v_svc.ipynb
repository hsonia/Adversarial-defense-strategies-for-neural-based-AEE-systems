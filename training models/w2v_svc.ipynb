{
  "nbformat": 4,
  "nbformat_minor": 0,
  "metadata": {
    "colab": {
      "provenance": []
    },
    "kernelspec": {
      "name": "python3",
      "display_name": "Python 3"
    },
    "language_info": {
      "name": "python"
    }
  },
  "cells": [
    {
      "cell_type": "code",
      "execution_count": null,
      "metadata": {
        "id": "wVDILDAYBZ5H"
      },
      "outputs": [],
      "source": [
        "import sklearn\n",
        "from sklearn.svm import SVC, SVR\n",
        "from sklearn.model_selection import cross_val_score\n",
        "from sklearn import metrics\n",
        "\n",
        "from sklearn.metrics import cohen_kappa_score\n",
        "import numpy as np"
      ]
    },
    {
      "cell_type": "code",
      "source": [
        "import pickle\n"
      ],
      "metadata": {
        "id": "qzHpEitaBev8"
      },
      "execution_count": null,
      "outputs": []
    },
    {
      "cell_type": "code",
      "source": [
        "with open('org_glv_w2v.pkl', 'rb') as file:\n",
        "  glv_vec = pickle.load(file)\n",
        "  w2v_vec = pickle.load(file)\n",
        "  y = pickle.load(file)\n",
        "  random_state = pickle.load(file)\n",
        "  test_size = pickle.load(file)\n",
        "file.close()"
      ],
      "metadata": {
        "id": "pRKRP4tnBfwQ"
      },
      "execution_count": null,
      "outputs": []
    },
    {
      "cell_type": "code",
      "source": [
        "with open('org_gen_aug_w2v.pkl', 'rb') as file:\n",
        "  new_x_train_w2v = pickle.load(file)\n",
        "  new_y_train_w2v = pickle.load(file)\n",
        "  aug_vec_w2v = pickle.load(file)\n",
        "  aug_y_w2v = pickle.load(file)\n",
        "file.close()"
      ],
      "metadata": {
        "id": "kDmo9ufeBj1k"
      },
      "execution_count": null,
      "outputs": []
    },
    {
      "cell_type": "code",
      "source": [
        "from sklearn.model_selection import GridSearchCV, RandomizedSearchCV\n"
      ],
      "metadata": {
        "id": "NhByctjBBmeZ"
      },
      "execution_count": null,
      "outputs": []
    },
    {
      "cell_type": "code",
      "source": [
        "from sklearn.model_selection import StratifiedKFold\n",
        "from sklearn.model_selection import train_test_split"
      ],
      "metadata": {
        "id": "z8j88r4-BoGV"
      },
      "execution_count": null,
      "outputs": []
    },
    {
      "cell_type": "code",
      "source": [
        "X_train_w2v, X_test_w2v, y_train_w2v, y_test_w2v = train_test_split(w2v_vec, y, test_size=0.25, random_state=41)\n"
      ],
      "metadata": {
        "id": "ob3QyAzIBpdV"
      },
      "execution_count": null,
      "outputs": []
    },
    {
      "cell_type": "code",
      "source": [
        "param_grid = {'C': [0.1,1, 10, 100], 'gamma': [1,0.1,0.01,0.001],'kernel': ['rbf', 'sigmoid']}\n"
      ],
      "metadata": {
        "id": "gPLIqwo1Dg9l"
      },
      "execution_count": null,
      "outputs": []
    },
    {
      "cell_type": "code",
      "source": [
        "xx = X_train_w2v.squeeze(1)\n",
        "cvkf = StratifiedKFold(n_splits = 5, shuffle=True, random_state=41)\n",
        "rnd_search = RandomizedSearchCV(SVC(), param_grid, cv=cvkf, refit=True, verbose=2)\n",
        "rnd_search.fit(xx, y_train_w2v)\n",
        "svc = rnd_search.best_estimator_"
      ],
      "metadata": {
        "colab": {
          "base_uri": "https://localhost:8080/"
        },
        "id": "u-_PRrE0x--V",
        "outputId": "18879b05-7514-4347-c288-19696af80624"
      },
      "execution_count": null,
      "outputs": [
        {
          "output_type": "stream",
          "name": "stdout",
          "text": [
            "Fitting 5 folds for each of 10 candidates, totalling 50 fits\n",
            "[CV] END ...................C=1, gamma=0.001, kernel=sigmoid; total time=  11.4s\n",
            "[CV] END ...................C=1, gamma=0.001, kernel=sigmoid; total time=  15.1s\n",
            "[CV] END ...................C=1, gamma=0.001, kernel=sigmoid; total time=  10.3s\n",
            "[CV] END ...................C=1, gamma=0.001, kernel=sigmoid; total time=  10.8s\n",
            "[CV] END ...................C=1, gamma=0.001, kernel=sigmoid; total time=  10.7s\n",
            "[CV] END .......................C=10, gamma=0.01, kernel=rbf; total time=  17.4s\n",
            "[CV] END .......................C=10, gamma=0.01, kernel=rbf; total time=  15.7s\n",
            "[CV] END .......................C=10, gamma=0.01, kernel=rbf; total time=  16.9s\n",
            "[CV] END .......................C=10, gamma=0.01, kernel=rbf; total time=  16.4s\n",
            "[CV] END .......................C=10, gamma=0.01, kernel=rbf; total time=  16.3s\n",
            "[CV] END ..................C=10, gamma=0.001, kernel=sigmoid; total time=  10.0s\n",
            "[CV] END ..................C=10, gamma=0.001, kernel=sigmoid; total time=   9.1s\n",
            "[CV] END ..................C=10, gamma=0.001, kernel=sigmoid; total time=   9.1s\n",
            "[CV] END ..................C=10, gamma=0.001, kernel=sigmoid; total time=   9.5s\n",
            "[CV] END ..................C=10, gamma=0.001, kernel=sigmoid; total time=   8.8s\n",
            "[CV] END ........................C=10, gamma=0.1, kernel=rbf; total time=  22.0s\n",
            "[CV] END ........................C=10, gamma=0.1, kernel=rbf; total time=  23.0s\n",
            "[CV] END ........................C=10, gamma=0.1, kernel=rbf; total time=  21.7s\n",
            "[CV] END ........................C=10, gamma=0.1, kernel=rbf; total time=  22.6s\n",
            "[CV] END ........................C=10, gamma=0.1, kernel=rbf; total time=  20.6s\n",
            "[CV] END ..................C=0.1, gamma=0.01, kernel=sigmoid; total time=  10.6s\n",
            "[CV] END ..................C=0.1, gamma=0.01, kernel=sigmoid; total time=  12.0s\n",
            "[CV] END ..................C=0.1, gamma=0.01, kernel=sigmoid; total time=  10.9s\n",
            "[CV] END ..................C=0.1, gamma=0.01, kernel=sigmoid; total time=  11.3s\n",
            "[CV] END ..................C=0.1, gamma=0.01, kernel=sigmoid; total time=  12.0s\n",
            "[CV] END ......................C=10, gamma=1, kernel=sigmoid; total time=  11.0s\n",
            "[CV] END ......................C=10, gamma=1, kernel=sigmoid; total time=   9.7s\n",
            "[CV] END ......................C=10, gamma=1, kernel=sigmoid; total time=   8.6s\n",
            "[CV] END ......................C=10, gamma=1, kernel=sigmoid; total time=   8.9s\n",
            "[CV] END ......................C=10, gamma=1, kernel=sigmoid; total time=   8.8s\n",
            "[CV] END .......................C=1, gamma=1, kernel=sigmoid; total time=   9.9s\n",
            "[CV] END .......................C=1, gamma=1, kernel=sigmoid; total time=   9.2s\n",
            "[CV] END .......................C=1, gamma=1, kernel=sigmoid; total time=   8.7s\n",
            "[CV] END .......................C=1, gamma=1, kernel=sigmoid; total time=   8.6s\n",
            "[CV] END .......................C=1, gamma=1, kernel=sigmoid; total time=   9.4s\n",
            "[CV] END .......................C=0.1, gamma=0.1, kernel=rbf; total time=  19.2s\n",
            "[CV] END .......................C=0.1, gamma=0.1, kernel=rbf; total time=  19.1s\n",
            "[CV] END .......................C=0.1, gamma=0.1, kernel=rbf; total time=  19.3s\n",
            "[CV] END .......................C=0.1, gamma=0.1, kernel=rbf; total time=  20.4s\n",
            "[CV] END .......................C=0.1, gamma=0.1, kernel=rbf; total time=  19.9s\n",
            "[CV] END .....................C=0.1, gamma=0.001, kernel=rbf; total time=  13.7s\n",
            "[CV] END .....................C=0.1, gamma=0.001, kernel=rbf; total time=  12.6s\n",
            "[CV] END .....................C=0.1, gamma=0.001, kernel=rbf; total time=  11.6s\n",
            "[CV] END .....................C=0.1, gamma=0.001, kernel=rbf; total time=  11.9s\n",
            "[CV] END .....................C=0.1, gamma=0.001, kernel=rbf; total time=  11.8s\n",
            "[CV] END ...................C=100, gamma=0.1, kernel=sigmoid; total time=  11.3s\n",
            "[CV] END ...................C=100, gamma=0.1, kernel=sigmoid; total time=  10.7s\n",
            "[CV] END ...................C=100, gamma=0.1, kernel=sigmoid; total time=  11.2s\n",
            "[CV] END ...................C=100, gamma=0.1, kernel=sigmoid; total time=  10.6s\n",
            "[CV] END ...................C=100, gamma=0.1, kernel=sigmoid; total time=  10.8s\n"
          ]
        }
      ]
    },
    {
      "cell_type": "code",
      "source": [
        "svc.get_params"
      ],
      "metadata": {
        "colab": {
          "base_uri": "https://localhost:8080/"
        },
        "id": "aflXlFvT2AMt",
        "outputId": "1b3b9372-9f5d-4f96-b423-eba9e0c6e8e9"
      },
      "execution_count": null,
      "outputs": [
        {
          "output_type": "execute_result",
          "data": {
            "text/plain": [
              "<bound method BaseEstimator.get_params of SVC(C=10, gamma=0.01)>"
            ]
          },
          "metadata": {},
          "execution_count": 11
        }
      ]
    },
    {
      "cell_type": "code",
      "source": [
        "xx = X_test_w2v.squeeze(1)\n",
        "\n",
        "y_pred = svc.predict(xx)\n",
        "\n",
        "result_aug = cohen_kappa_score(y_test_w2v,y_pred,weights='quadratic')\n",
        "print(\"Kappa Score: {}\".format(result_aug))"
      ],
      "metadata": {
        "colab": {
          "base_uri": "https://localhost:8080/"
        },
        "id": "eXphXGqK1v5A",
        "outputId": "1c895465-d398-4a92-ed40-30fea5ce3898"
      },
      "execution_count": null,
      "outputs": [
        {
          "output_type": "stream",
          "name": "stdout",
          "text": [
            "Kappa Score: 0.6887050126678671\n"
          ]
        }
      ]
    },
    {
      "cell_type": "code",
      "source": [
        "from sklearn.metrics import accuracy_score\n",
        "_, new_x_test_w2v, _, new_y_test_w2v = train_test_split(new_x_train_w2v, new_y_train_w2v, test_size=0.25, random_state=41)\n",
        "xx = new_x_test_w2v.squeeze(1)\n",
        "\n",
        "y_pred = svc.predict(xx)\n",
        "\n",
        "result_aug = accuracy_score(new_y_test_w2v,y_pred)\n",
        "print(\"accuracy Score: {}\".format(result_aug))"
      ],
      "metadata": {
        "colab": {
          "base_uri": "https://localhost:8080/"
        },
        "id": "ouLRrAvoBv3J",
        "outputId": "c7fd8e9a-7b73-4d7c-8228-593bd8a9c93b"
      },
      "execution_count": null,
      "outputs": [
        {
          "output_type": "stream",
          "name": "stdout",
          "text": [
            "accuracy Score: 0.5368744512730466\n"
          ]
        }
      ]
    },
    {
      "cell_type": "code",
      "source": [
        "aug_x_tr, aug_x_ts, aug_y_tr, aug_y_ts = train_test_split(aug_vec_w2v, aug_y_w2v, test_size=0.2, random_state=41, stratify=aug_y_w2v)\n",
        "xx = aug_x_tr.squeeze(1)\n",
        "rnd_search_w2v = RandomizedSearchCV(SVC(), param_grid, refit=True, verbose=2)\n",
        "rnd_search_w2v.fit(xx, aug_y_tr)\n",
        "svc = rnd_search_w2v.best_estimator_"
      ],
      "metadata": {
        "colab": {
          "base_uri": "https://localhost:8080/"
        },
        "id": "92EvSmTK2y2l",
        "outputId": "a92f5802-94ad-47d0-ebb8-c91fd02f2787"
      },
      "execution_count": null,
      "outputs": [
        {
          "output_type": "stream",
          "name": "stdout",
          "text": [
            "Fitting 5 folds for each of 10 candidates, totalling 50 fits\n",
            "[CV] END ......................C=10, gamma=1, kernel=sigmoid; total time=  41.4s\n",
            "[CV] END ......................C=10, gamma=1, kernel=sigmoid; total time=  43.5s\n",
            "[CV] END ......................C=10, gamma=1, kernel=sigmoid; total time=  44.0s\n",
            "[CV] END ......................C=10, gamma=1, kernel=sigmoid; total time=  39.1s\n",
            "[CV] END ......................C=10, gamma=1, kernel=sigmoid; total time=  34.1s\n",
            "[CV] END ...................C=1, gamma=0.001, kernel=sigmoid; total time=  37.7s\n",
            "[CV] END ...................C=1, gamma=0.001, kernel=sigmoid; total time=  38.1s\n",
            "[CV] END ...................C=1, gamma=0.001, kernel=sigmoid; total time=  37.9s\n",
            "[CV] END ...................C=1, gamma=0.001, kernel=sigmoid; total time=  38.9s\n",
            "[CV] END ...................C=1, gamma=0.001, kernel=sigmoid; total time=  38.7s\n",
            "[CV] END ...................C=10, gamma=0.01, kernel=sigmoid; total time=  22.6s\n",
            "[CV] END ...................C=10, gamma=0.01, kernel=sigmoid; total time=  21.9s\n",
            "[CV] END ...................C=10, gamma=0.01, kernel=sigmoid; total time=  23.3s\n",
            "[CV] END ...................C=10, gamma=0.01, kernel=sigmoid; total time=  23.2s\n",
            "[CV] END ...................C=10, gamma=0.01, kernel=sigmoid; total time=  21.4s\n",
            "[CV] END ........................C=1, gamma=0.01, kernel=rbf; total time=  42.5s\n",
            "[CV] END ........................C=1, gamma=0.01, kernel=rbf; total time=  39.5s\n",
            "[CV] END ........................C=1, gamma=0.01, kernel=rbf; total time=  43.2s\n",
            "[CV] END ........................C=1, gamma=0.01, kernel=rbf; total time=  44.3s\n",
            "[CV] END ........................C=1, gamma=0.01, kernel=rbf; total time=  49.1s\n",
            "[CV] END .......................C=1, gamma=0.001, kernel=rbf; total time=  39.9s\n",
            "[CV] END .......................C=1, gamma=0.001, kernel=rbf; total time=  42.4s\n",
            "[CV] END .......................C=1, gamma=0.001, kernel=rbf; total time=  37.7s\n",
            "[CV] END .......................C=1, gamma=0.001, kernel=rbf; total time=  39.9s\n",
            "[CV] END .......................C=1, gamma=0.001, kernel=rbf; total time=  38.5s\n",
            "[CV] END .....................C=0.1, gamma=1, kernel=sigmoid; total time=  36.5s\n",
            "[CV] END .....................C=0.1, gamma=1, kernel=sigmoid; total time=  41.2s\n",
            "[CV] END .....................C=0.1, gamma=1, kernel=sigmoid; total time=  37.2s\n",
            "[CV] END .....................C=0.1, gamma=1, kernel=sigmoid; total time=  35.5s\n",
            "[CV] END .....................C=0.1, gamma=1, kernel=sigmoid; total time=  33.3s\n",
            "[CV] END ......................C=10, gamma=0.001, kernel=rbf; total time=  42.8s\n",
            "[CV] END ......................C=10, gamma=0.001, kernel=rbf; total time=  38.7s\n",
            "[CV] END ......................C=10, gamma=0.001, kernel=rbf; total time=  37.4s\n",
            "[CV] END ......................C=10, gamma=0.001, kernel=rbf; total time=  39.5s\n",
            "[CV] END ......................C=10, gamma=0.001, kernel=rbf; total time=  41.0s\n",
            "[CV] END .....................C=0.1, gamma=0.001, kernel=rbf; total time=  45.7s\n",
            "[CV] END .....................C=0.1, gamma=0.001, kernel=rbf; total time=  45.5s\n",
            "[CV] END .....................C=0.1, gamma=0.001, kernel=rbf; total time=  45.2s\n",
            "[CV] END .....................C=0.1, gamma=0.001, kernel=rbf; total time=  47.8s\n",
            "[CV] END .....................C=0.1, gamma=0.001, kernel=rbf; total time=  47.0s\n",
            "[CV] END .................C=0.1, gamma=0.001, kernel=sigmoid; total time=  44.3s\n",
            "[CV] END .................C=0.1, gamma=0.001, kernel=sigmoid; total time=  49.1s\n",
            "[CV] END .................C=0.1, gamma=0.001, kernel=sigmoid; total time=  45.4s\n",
            "[CV] END .................C=0.1, gamma=0.001, kernel=sigmoid; total time=  46.3s\n",
            "[CV] END .................C=0.1, gamma=0.001, kernel=sigmoid; total time=  45.6s\n",
            "[CV] END .........................C=1, gamma=0.1, kernel=rbf; total time= 1.2min\n",
            "[CV] END .........................C=1, gamma=0.1, kernel=rbf; total time= 1.2min\n",
            "[CV] END .........................C=1, gamma=0.1, kernel=rbf; total time= 1.3min\n",
            "[CV] END .........................C=1, gamma=0.1, kernel=rbf; total time= 1.3min\n",
            "[CV] END .........................C=1, gamma=0.1, kernel=rbf; total time= 1.2min\n"
          ]
        }
      ]
    },
    {
      "cell_type": "code",
      "source": [
        "svc.get_params"
      ],
      "metadata": {
        "id": "3EaBLLf7AUDk",
        "outputId": "03b21558-6039-4aec-97cf-4c0ae5a1b393",
        "colab": {
          "base_uri": "https://localhost:8080/"
        }
      },
      "execution_count": null,
      "outputs": [
        {
          "output_type": "execute_result",
          "data": {
            "text/plain": [
              "<bound method BaseEstimator.get_params of SVC(C=1, gamma=0.01)>"
            ]
          },
          "metadata": {},
          "execution_count": 16
        }
      ]
    },
    {
      "cell_type": "code",
      "source": [
        "xx = aug_x_ts.squeeze(1)\n",
        "\n",
        "y_pred = svc.predict(xx)\n",
        "\n",
        "result_aug = cohen_kappa_score(aug_y_ts,y_pred,weights='quadratic')\n",
        "print(\"Kappa Score: {}\".format(result_aug))"
      ],
      "metadata": {
        "colab": {
          "base_uri": "https://localhost:8080/"
        },
        "id": "c8WJLzDpACn2",
        "outputId": "516df280-46bc-4876-9494-c07c784c6873"
      },
      "execution_count": null,
      "outputs": [
        {
          "output_type": "stream",
          "name": "stdout",
          "text": [
            "Kappa Score: 0.7844542833383815\n"
          ]
        }
      ]
    },
    {
      "cell_type": "code",
      "source": [
        "xx = X_test_w2v.squeeze(1)\n",
        "\n",
        "y_pred = svc.predict(xx)\n",
        "\n",
        "result_aug = cohen_kappa_score(y_test_w2v,y_pred,weights='quadratic')\n",
        "print(\"Kappa Score: {}\".format(result_aug))"
      ],
      "metadata": {
        "colab": {
          "base_uri": "https://localhost:8080/"
        },
        "id": "ztAmcEdcAKzG",
        "outputId": "30bda7c0-2036-4999-c976-80634c8e3ecc"
      },
      "execution_count": null,
      "outputs": [
        {
          "output_type": "stream",
          "name": "stdout",
          "text": [
            "Kappa Score: 0.6949657214447837\n"
          ]
        }
      ]
    }
  ]
}