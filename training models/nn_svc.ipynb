{
  "cells": [
    {
      "cell_type": "code",
      "execution_count": 1,
      "metadata": {
        "id": "WxDmUUcAmrRW"
      },
      "outputs": [],
      "source": [
        "import sklearn\n",
        "from sklearn.svm import SVC, SVR\n",
        "from sklearn.model_selection import cross_val_score\n",
        "\n",
        "from sklearn.metrics import cohen_kappa_score\n",
        "import numpy as np"
      ]
    },
    {
      "cell_type": "code",
      "execution_count": 2,
      "metadata": {
        "id": "dyqoz-0dm_0I"
      },
      "outputs": [],
      "source": [
        "import pickle"
      ]
    },
    {
      "cell_type": "code",
      "execution_count": 6,
      "metadata": {
        "id": "mVqposBq5po_"
      },
      "outputs": [],
      "source": [
        "with open('zorg_gen_aug_nn.pkl', 'rb') as file:\n",
        "  glv_vec = pickle.load(file)\n",
        "  y = pickle.load(file)\n",
        "  new_vec_nn = pickle.load(file)\n",
        "  new_y_nn = pickle.load(file)\n",
        "  aug_vec_nn = pickle.load(file)\n",
        "  aug_y_nn = pickle.load(file)\n",
        "  aug_v = pickle.load(file)\n",
        "  aug_y = pickle.load(file)\n",
        "file.close()"
      ]
    },
    {
      "cell_type": "code",
      "execution_count": 7,
      "metadata": {
        "id": "Q4adC6hZnGqR"
      },
      "outputs": [],
      "source": [
        "from sklearn.model_selection import RandomizedSearchCV\n",
        "from sklearn.model_selection import StratifiedKFold\n",
        "from sklearn.model_selection import train_test_split"
      ]
    },
    {
      "cell_type": "code",
      "execution_count": 8,
      "metadata": {
        "id": "m0gOLJhPnJ5k"
      },
      "outputs": [],
      "source": [
        "X_train_nn, X_test_nn, y_train_nn, y_test_nn = train_test_split(glv_vec, y, test_size=0.25, random_state=41, stratify=y)\n"
      ]
    },
    {
      "cell_type": "code",
      "execution_count": 9,
      "metadata": {
        "id": "g1_hEWXonLjl"
      },
      "outputs": [],
      "source": [
        "param_grid = {'C': [0.1,1, 10, 100], 'gamma': [0.1,0.1,0.01,0.001],'kernel': ['rbf']}"
      ]
    },
    {
      "cell_type": "code",
      "source": [
        "xx = X_train_nn.squeeze(1)\n",
        "cvkf = StratifiedKFold(n_splits = 5, shuffle=True)\n",
        "rnd_search = RandomizedSearchCV(SVC(), param_grid, cv=cvkf, refit=True, verbose=2)\n",
        "rnd_search.fit(xx, y_train_nn)\n",
        "svc = rnd_search.best_estimator_"
      ],
      "metadata": {
        "colab": {
          "base_uri": "https://localhost:8080/"
        },
        "id": "lKd6K0GeD34y",
        "outputId": "85e69a42-8c4e-4c4d-ba42-4ac49cf29493"
      },
      "execution_count": null,
      "outputs": [
        {
          "output_type": "stream",
          "name": "stdout",
          "text": [
            "Fitting 5 folds for each of 10 candidates, totalling 50 fits\n"
          ]
        },
        {
          "output_type": "stream",
          "name": "stderr",
          "text": [
            "/usr/local/lib/python3.8/dist-packages/sklearn/model_selection/_split.py:676: UserWarning: The least populated class in y has only 4 members, which is less than n_splits=5.\n",
            "  warnings.warn(\n"
          ]
        },
        {
          "output_type": "stream",
          "name": "stdout",
          "text": [
            "[CV] END .......................C=1, gamma=0.001, kernel=rbf; total time=   3.2s\n",
            "[CV] END .......................C=1, gamma=0.001, kernel=rbf; total time=   3.1s\n",
            "[CV] END .......................C=1, gamma=0.001, kernel=rbf; total time=   3.2s\n",
            "[CV] END .......................C=1, gamma=0.001, kernel=rbf; total time=   3.1s\n",
            "[CV] END .......................C=1, gamma=0.001, kernel=rbf; total time=   3.2s\n",
            "[CV] END ......................C=0.1, gamma=0.01, kernel=rbf; total time=   4.6s\n",
            "[CV] END ......................C=0.1, gamma=0.01, kernel=rbf; total time=   4.6s\n",
            "[CV] END ......................C=0.1, gamma=0.01, kernel=rbf; total time=   4.6s\n",
            "[CV] END ......................C=0.1, gamma=0.01, kernel=rbf; total time=   4.6s\n",
            "[CV] END ......................C=0.1, gamma=0.01, kernel=rbf; total time=   4.7s\n",
            "[CV] END .......................C=10, gamma=0.01, kernel=rbf; total time=   5.2s\n",
            "[CV] END .......................C=10, gamma=0.01, kernel=rbf; total time=   5.2s\n",
            "[CV] END .......................C=10, gamma=0.01, kernel=rbf; total time=   5.1s\n",
            "[CV] END .......................C=10, gamma=0.01, kernel=rbf; total time=   5.2s\n",
            "[CV] END .......................C=10, gamma=0.01, kernel=rbf; total time=   5.1s\n",
            "[CV] END .......................C=100, gamma=0.1, kernel=rbf; total time=   5.5s\n",
            "[CV] END .......................C=100, gamma=0.1, kernel=rbf; total time=   5.4s\n",
            "[CV] END .......................C=100, gamma=0.1, kernel=rbf; total time=   5.5s\n",
            "[CV] END .......................C=100, gamma=0.1, kernel=rbf; total time=   5.4s\n",
            "[CV] END .......................C=100, gamma=0.1, kernel=rbf; total time=   5.4s\n",
            "[CV] END .....................C=0.1, gamma=0.001, kernel=rbf; total time=   3.0s\n",
            "[CV] END .....................C=0.1, gamma=0.001, kernel=rbf; total time=   3.1s\n",
            "[CV] END .....................C=0.1, gamma=0.001, kernel=rbf; total time=   3.0s\n",
            "[CV] END .....................C=0.1, gamma=0.001, kernel=rbf; total time=   3.0s\n",
            "[CV] END .....................C=0.1, gamma=0.001, kernel=rbf; total time=   4.1s\n",
            "[CV] END .........................C=1, gamma=0.1, kernel=rbf; total time=   6.4s\n",
            "[CV] END .........................C=1, gamma=0.1, kernel=rbf; total time=   5.4s\n",
            "[CV] END .........................C=1, gamma=0.1, kernel=rbf; total time=   5.4s\n",
            "[CV] END .........................C=1, gamma=0.1, kernel=rbf; total time=   5.4s\n",
            "[CV] END .........................C=1, gamma=0.1, kernel=rbf; total time=   5.3s\n",
            "[CV] END .......................C=0.1, gamma=0.1, kernel=rbf; total time=   4.8s\n",
            "[CV] END .......................C=0.1, gamma=0.1, kernel=rbf; total time=   4.7s\n",
            "[CV] END .......................C=0.1, gamma=0.1, kernel=rbf; total time=   4.8s\n",
            "[CV] END .......................C=0.1, gamma=0.1, kernel=rbf; total time=   4.8s\n",
            "[CV] END .......................C=0.1, gamma=0.1, kernel=rbf; total time=   4.8s\n",
            "[CV] END .....................C=100, gamma=0.001, kernel=rbf; total time=   4.3s\n",
            "[CV] END .....................C=100, gamma=0.001, kernel=rbf; total time=   4.3s\n",
            "[CV] END .....................C=100, gamma=0.001, kernel=rbf; total time=   4.5s\n",
            "[CV] END .....................C=100, gamma=0.001, kernel=rbf; total time=   4.4s\n",
            "[CV] END .....................C=100, gamma=0.001, kernel=rbf; total time=   4.4s\n",
            "[CV] END ........................C=10, gamma=0.1, kernel=rbf; total time=   5.5s\n",
            "[CV] END ........................C=10, gamma=0.1, kernel=rbf; total time=   5.4s\n",
            "[CV] END ........................C=10, gamma=0.1, kernel=rbf; total time=   5.4s\n",
            "[CV] END ........................C=10, gamma=0.1, kernel=rbf; total time=   5.5s\n",
            "[CV] END ........................C=10, gamma=0.1, kernel=rbf; total time=   5.4s\n",
            "[CV] END ......................C=10, gamma=0.001, kernel=rbf; total time=   3.9s\n",
            "[CV] END ......................C=10, gamma=0.001, kernel=rbf; total time=   3.9s\n",
            "[CV] END ......................C=10, gamma=0.001, kernel=rbf; total time=   4.0s\n",
            "[CV] END ......................C=10, gamma=0.001, kernel=rbf; total time=   4.0s\n",
            "[CV] END ......................C=10, gamma=0.001, kernel=rbf; total time=   4.0s\n"
          ]
        }
      ]
    },
    {
      "cell_type": "code",
      "source": [
        "svc.get_params"
      ],
      "metadata": {
        "colab": {
          "base_uri": "https://localhost:8080/"
        },
        "id": "1iIC0Ih0FVKh",
        "outputId": "04bf0558-7188-45ea-f9a8-6cb712c4f310"
      },
      "execution_count": null,
      "outputs": [
        {
          "output_type": "execute_result",
          "data": {
            "text/plain": [
              "<bound method BaseEstimator.get_params of SVC(C=1, gamma=0.001)>"
            ]
          },
          "metadata": {},
          "execution_count": 11
        }
      ]
    },
    {
      "cell_type": "code",
      "source": [
        "xx = X_test_nn.squeeze(1)\n",
        "\n",
        "y_pred = svc.predict(xx)\n",
        "\n",
        "result_aug = cohen_kappa_score(y_test_nn,y_pred,weights='quadratic')\n",
        "print(\"Kappa Score: {}\".format(result_aug))"
      ],
      "metadata": {
        "colab": {
          "base_uri": "https://localhost:8080/"
        },
        "id": "ReOUS8UsFQsZ",
        "outputId": "33700b4e-d913-4f11-c8af-fb32ea798a42"
      },
      "execution_count": null,
      "outputs": [
        {
          "output_type": "stream",
          "name": "stdout",
          "text": [
            "Kappa Score: 0.7120826096825117\n"
          ]
        }
      ]
    },
    {
      "cell_type": "code",
      "source": [
        "from sklearn.metrics import accuracy_score\n",
        "_, new_x_test_nn, _, new_y_test_nn = train_test_split(new_vec_nn, new_y_nn, test_size=0.25)\n",
        "xx = new_x_test_nn.squeeze(1)\n",
        "\n",
        "y_pred = svc.predict(xx)\n",
        "\n",
        "result_aug = accuracy_score(new_y_test_nn,y_pred)\n",
        "print(\"accuracy Score: {}\".format(result_aug))"
      ],
      "metadata": {
        "colab": {
          "base_uri": "https://localhost:8080/"
        },
        "id": "LVH3BmGLFZaJ",
        "outputId": "e68c1051-7b05-4eb4-ba99-c65ee1cf7038"
      },
      "execution_count": null,
      "outputs": [
        {
          "output_type": "stream",
          "name": "stdout",
          "text": [
            "accuracy Score: 0.33002481389578164\n"
          ]
        }
      ]
    },
    {
      "cell_type": "code",
      "source": [
        "aug_x_tr, aug_x_ts, aug_y_tr, aug_y_ts = train_test_split(aug_vec_nn, aug_y_nn, test_size=0.2, random_state=41)\n",
        "xx = aug_x_tr.squeeze(1)\n",
        "svm = SVC()\n",
        "rnd_search_nn = RandomizedSearchCV(svm, param_grid, refit=True, verbose=2)\n",
        "rnd_search_nn.fit(xx, aug_y_tr)\n",
        "svm = rnd_search_nn.best_estimator_"
      ],
      "metadata": {
        "colab": {
          "base_uri": "https://localhost:8080/"
        },
        "id": "sNOzT7rOFfdS",
        "outputId": "85095f85-7442-4ce6-a572-9eb75bbce34c"
      },
      "execution_count": null,
      "outputs": [
        {
          "output_type": "stream",
          "name": "stdout",
          "text": [
            "Fitting 5 folds for each of 10 candidates, totalling 50 fits\n"
          ]
        },
        {
          "output_type": "stream",
          "name": "stderr",
          "text": [
            "/usr/local/lib/python3.8/dist-packages/sklearn/model_selection/_split.py:676: UserWarning: The least populated class in y has only 1 members, which is less than n_splits=5.\n",
            "  warnings.warn(\n"
          ]
        },
        {
          "output_type": "stream",
          "name": "stdout",
          "text": [
            "[CV] END ........................C=1, gamma=0.01, kernel=rbf; total time=   8.9s\n",
            "[CV] END ........................C=1, gamma=0.01, kernel=rbf; total time=   8.8s\n",
            "[CV] END ........................C=1, gamma=0.01, kernel=rbf; total time=   8.8s\n",
            "[CV] END ........................C=1, gamma=0.01, kernel=rbf; total time=   8.9s\n",
            "[CV] END ........................C=1, gamma=0.01, kernel=rbf; total time=   9.0s\n",
            "[CV] END .......................C=10, gamma=0.01, kernel=rbf; total time=  10.4s\n",
            "[CV] END .......................C=10, gamma=0.01, kernel=rbf; total time=   9.2s\n",
            "[CV] END .......................C=10, gamma=0.01, kernel=rbf; total time=   9.2s\n",
            "[CV] END .......................C=10, gamma=0.01, kernel=rbf; total time=  11.1s\n",
            "[CV] END .......................C=10, gamma=0.01, kernel=rbf; total time=   9.3s\n",
            "[CV] END ........................C=10, gamma=0.1, kernel=rbf; total time=  10.2s\n",
            "[CV] END ........................C=10, gamma=0.1, kernel=rbf; total time=  10.1s\n",
            "[CV] END ........................C=10, gamma=0.1, kernel=rbf; total time=  10.1s\n",
            "[CV] END ........................C=10, gamma=0.1, kernel=rbf; total time=   9.4s\n",
            "[CV] END ........................C=10, gamma=0.1, kernel=rbf; total time=  10.2s\n",
            "[CV] END ......................C=10, gamma=0.001, kernel=rbf; total time=   7.2s\n",
            "[CV] END ......................C=10, gamma=0.001, kernel=rbf; total time=   7.1s\n",
            "[CV] END ......................C=10, gamma=0.001, kernel=rbf; total time=   7.1s\n",
            "[CV] END ......................C=10, gamma=0.001, kernel=rbf; total time=   6.9s\n",
            "[CV] END ......................C=10, gamma=0.001, kernel=rbf; total time=   7.0s\n",
            "[CV] END .........................C=1, gamma=0.1, kernel=rbf; total time=   9.6s\n",
            "[CV] END .........................C=1, gamma=0.1, kernel=rbf; total time=   9.5s\n",
            "[CV] END .........................C=1, gamma=0.1, kernel=rbf; total time=   9.5s\n",
            "[CV] END .........................C=1, gamma=0.1, kernel=rbf; total time=   9.1s\n",
            "[CV] END .........................C=1, gamma=0.1, kernel=rbf; total time=   9.6s\n",
            "[CV] END .......................C=0.1, gamma=0.1, kernel=rbf; total time=   8.1s\n",
            "[CV] END .......................C=0.1, gamma=0.1, kernel=rbf; total time=   8.2s\n",
            "[CV] END .......................C=0.1, gamma=0.1, kernel=rbf; total time=   8.1s\n",
            "[CV] END .......................C=0.1, gamma=0.1, kernel=rbf; total time=   8.2s\n",
            "[CV] END .......................C=0.1, gamma=0.1, kernel=rbf; total time=   8.1s\n",
            "[CV] END .......................C=0.1, gamma=0.1, kernel=rbf; total time=   8.2s\n",
            "[CV] END .......................C=0.1, gamma=0.1, kernel=rbf; total time=   8.1s\n",
            "[CV] END .......................C=0.1, gamma=0.1, kernel=rbf; total time=   8.2s\n",
            "[CV] END .......................C=0.1, gamma=0.1, kernel=rbf; total time=   8.1s\n",
            "[CV] END .......................C=0.1, gamma=0.1, kernel=rbf; total time=   8.2s\n",
            "[CV] END ........................C=10, gamma=0.1, kernel=rbf; total time=  10.1s\n",
            "[CV] END ........................C=10, gamma=0.1, kernel=rbf; total time=  10.2s\n",
            "[CV] END ........................C=10, gamma=0.1, kernel=rbf; total time=  10.0s\n",
            "[CV] END ........................C=10, gamma=0.1, kernel=rbf; total time=   9.4s\n",
            "[CV] END ........................C=10, gamma=0.1, kernel=rbf; total time=  10.0s\n",
            "[CV] END ......................C=0.1, gamma=0.01, kernel=rbf; total time=   7.6s\n",
            "[CV] END ......................C=0.1, gamma=0.01, kernel=rbf; total time=   7.6s\n",
            "[CV] END ......................C=0.1, gamma=0.01, kernel=rbf; total time=   7.7s\n",
            "[CV] END ......................C=0.1, gamma=0.01, kernel=rbf; total time=   7.6s\n",
            "[CV] END ......................C=0.1, gamma=0.01, kernel=rbf; total time=   7.6s\n",
            "[CV] END .........................C=1, gamma=0.1, kernel=rbf; total time=   9.5s\n",
            "[CV] END .........................C=1, gamma=0.1, kernel=rbf; total time=   9.5s\n",
            "[CV] END .........................C=1, gamma=0.1, kernel=rbf; total time=   9.5s\n",
            "[CV] END .........................C=1, gamma=0.1, kernel=rbf; total time=   9.2s\n",
            "[CV] END .........................C=1, gamma=0.1, kernel=rbf; total time=   9.5s\n"
          ]
        }
      ]
    },
    {
      "cell_type": "code",
      "source": [
        "svm.get_params"
      ],
      "metadata": {
        "colab": {
          "base_uri": "https://localhost:8080/"
        },
        "id": "TdfGc6NrHirA",
        "outputId": "340a0bea-3570-479c-f6cd-6803ee7b8c67"
      },
      "execution_count": null,
      "outputs": [
        {
          "output_type": "execute_result",
          "data": {
            "text/plain": [
              "<bound method BaseEstimator.get_params of SVC(C=10, gamma=0.001)>"
            ]
          },
          "metadata": {},
          "execution_count": 16
        }
      ]
    },
    {
      "cell_type": "code",
      "source": [
        "xx = aug_x_ts.squeeze(1)\n",
        "\n",
        "y_pred = svm.predict(xx)\n",
        "\n",
        "result_aug = cohen_kappa_score(aug_y_ts,y_pred,weights='quadratic')\n",
        "print(\"Kappa Score: {}\".format(result_aug))"
      ],
      "metadata": {
        "colab": {
          "base_uri": "https://localhost:8080/"
        },
        "id": "hk6G3ZvCHafG",
        "outputId": "d388ec2a-068f-4ac0-c13d-dd4f7503aa4b"
      },
      "execution_count": null,
      "outputs": [
        {
          "output_type": "stream",
          "name": "stdout",
          "text": [
            "Kappa Score: 0.6456571791512842\n"
          ]
        }
      ]
    },
    {
      "cell_type": "code",
      "source": [
        "aug_x_tr, aug_x_ts, aug_y_tr, aug_y_ts = train_test_split(aug_v, aug_y, test_size=0.2, random_state=41)\n",
        "xx = aug_x_tr.squeeze(1)\n",
        "rnd_search = RandomizedSearchCV(SVC(), param_grid, refit=True, verbose=2)\n",
        "rnd_search.fit(xx, aug_y_tr)\n",
        "svm = rnd_search.best_estimator_"
      ],
      "metadata": {
        "colab": {
          "base_uri": "https://localhost:8080/"
        },
        "id": "AysnGaR8Hfal",
        "outputId": "72c6286d-9e8e-4b83-942c-bc88bc755e27"
      },
      "execution_count": 10,
      "outputs": [
        {
          "output_type": "stream",
          "name": "stdout",
          "text": [
            "Fitting 5 folds for each of 10 candidates, totalling 50 fits\n",
            "[CV] END .......................C=100, gamma=0.1, kernel=rbf; total time=  35.6s\n",
            "[CV] END .......................C=100, gamma=0.1, kernel=rbf; total time=  32.8s\n",
            "[CV] END .......................C=100, gamma=0.1, kernel=rbf; total time=  32.4s\n",
            "[CV] END .......................C=100, gamma=0.1, kernel=rbf; total time=  31.8s\n",
            "[CV] END .......................C=100, gamma=0.1, kernel=rbf; total time=  31.8s\n",
            "[CV] END .......................C=100, gamma=0.1, kernel=rbf; total time=  31.9s\n",
            "[CV] END .......................C=100, gamma=0.1, kernel=rbf; total time=  31.9s\n",
            "[CV] END .......................C=100, gamma=0.1, kernel=rbf; total time=  31.9s\n",
            "[CV] END .......................C=100, gamma=0.1, kernel=rbf; total time=  31.6s\n",
            "[CV] END .......................C=100, gamma=0.1, kernel=rbf; total time=  31.8s\n",
            "[CV] END ........................C=1, gamma=0.01, kernel=rbf; total time=  31.4s\n",
            "[CV] END ........................C=1, gamma=0.01, kernel=rbf; total time=  30.5s\n",
            "[CV] END ........................C=1, gamma=0.01, kernel=rbf; total time=  30.5s\n",
            "[CV] END ........................C=1, gamma=0.01, kernel=rbf; total time=  30.6s\n",
            "[CV] END ........................C=1, gamma=0.01, kernel=rbf; total time=  30.6s\n",
            "[CV] END .........................C=1, gamma=0.1, kernel=rbf; total time=  31.7s\n",
            "[CV] END .........................C=1, gamma=0.1, kernel=rbf; total time=  31.6s\n",
            "[CV] END .........................C=1, gamma=0.1, kernel=rbf; total time=  31.7s\n",
            "[CV] END .........................C=1, gamma=0.1, kernel=rbf; total time=  31.8s\n",
            "[CV] END .........................C=1, gamma=0.1, kernel=rbf; total time=  32.1s\n",
            "[CV] END .....................C=0.1, gamma=0.001, kernel=rbf; total time=  19.5s\n",
            "[CV] END .....................C=0.1, gamma=0.001, kernel=rbf; total time=  18.5s\n",
            "[CV] END .....................C=0.1, gamma=0.001, kernel=rbf; total time=  18.5s\n",
            "[CV] END .....................C=0.1, gamma=0.001, kernel=rbf; total time=  18.6s\n",
            "[CV] END .....................C=0.1, gamma=0.001, kernel=rbf; total time=  18.5s\n",
            "[CV] END .......................C=0.1, gamma=0.1, kernel=rbf; total time=  27.9s\n",
            "[CV] END .......................C=0.1, gamma=0.1, kernel=rbf; total time=  28.2s\n",
            "[CV] END .......................C=0.1, gamma=0.1, kernel=rbf; total time=  28.1s\n",
            "[CV] END .......................C=0.1, gamma=0.1, kernel=rbf; total time=  28.3s\n",
            "[CV] END .......................C=0.1, gamma=0.1, kernel=rbf; total time=  27.9s\n",
            "[CV] END .....................C=100, gamma=0.001, kernel=rbf; total time=  30.3s\n",
            "[CV] END .....................C=100, gamma=0.001, kernel=rbf; total time=  29.4s\n",
            "[CV] END .....................C=100, gamma=0.001, kernel=rbf; total time=  30.6s\n",
            "[CV] END .....................C=100, gamma=0.001, kernel=rbf; total time=  29.8s\n",
            "[CV] END .....................C=100, gamma=0.001, kernel=rbf; total time=  29.8s\n",
            "[CV] END .........................C=1, gamma=0.1, kernel=rbf; total time=  31.6s\n",
            "[CV] END .........................C=1, gamma=0.1, kernel=rbf; total time=  31.9s\n",
            "[CV] END .........................C=1, gamma=0.1, kernel=rbf; total time=  31.5s\n",
            "[CV] END .........................C=1, gamma=0.1, kernel=rbf; total time=  31.9s\n",
            "[CV] END .........................C=1, gamma=0.1, kernel=rbf; total time=  31.8s\n",
            "[CV] END ........................C=10, gamma=0.1, kernel=rbf; total time=  32.4s\n",
            "[CV] END ........................C=10, gamma=0.1, kernel=rbf; total time=  32.7s\n",
            "[CV] END ........................C=10, gamma=0.1, kernel=rbf; total time=  32.0s\n",
            "[CV] END ........................C=10, gamma=0.1, kernel=rbf; total time=  31.8s\n",
            "[CV] END ........................C=10, gamma=0.1, kernel=rbf; total time=  32.0s\n",
            "[CV] END .......................C=1, gamma=0.001, kernel=rbf; total time=  19.3s\n",
            "[CV] END .......................C=1, gamma=0.001, kernel=rbf; total time=  19.3s\n",
            "[CV] END .......................C=1, gamma=0.001, kernel=rbf; total time=  19.5s\n",
            "[CV] END .......................C=1, gamma=0.001, kernel=rbf; total time=  19.5s\n",
            "[CV] END .......................C=1, gamma=0.001, kernel=rbf; total time=  19.5s\n"
          ]
        }
      ]
    },
    {
      "cell_type": "code",
      "source": [
        "svm.get_params"
      ],
      "metadata": {
        "colab": {
          "base_uri": "https://localhost:8080/"
        },
        "id": "ip-FXhLLiGKf",
        "outputId": "50e1340c-dc36-4d3b-d92e-1a6f952118ff"
      },
      "execution_count": 12,
      "outputs": [
        {
          "output_type": "execute_result",
          "data": {
            "text/plain": [
              "<bound method BaseEstimator.get_params of SVC(C=1, gamma=0.001)>"
            ]
          },
          "metadata": {},
          "execution_count": 12
        }
      ]
    },
    {
      "cell_type": "code",
      "source": [
        "xx = aug_x_ts.squeeze(1)\n",
        "\n",
        "y_pred = svm.predict(xx)\n",
        "\n",
        "result_aug = cohen_kappa_score(aug_y_ts,y_pred,weights='quadratic')\n",
        "print(\"Kappa Score: {}\".format(result_aug))"
      ],
      "metadata": {
        "colab": {
          "base_uri": "https://localhost:8080/"
        },
        "id": "-P-5uP44cK1o",
        "outputId": "5608ca84-fbb6-402e-9060-3dc766f000b5"
      },
      "execution_count": 11,
      "outputs": [
        {
          "output_type": "stream",
          "name": "stdout",
          "text": [
            "Kappa Score: 0.6726539164190903\n"
          ]
        }
      ]
    },
    {
      "cell_type": "code",
      "execution_count": null,
      "metadata": {
        "id": "ykrPtV6-n3SI",
        "colab": {
          "base_uri": "https://localhost:8080/"
        },
        "outputId": "5bf82885-5f66-4fd7-800c-df34665a782c"
      },
      "outputs": [
        {
          "output_type": "stream",
          "name": "stdout",
          "text": [
            "Kappa Score: 0.8428486879965527\n"
          ]
        }
      ],
      "source": [
        "xx = X_test_nn.squeeze(1)\n",
        "\n",
        "y_pred = svm.predict(xx)\n",
        "\n",
        "result_aug = cohen_kappa_score(y_test_nn,y_pred,weights='quadratic')\n",
        "print(\"Kappa Score: {}\".format(result_aug))"
      ]
    }
  ],
  "metadata": {
    "colab": {
      "provenance": []
    },
    "kernelspec": {
      "display_name": "Python 3",
      "name": "python3"
    },
    "language_info": {
      "name": "python"
    }
  },
  "nbformat": 4,
  "nbformat_minor": 0
}