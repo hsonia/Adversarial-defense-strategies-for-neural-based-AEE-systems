{
  "nbformat": 4,
  "nbformat_minor": 0,
  "metadata": {
    "colab": {
      "provenance": []
    },
    "kernelspec": {
      "name": "python3",
      "display_name": "Python 3"
    },
    "language_info": {
      "name": "python"
    }
  },
  "cells": [
    {
      "cell_type": "code",
      "execution_count": null,
      "metadata": {
        "id": "VWelizyRCAlr"
      },
      "outputs": [],
      "source": [
        "import sklearn\n",
        "from sklearn.ensemble import RandomForestClassifier\n",
        "from sklearn.model_selection import cross_val_score\n",
        "from sklearn import metrics\n",
        "\n",
        "from sklearn.metrics import cohen_kappa_score\n",
        "import numpy as np"
      ]
    },
    {
      "cell_type": "code",
      "source": [
        "import pickle"
      ],
      "metadata": {
        "id": "FN9bzjOrCSBr"
      },
      "execution_count": null,
      "outputs": []
    },
    {
      "cell_type": "code",
      "source": [
        "with open('org_glv_w2v.pkl', 'rb') as file:\n",
        "  glv_vec = pickle.load(file)\n",
        "  w2v_vec = pickle.load(file)\n",
        "  y = pickle.load(file)\n",
        "  random_state = pickle.load(file)\n",
        "  test_size = pickle.load(file)\n",
        "file.close()"
      ],
      "metadata": {
        "id": "OnkvyCNQCTQk"
      },
      "execution_count": null,
      "outputs": []
    },
    {
      "cell_type": "code",
      "source": [
        "with open('org_gen_aug_w2v.pkl', 'rb') as file:\n",
        "  new_x_train_w2v = pickle.load(file)\n",
        "  new_y_train_w2v = pickle.load(file)\n",
        "  aug_vec_w2v = pickle.load(file)\n",
        "  aug_y_w2v = pickle.load(file)\n",
        "file.close()"
      ],
      "metadata": {
        "id": "Ctq_yk7tCUZD"
      },
      "execution_count": null,
      "outputs": []
    },
    {
      "cell_type": "code",
      "source": [
        "from sklearn.model_selection import RandomizedSearchCV\n"
      ],
      "metadata": {
        "id": "3zWlmss8CWLI"
      },
      "execution_count": null,
      "outputs": []
    },
    {
      "cell_type": "code",
      "source": [
        "from sklearn.model_selection import StratifiedKFold\n",
        "from sklearn.model_selection import train_test_split"
      ],
      "metadata": {
        "id": "SyR2hFU9CXQ7"
      },
      "execution_count": null,
      "outputs": []
    },
    {
      "cell_type": "code",
      "source": [
        "X_train_w2v, X_test_w2v, y_train_w2v, y_test_w2v = train_test_split(w2v_vec, y, test_size=0.25, random_state=41)\n"
      ],
      "metadata": {
        "id": "cUj_Y35JCb5J"
      },
      "execution_count": null,
      "outputs": []
    },
    {
      "cell_type": "code",
      "source": [
        "param_grid = {'bootstrap': [True, False],\n",
        " 'max_depth': [6, 7, 8, None],\n",
        " 'max_features': ['auto', 'sqrt'],\n",
        " 'n_estimators': [200, 400, 600, 800, 1000]}"
      ],
      "metadata": {
        "id": "sFpkk-YSCc_e"
      },
      "execution_count": null,
      "outputs": []
    },
    {
      "cell_type": "code",
      "source": [
        "xx = X_train_w2v.squeeze(1)\n",
        "rnd_search_w2v = RandomizedSearchCV(RandomForestClassifier(), param_grid, refit=True, verbose=2)\n",
        "rnd_search_w2v.fit(xx, y_train_w2v)\n",
        "random_forest_w2v = rnd_search_w2v.best_estimator_"
      ],
      "metadata": {
        "colab": {
          "base_uri": "https://localhost:8080/"
        },
        "id": "Ob7M181SwdXt",
        "outputId": "b81fd88b-13cd-4831-dcda-8d032465728d"
      },
      "execution_count": null,
      "outputs": [
        {
          "output_type": "stream",
          "name": "stdout",
          "text": [
            "Fitting 5 folds for each of 10 candidates, totalling 50 fits\n",
            "[CV] END bootstrap=True, max_depth=6, max_features=auto, n_estimators=1000; total time=  57.5s\n",
            "[CV] END bootstrap=True, max_depth=6, max_features=auto, n_estimators=1000; total time=  57.2s\n",
            "[CV] END bootstrap=True, max_depth=6, max_features=auto, n_estimators=1000; total time=  59.0s\n",
            "[CV] END bootstrap=True, max_depth=6, max_features=auto, n_estimators=1000; total time=  57.2s\n",
            "[CV] END bootstrap=True, max_depth=6, max_features=auto, n_estimators=1000; total time=  57.3s\n",
            "[CV] END bootstrap=True, max_depth=8, max_features=auto, n_estimators=200; total time=  14.5s\n",
            "[CV] END bootstrap=True, max_depth=8, max_features=auto, n_estimators=200; total time=  14.5s\n",
            "[CV] END bootstrap=True, max_depth=8, max_features=auto, n_estimators=200; total time=  14.5s\n",
            "[CV] END bootstrap=True, max_depth=8, max_features=auto, n_estimators=200; total time=  14.5s\n",
            "[CV] END bootstrap=True, max_depth=8, max_features=auto, n_estimators=200; total time=  14.5s\n",
            "[CV] END bootstrap=True, max_depth=6, max_features=sqrt, n_estimators=200; total time=  11.5s\n",
            "[CV] END bootstrap=True, max_depth=6, max_features=sqrt, n_estimators=200; total time=  11.5s\n",
            "[CV] END bootstrap=True, max_depth=6, max_features=sqrt, n_estimators=200; total time=  11.5s\n",
            "[CV] END bootstrap=True, max_depth=6, max_features=sqrt, n_estimators=200; total time=  11.5s\n",
            "[CV] END bootstrap=True, max_depth=6, max_features=sqrt, n_estimators=200; total time=  11.5s\n",
            "[CV] END bootstrap=True, max_depth=6, max_features=auto, n_estimators=200; total time=  11.5s\n",
            "[CV] END bootstrap=True, max_depth=6, max_features=auto, n_estimators=200; total time=  13.2s\n",
            "[CV] END bootstrap=True, max_depth=6, max_features=auto, n_estimators=200; total time=  11.5s\n",
            "[CV] END bootstrap=True, max_depth=6, max_features=auto, n_estimators=200; total time=  11.6s\n",
            "[CV] END bootstrap=True, max_depth=6, max_features=auto, n_estimators=200; total time=  11.5s\n",
            "[CV] END bootstrap=False, max_depth=6, max_features=sqrt, n_estimators=800; total time= 1.2min\n",
            "[CV] END bootstrap=False, max_depth=6, max_features=sqrt, n_estimators=800; total time= 1.2min\n",
            "[CV] END bootstrap=False, max_depth=6, max_features=sqrt, n_estimators=800; total time= 1.2min\n",
            "[CV] END bootstrap=False, max_depth=6, max_features=sqrt, n_estimators=800; total time= 1.3min\n",
            "[CV] END bootstrap=False, max_depth=6, max_features=sqrt, n_estimators=800; total time= 1.2min\n",
            "[CV] END bootstrap=True, max_depth=8, max_features=sqrt, n_estimators=200; total time=  14.4s\n",
            "[CV] END bootstrap=True, max_depth=8, max_features=sqrt, n_estimators=200; total time=  14.4s\n",
            "[CV] END bootstrap=True, max_depth=8, max_features=sqrt, n_estimators=200; total time=  14.5s\n",
            "[CV] END bootstrap=True, max_depth=8, max_features=sqrt, n_estimators=200; total time=  14.5s\n",
            "[CV] END bootstrap=True, max_depth=8, max_features=sqrt, n_estimators=200; total time=  14.5s\n",
            "[CV] END bootstrap=True, max_depth=6, max_features=auto, n_estimators=800; total time=  45.9s\n",
            "[CV] END bootstrap=True, max_depth=6, max_features=auto, n_estimators=800; total time=  45.8s\n",
            "[CV] END bootstrap=True, max_depth=6, max_features=auto, n_estimators=800; total time=  47.5s\n",
            "[CV] END bootstrap=True, max_depth=6, max_features=auto, n_estimators=800; total time=  45.8s\n",
            "[CV] END bootstrap=True, max_depth=6, max_features=auto, n_estimators=800; total time=  45.8s\n",
            "[CV] END bootstrap=False, max_depth=7, max_features=auto, n_estimators=800; total time= 1.4min\n",
            "[CV] END bootstrap=False, max_depth=7, max_features=auto, n_estimators=800; total time= 1.4min\n",
            "[CV] END bootstrap=False, max_depth=7, max_features=auto, n_estimators=800; total time= 1.4min\n",
            "[CV] END bootstrap=False, max_depth=7, max_features=auto, n_estimators=800; total time= 1.4min\n",
            "[CV] END bootstrap=False, max_depth=7, max_features=auto, n_estimators=800; total time= 1.4min\n",
            "[CV] END bootstrap=False, max_depth=None, max_features=auto, n_estimators=400; total time= 1.4min\n",
            "[CV] END bootstrap=False, max_depth=None, max_features=auto, n_estimators=400; total time= 1.3min\n",
            "[CV] END bootstrap=False, max_depth=None, max_features=auto, n_estimators=400; total time= 1.3min\n",
            "[CV] END bootstrap=False, max_depth=None, max_features=auto, n_estimators=400; total time= 1.3min\n",
            "[CV] END bootstrap=False, max_depth=None, max_features=auto, n_estimators=400; total time= 1.4min\n",
            "[CV] END bootstrap=False, max_depth=8, max_features=sqrt, n_estimators=1000; total time= 1.9min\n",
            "[CV] END bootstrap=False, max_depth=8, max_features=sqrt, n_estimators=1000; total time= 2.0min\n",
            "[CV] END bootstrap=False, max_depth=8, max_features=sqrt, n_estimators=1000; total time= 2.0min\n",
            "[CV] END bootstrap=False, max_depth=8, max_features=sqrt, n_estimators=1000; total time= 1.9min\n",
            "[CV] END bootstrap=False, max_depth=8, max_features=sqrt, n_estimators=1000; total time= 2.0min\n"
          ]
        }
      ]
    },
    {
      "cell_type": "code",
      "source": [
        "random_forest_w2v.get_params"
      ],
      "metadata": {
        "colab": {
          "base_uri": "https://localhost:8080/"
        },
        "id": "vbw9NMnn8eDy",
        "outputId": "40e0290a-e33e-4e5e-fd26-b46da7acbfe8"
      },
      "execution_count": null,
      "outputs": [
        {
          "output_type": "execute_result",
          "data": {
            "text/plain": [
              "<bound method BaseEstimator.get_params of RandomForestClassifier(bootstrap=False, n_estimators=400)>"
            ]
          },
          "metadata": {},
          "execution_count": 13
        }
      ]
    },
    {
      "cell_type": "code",
      "source": [
        "xx = X_test_w2v.squeeze(1)\n",
        "\n",
        "y_pred = random_forest_w2v.predict(xx)\n",
        "\n",
        "result_aug = cohen_kappa_score(y_test_w2v,y_pred,weights='quadratic')\n",
        "print(\"Kappa Score: {}\".format(result_aug))"
      ],
      "metadata": {
        "colab": {
          "base_uri": "https://localhost:8080/"
        },
        "id": "vjeBQrox8UvN",
        "outputId": "36227561-d4af-4d87-977f-c41276404b4a"
      },
      "execution_count": null,
      "outputs": [
        {
          "output_type": "stream",
          "name": "stdout",
          "text": [
            "Kappa Score: 0.6735341384364126\n"
          ]
        }
      ]
    },
    {
      "cell_type": "code",
      "source": [
        "_, new_x_test_w2v, _, new_y_test_w2v = train_test_split(new_x_train_w2v, new_y_train_w2v, test_size=0.25, random_state=41)\n",
        "xx = new_x_test_w2v.squeeze(1)\n",
        "\n",
        "y_pred = random_forest_w2v.predict(xx)\n",
        "\n",
        "result_aug = cohen_kappa_score(new_y_test_w2v,y_pred,weights='quadratic')\n",
        "print(\"Kappa Score: {}\".format(result_aug))"
      ],
      "metadata": {
        "colab": {
          "base_uri": "https://localhost:8080/"
        },
        "id": "hpaWOtjXCfzK",
        "outputId": "bd7b391c-c001-4333-ddf7-3602d51cd056"
      },
      "execution_count": null,
      "outputs": [
        {
          "output_type": "stream",
          "name": "stdout",
          "text": [
            "Kappa Score: 0.7003152084111708\n"
          ]
        }
      ]
    },
    {
      "cell_type": "code",
      "source": [
        "aug_x_tr, aug_x_ts, aug_y_tr, aug_y_ts = train_test_split(aug_vec_w2v, aug_y_w2v, test_size=0.2, random_state=41)\n",
        "xx = aug_x_tr.squeeze(1)\n",
        "rnd_search_w2v = RandomizedSearchCV(RandomForestClassifier(), param_grid, refit=True, verbose=2)\n",
        "rnd_search_w2v.fit(xx, aug_y_tr)\n",
        "random_forest_w2v = rnd_search_w2v.best_estimator_"
      ],
      "metadata": {
        "colab": {
          "base_uri": "https://localhost:8080/"
        },
        "id": "iNOwgPl58i1N",
        "outputId": "11dcc77d-3c48-42eb-e831-3038590231c0"
      },
      "execution_count": null,
      "outputs": [
        {
          "output_type": "stream",
          "name": "stdout",
          "text": [
            "Fitting 5 folds for each of 10 candidates, totalling 50 fits\n",
            "[CV] END bootstrap=True, max_depth=8, max_features=auto, n_estimators=1000; total time= 2.2min\n",
            "[CV] END bootstrap=True, max_depth=8, max_features=auto, n_estimators=1000; total time= 2.2min\n",
            "[CV] END bootstrap=True, max_depth=8, max_features=auto, n_estimators=1000; total time= 2.2min\n",
            "[CV] END bootstrap=True, max_depth=8, max_features=auto, n_estimators=1000; total time= 2.2min\n",
            "[CV] END bootstrap=True, max_depth=8, max_features=auto, n_estimators=1000; total time= 2.2min\n",
            "[CV] END bootstrap=False, max_depth=6, max_features=sqrt, n_estimators=800; total time= 2.2min\n",
            "[CV] END bootstrap=False, max_depth=6, max_features=sqrt, n_estimators=800; total time= 2.2min\n",
            "[CV] END bootstrap=False, max_depth=6, max_features=sqrt, n_estimators=800; total time= 2.2min\n",
            "[CV] END bootstrap=False, max_depth=6, max_features=sqrt, n_estimators=800; total time= 2.2min\n",
            "[CV] END bootstrap=False, max_depth=6, max_features=sqrt, n_estimators=800; total time= 2.2min\n",
            "[CV] END bootstrap=False, max_depth=8, max_features=auto, n_estimators=200; total time=  42.1s\n",
            "[CV] END bootstrap=False, max_depth=8, max_features=auto, n_estimators=200; total time=  41.9s\n",
            "[CV] END bootstrap=False, max_depth=8, max_features=auto, n_estimators=200; total time=  42.0s\n",
            "[CV] END bootstrap=False, max_depth=8, max_features=auto, n_estimators=200; total time=  42.0s\n",
            "[CV] END bootstrap=False, max_depth=8, max_features=auto, n_estimators=200; total time=  41.9s\n",
            "[CV] END bootstrap=True, max_depth=7, max_features=auto, n_estimators=1000; total time= 1.9min\n",
            "[CV] END bootstrap=True, max_depth=7, max_features=auto, n_estimators=1000; total time= 2.0min\n",
            "[CV] END bootstrap=True, max_depth=7, max_features=auto, n_estimators=1000; total time= 1.9min\n",
            "[CV] END bootstrap=True, max_depth=7, max_features=auto, n_estimators=1000; total time= 1.9min\n",
            "[CV] END bootstrap=True, max_depth=7, max_features=auto, n_estimators=1000; total time= 2.0min\n",
            "[CV] END bootstrap=False, max_depth=None, max_features=sqrt, n_estimators=1000; total time= 6.1min\n",
            "[CV] END bootstrap=False, max_depth=None, max_features=sqrt, n_estimators=1000; total time= 6.1min\n",
            "[CV] END bootstrap=False, max_depth=None, max_features=sqrt, n_estimators=1000; total time= 6.1min\n",
            "[CV] END bootstrap=False, max_depth=None, max_features=sqrt, n_estimators=1000; total time= 6.1min\n",
            "[CV] END bootstrap=False, max_depth=None, max_features=sqrt, n_estimators=1000; total time= 6.1min\n",
            "[CV] END bootstrap=True, max_depth=None, max_features=sqrt, n_estimators=200; total time=  43.7s\n",
            "[CV] END bootstrap=True, max_depth=None, max_features=sqrt, n_estimators=200; total time=  43.5s\n",
            "[CV] END bootstrap=True, max_depth=None, max_features=sqrt, n_estimators=200; total time=  43.3s\n",
            "[CV] END bootstrap=True, max_depth=None, max_features=sqrt, n_estimators=200; total time=  43.9s\n",
            "[CV] END bootstrap=True, max_depth=None, max_features=sqrt, n_estimators=200; total time=  44.8s\n",
            "[CV] END bootstrap=True, max_depth=6, max_features=auto, n_estimators=600; total time= 1.0min\n",
            "[CV] END bootstrap=True, max_depth=6, max_features=auto, n_estimators=600; total time= 1.0min\n",
            "[CV] END bootstrap=True, max_depth=6, max_features=auto, n_estimators=600; total time= 1.0min\n",
            "[CV] END bootstrap=True, max_depth=6, max_features=auto, n_estimators=600; total time= 1.0min\n",
            "[CV] END bootstrap=True, max_depth=6, max_features=auto, n_estimators=600; total time= 1.0min\n",
            "[CV] END bootstrap=True, max_depth=None, max_features=auto, n_estimators=200; total time=  43.8s\n",
            "[CV] END bootstrap=True, max_depth=None, max_features=auto, n_estimators=200; total time=  44.8s\n",
            "[CV] END bootstrap=True, max_depth=None, max_features=auto, n_estimators=200; total time=  43.6s\n",
            "[CV] END bootstrap=True, max_depth=None, max_features=auto, n_estimators=200; total time=  43.8s\n",
            "[CV] END bootstrap=True, max_depth=None, max_features=auto, n_estimators=200; total time=  43.8s\n",
            "[CV] END bootstrap=True, max_depth=6, max_features=auto, n_estimators=800; total time= 1.4min\n",
            "[CV] END bootstrap=True, max_depth=6, max_features=auto, n_estimators=800; total time= 1.4min\n",
            "[CV] END bootstrap=True, max_depth=6, max_features=auto, n_estimators=800; total time= 1.4min\n",
            "[CV] END bootstrap=True, max_depth=6, max_features=auto, n_estimators=800; total time= 1.4min\n",
            "[CV] END bootstrap=True, max_depth=6, max_features=auto, n_estimators=800; total time= 1.4min\n",
            "[CV] END bootstrap=True, max_depth=6, max_features=sqrt, n_estimators=400; total time=  40.6s\n",
            "[CV] END bootstrap=True, max_depth=6, max_features=sqrt, n_estimators=400; total time=  40.5s\n",
            "[CV] END bootstrap=True, max_depth=6, max_features=sqrt, n_estimators=400; total time=  40.6s\n",
            "[CV] END bootstrap=True, max_depth=6, max_features=sqrt, n_estimators=400; total time=  40.6s\n",
            "[CV] END bootstrap=True, max_depth=6, max_features=sqrt, n_estimators=400; total time=  40.6s\n"
          ]
        }
      ]
    },
    {
      "cell_type": "code",
      "source": [
        "random_forest_w2v.get_params"
      ],
      "metadata": {
        "id": "lBrA_LyRS3ds",
        "outputId": "02554c75-18f5-4003-f157-a4dfab06d56c",
        "colab": {
          "base_uri": "https://localhost:8080/"
        }
      },
      "execution_count": null,
      "outputs": [
        {
          "output_type": "execute_result",
          "data": {
            "text/plain": [
              "<bound method BaseEstimator.get_params of RandomForestClassifier(bootstrap=False, max_features='sqrt', n_estimators=1000)>"
            ]
          },
          "metadata": {},
          "execution_count": 16
        }
      ]
    },
    {
      "cell_type": "code",
      "source": [
        "xx = aug_x_ts.squeeze(1)\n",
        "\n",
        "y_pred = random_forest_w2v.predict(xx)\n",
        "\n",
        "result_aug = cohen_kappa_score(aug_y_ts,y_pred,weights='quadratic')\n",
        "print(\"Kappa Score: {}\".format(result_aug))"
      ],
      "metadata": {
        "colab": {
          "base_uri": "https://localhost:8080/"
        },
        "id": "e1vIuEERS0TV",
        "outputId": "9d3e7107-c174-4dd5-dd9d-6d51fb943737"
      },
      "execution_count": null,
      "outputs": [
        {
          "output_type": "stream",
          "name": "stdout",
          "text": [
            "Kappa Score: 0.8001572124102588\n"
          ]
        }
      ]
    },
    {
      "cell_type": "code",
      "source": [
        "xx = X_test_w2v.squeeze(1)\n",
        "\n",
        "y_pred = random_forest_w2v.predict(xx)\n",
        "\n",
        "result_aug = cohen_kappa_score(y_test_w2v,y_pred,weights='quadratic')\n",
        "print(\"Kappa Score: {}\".format(result_aug))"
      ],
      "metadata": {
        "id": "wmA47ztYS6t0",
        "outputId": "b9948850-78cd-4e2b-e5c2-5e36c35bf7bb",
        "colab": {
          "base_uri": "https://localhost:8080/"
        }
      },
      "execution_count": null,
      "outputs": [
        {
          "output_type": "stream",
          "name": "stdout",
          "text": [
            "Kappa Score: 0.6891565049490831\n"
          ]
        }
      ]
    },
    {
      "cell_type": "code",
      "source": [],
      "metadata": {
        "id": "gIC-uEAlq-VI"
      },
      "execution_count": null,
      "outputs": []
    }
  ]
}