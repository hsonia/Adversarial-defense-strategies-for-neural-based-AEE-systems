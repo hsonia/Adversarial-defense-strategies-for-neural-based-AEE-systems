{
  "nbformat": 4,
  "nbformat_minor": 0,
  "metadata": {
    "colab": {
      "provenance": []
    },
    "kernelspec": {
      "name": "python3",
      "display_name": "Python 3"
    },
    "language_info": {
      "name": "python"
    }
  },
  "cells": [
    {
      "cell_type": "code",
      "execution_count": 1,
      "metadata": {
        "id": "8WPmHR-BOvQm"
      },
      "outputs": [],
      "source": [
        "from sklearn.ensemble import RandomForestClassifier\n",
        "import sklearn\n",
        "from sklearn.model_selection import cross_val_score\n",
        "from sklearn import metrics\n",
        "\n",
        "from sklearn.metrics import cohen_kappa_score\n",
        "import numpy as np\n",
        "import pickle"
      ]
    },
    {
      "cell_type": "code",
      "source": [
        "with open('tfidf_bows.pkl', 'rb') as file:\n",
        "  bows = pickle.load(file)\n",
        "  y = pickle.load(file)\n",
        "  random_state = pickle.load(file)\n",
        "  test_size = pickle.load(file)\n",
        "file.close()"
      ],
      "metadata": {
        "id": "PdZ9N_aTOz0q"
      },
      "execution_count": 2,
      "outputs": []
    },
    {
      "cell_type": "code",
      "source": [
        "from sklearn.model_selection import GridSearchCV, RandomizedSearchCV\n",
        "from sklearn.model_selection import StratifiedKFold\n",
        "from sklearn.model_selection import train_test_split"
      ],
      "metadata": {
        "id": "bZQ1ijMRPJj0"
      },
      "execution_count": 3,
      "outputs": []
    },
    {
      "cell_type": "code",
      "source": [
        "file = open('tfidf_bows.pkl','wb')\n",
        "pickle.dump(bows, file)\n",
        "pickle.dump(y, file)\n",
        "pickle.dump(random_state, file)\n",
        "pickle.dump(test_size, file)\n",
        "file.close()"
      ],
      "metadata": {
        "id": "xSv8NQ9fQXBU"
      },
      "execution_count": 4,
      "outputs": []
    },
    {
      "cell_type": "code",
      "source": [
        "X_train, X_test, y_train, y_test = train_test_split(bows, y, test_size=0.25, random_state=41, stratify=y)"
      ],
      "metadata": {
        "id": "e_7UxHYcPMrU"
      },
      "execution_count": 5,
      "outputs": []
    },
    {
      "cell_type": "code",
      "source": [
        "param_grid = {'bootstrap': [True, False],\n",
        " 'max_depth': [1,2,3,4,5,6,7,8,None],\n",
        " 'max_features': ['auto', 'sqrt'],\n",
        " 'n_estimators': [200, 400, 600, 800, 1000]}"
      ],
      "metadata": {
        "id": "1PZImuBzPNfn"
      },
      "execution_count": 6,
      "outputs": []
    },
    {
      "cell_type": "code",
      "source": [
        "rnd_search = RandomizedSearchCV(RandomForestClassifier(), param_grid, refit=True, verbose=2)\n",
        "rnd_search.fit(X_train, y_train)\n",
        "random_forest = rnd_search.best_estimator_"
      ],
      "metadata": {
        "colab": {
          "base_uri": "https://localhost:8080/"
        },
        "id": "745zRatoQt0r",
        "outputId": "8043a3b7-c194-4d53-e43b-c38a6ebe5a5d"
      },
      "execution_count": 22,
      "outputs": [
        {
          "output_type": "stream",
          "name": "stdout",
          "text": [
            "Fitting 5 folds for each of 10 candidates, totalling 50 fits\n",
            "[CV] END bootstrap=False, max_depth=1, max_features=auto, n_estimators=200; total time=   1.0s\n",
            "[CV] END bootstrap=False, max_depth=1, max_features=auto, n_estimators=200; total time=   1.0s\n",
            "[CV] END bootstrap=False, max_depth=1, max_features=auto, n_estimators=200; total time=   1.4s\n",
            "[CV] END bootstrap=False, max_depth=1, max_features=auto, n_estimators=200; total time=   0.8s\n",
            "[CV] END bootstrap=False, max_depth=1, max_features=auto, n_estimators=200; total time=   0.7s\n",
            "[CV] END bootstrap=True, max_depth=None, max_features=sqrt, n_estimators=200; total time=  27.2s\n",
            "[CV] END bootstrap=True, max_depth=None, max_features=sqrt, n_estimators=200; total time=  26.0s\n",
            "[CV] END bootstrap=True, max_depth=None, max_features=sqrt, n_estimators=200; total time=  26.6s\n",
            "[CV] END bootstrap=True, max_depth=None, max_features=sqrt, n_estimators=200; total time=  26.1s\n",
            "[CV] END bootstrap=True, max_depth=None, max_features=sqrt, n_estimators=200; total time=  26.2s\n",
            "[CV] END bootstrap=True, max_depth=3, max_features=sqrt, n_estimators=800; total time=   4.2s\n",
            "[CV] END bootstrap=True, max_depth=3, max_features=sqrt, n_estimators=800; total time=   4.2s\n",
            "[CV] END bootstrap=True, max_depth=3, max_features=sqrt, n_estimators=800; total time=   4.2s\n",
            "[CV] END bootstrap=True, max_depth=3, max_features=sqrt, n_estimators=800; total time=   4.3s\n",
            "[CV] END bootstrap=True, max_depth=3, max_features=sqrt, n_estimators=800; total time=   4.4s\n",
            "[CV] END bootstrap=False, max_depth=6, max_features=sqrt, n_estimators=800; total time=   8.2s\n",
            "[CV] END bootstrap=False, max_depth=6, max_features=sqrt, n_estimators=800; total time=   9.1s\n",
            "[CV] END bootstrap=False, max_depth=6, max_features=sqrt, n_estimators=800; total time=   9.0s\n",
            "[CV] END bootstrap=False, max_depth=6, max_features=sqrt, n_estimators=800; total time=   8.0s\n",
            "[CV] END bootstrap=False, max_depth=6, max_features=sqrt, n_estimators=800; total time=   8.0s\n",
            "[CV] END bootstrap=False, max_depth=3, max_features=sqrt, n_estimators=200; total time=   1.2s\n",
            "[CV] END bootstrap=False, max_depth=3, max_features=sqrt, n_estimators=200; total time=   1.2s\n",
            "[CV] END bootstrap=False, max_depth=3, max_features=sqrt, n_estimators=200; total time=   1.1s\n",
            "[CV] END bootstrap=False, max_depth=3, max_features=sqrt, n_estimators=200; total time=   1.1s\n",
            "[CV] END bootstrap=False, max_depth=3, max_features=sqrt, n_estimators=200; total time=   1.1s\n",
            "[CV] END bootstrap=False, max_depth=2, max_features=auto, n_estimators=400; total time=   1.8s\n",
            "[CV] END bootstrap=False, max_depth=2, max_features=auto, n_estimators=400; total time=   1.8s\n",
            "[CV] END bootstrap=False, max_depth=2, max_features=auto, n_estimators=400; total time=   1.8s\n",
            "[CV] END bootstrap=False, max_depth=2, max_features=auto, n_estimators=400; total time=   1.8s\n",
            "[CV] END bootstrap=False, max_depth=2, max_features=auto, n_estimators=400; total time=   1.8s\n",
            "[CV] END bootstrap=False, max_depth=4, max_features=sqrt, n_estimators=1000; total time=   7.0s\n",
            "[CV] END bootstrap=False, max_depth=4, max_features=sqrt, n_estimators=1000; total time=   7.0s\n",
            "[CV] END bootstrap=False, max_depth=4, max_features=sqrt, n_estimators=1000; total time=   6.9s\n",
            "[CV] END bootstrap=False, max_depth=4, max_features=sqrt, n_estimators=1000; total time=   6.9s\n",
            "[CV] END bootstrap=False, max_depth=4, max_features=sqrt, n_estimators=1000; total time=   6.9s\n",
            "[CV] END bootstrap=True, max_depth=6, max_features=auto, n_estimators=600; total time=   4.8s\n",
            "[CV] END bootstrap=True, max_depth=6, max_features=auto, n_estimators=600; total time=   4.9s\n",
            "[CV] END bootstrap=True, max_depth=6, max_features=auto, n_estimators=600; total time=   4.8s\n",
            "[CV] END bootstrap=True, max_depth=6, max_features=auto, n_estimators=600; total time=   4.9s\n",
            "[CV] END bootstrap=True, max_depth=6, max_features=auto, n_estimators=600; total time=   4.9s\n",
            "[CV] END bootstrap=False, max_depth=4, max_features=auto, n_estimators=600; total time=   4.2s\n",
            "[CV] END bootstrap=False, max_depth=4, max_features=auto, n_estimators=600; total time=   4.2s\n",
            "[CV] END bootstrap=False, max_depth=4, max_features=auto, n_estimators=600; total time=   4.3s\n",
            "[CV] END bootstrap=False, max_depth=4, max_features=auto, n_estimators=600; total time=   4.2s\n",
            "[CV] END bootstrap=False, max_depth=4, max_features=auto, n_estimators=600; total time=   4.2s\n",
            "[CV] END bootstrap=True, max_depth=1, max_features=sqrt, n_estimators=600; total time=   2.1s\n",
            "[CV] END bootstrap=True, max_depth=1, max_features=sqrt, n_estimators=600; total time=   2.1s\n",
            "[CV] END bootstrap=True, max_depth=1, max_features=sqrt, n_estimators=600; total time=   2.1s\n",
            "[CV] END bootstrap=True, max_depth=1, max_features=sqrt, n_estimators=600; total time=   2.1s\n",
            "[CV] END bootstrap=True, max_depth=1, max_features=sqrt, n_estimators=600; total time=   2.2s\n"
          ]
        }
      ]
    },
    {
      "cell_type": "code",
      "source": [
        "random_forest.get_params"
      ],
      "metadata": {
        "colab": {
          "base_uri": "https://localhost:8080/"
        },
        "id": "_65AchkRQ8DH",
        "outputId": "f1ed81ab-efe7-402b-fd2b-2d39e6e5b6d6"
      },
      "execution_count": 23,
      "outputs": [
        {
          "output_type": "execute_result",
          "data": {
            "text/plain": [
              "<bound method BaseEstimator.get_params of RandomForestClassifier(max_features='sqrt', n_estimators=200)>"
            ]
          },
          "metadata": {},
          "execution_count": 23
        }
      ]
    },
    {
      "cell_type": "code",
      "source": [
        "from sklearn.model_selection import cross_val_score\n",
        "scores = cross_val_score(random_forest, X_train, y_train, cv=5)"
      ],
      "metadata": {
        "id": "uHLKsXvSXD6Y"
      },
      "execution_count": 7,
      "outputs": []
    },
    {
      "cell_type": "code",
      "source": [
        "scores.mean(), scores.std()"
      ],
      "metadata": {
        "colab": {
          "base_uri": "https://localhost:8080/"
        },
        "id": "_ZiGqhmIXQYQ",
        "outputId": "206cc2c8-6dab-4738-ba50-d21084dfb69e"
      },
      "execution_count": 8,
      "outputs": [
        {
          "output_type": "execute_result",
          "data": {
            "text/plain": [
              "(0.5279309736321504, 0.010736355309575157)"
            ]
          },
          "metadata": {},
          "execution_count": 8
        }
      ]
    },
    {
      "cell_type": "code",
      "source": [
        "y_pred = random_forest.predict(X_test)\n",
        "\n",
        "result_aug = cohen_kappa_score(y_test,y_pred,weights='quadratic')\n",
        "print(\"Kappa Score: {}\".format(result_aug))"
      ],
      "metadata": {
        "colab": {
          "base_uri": "https://localhost:8080/"
        },
        "id": "u6Ht2aumS2_4",
        "outputId": "e0e4e877-ed23-4860-ff7d-485885f61c1c"
      },
      "execution_count": 24,
      "outputs": [
        {
          "output_type": "stream",
          "name": "stdout",
          "text": [
            "Kappa Score: 0.6917080466904602\n"
          ]
        }
      ]
    },
    {
      "cell_type": "code",
      "source": [],
      "metadata": {
        "id": "ysmygVTHTBhl"
      },
      "execution_count": null,
      "outputs": []
    }
  ]
}